{
 "cells": [
  {
   "cell_type": "code",
   "execution_count": 22,
   "metadata": {},
   "outputs": [],
   "source": [
    "#%matplotlib inline\n",
    "import pickle\n",
    "import numpy as np\n",
    "import pandas as pd\n",
    "import matplotlib\n",
    "import matplotlib.pyplot as plt\n",
    "import pandas as pd\n",
    "import csv\n",
    "from sklearn.model_selection import train_test_split\n",
    "\n",
    "#from sklearn.datasets import fetch_mldata\n",
    "import seaborn as sns\n",
    "import sklearn as sklearn\n",
    "from sklearn.neighbors import KNeighborsClassifier\n",
    "import sklearn.linear_model as skl_lm\n",
    "from sklearn.discriminant_analysis import LinearDiscriminantAnalysis\n",
    "from sklearn.discriminant_analysis import QuadraticDiscriminantAnalysis\n",
    "from sklearn.metrics import accuracy_score\n",
    "from sklearn.metrics import confusion_matrix\n",
    "from sklearn.metrics import roc_curve\n",
    "from sklearn.metrics import classification_report\n",
    "\n",
    "from sklearn.model_selection import cross_val_score\n",
    "from sklearn.model_selection import cross_val_predict\n",
    "from sklearn.tree import DecisionTreeClassifier # Import Decision Tree Classifier\n",
    "\n",
    "import graphviz \n",
    "import statsmodels.api as sm\n",
    "from sklearn import tree\n",
    "import xgboost as xgb\n",
    "from sklearn.decomposition import PCA"
   ]
  },
  {
   "cell_type": "code",
   "execution_count": 23,
   "metadata": {},
   "outputs": [
    {
     "data": {
      "text/plain": [
       "\"\\nwith open(s3_path, 'rb') as file:\\n    s3_data = pickle.load(file, encoding='latin1')\\n    \\nwith open(s4_path, 'rb') as file:\\n    s2_data = pickle.load(file, encoding='latin1')\\nwith open(s5_path, 'rb') as file:\\n    s2_data = pickle.load(file, encoding='latin1')\\nwith open(s6_path, 'rb') as file:\\n    s2_data = pickle.load(file, encoding='latin1')\\nwith open(s17_path, 'rb') as file:\\n    s2_data = pickle.load(file, encoding='latin1')\\n\""
      ]
     },
     "execution_count": 23,
     "metadata": {},
     "output_type": "execute_result"
    }
   ],
   "source": [
    "\n",
    "data_set = 'C:\\\\Users\\\\ferri\\\\Downloads\\\\PoliTO\\\\Tesi\\\\DSs\\\\Emotion-Stress\\\\\\WESAD\\\\'\n",
    "s2_path = data_set + 'S2/S2.pkl'\n",
    "#DO-NOT enable all at once otherwise Laptop goes to sleep due to very huge data size.\n",
    "#s3_path = data_set + 'S3/S3.pkl'\n",
    "#s4_path = data_set + 'S4/S4.pkl'\n",
    "#s5_path = data_set + 'S5/S5.pkl'\n",
    "#s6_path = data_set + 'S6/S6.pkl'\n",
    "#s7_path = data_set + 'S7/S7.pkl\n",
    "#s8_path = data_set + 'S8/S8.pkl'\n",
    "#s9_path = data_set + 'S9/S9.pkl'\n",
    "#s10_path = data_set + 'S10/S10.pkl'\n",
    "#s11_path = data_set + 'S11/S11.pkl'\n",
    "#s13_path = data_set + 'S13/S13.pkl'\n",
    "#s14_path = data_set + 'S14/S14.pkl'\n",
    "#s15_path = data_set + 'S15/S15.pkl'\n",
    "#s16_path = data_set + 'S16/S16.pkl'\n",
    "#s17_path = data_set + 'S17/S17.pkl'\n",
    "\n",
    "with open(s2_path, 'rb') as file:\n",
    "    s2_data = pickle.load(file, encoding='latin1')\n",
    "'''\n",
    "with open(s3_path, 'rb') as file:\n",
    "    s3_data = pickle.load(file, encoding='latin1')\n",
    "    \n",
    "with open(s4_path, 'rb') as file:\n",
    "    s2_data = pickle.load(file, encoding='latin1')\n",
    "with open(s5_path, 'rb') as file:\n",
    "    s2_data = pickle.load(file, encoding='latin1')\n",
    "with open(s6_path, 'rb') as file:\n",
    "    s2_data = pickle.load(file, encoding='latin1')\n",
    "with open(s17_path, 'rb') as file:\n",
    "    s2_data = pickle.load(file, encoding='latin1')\n",
    "'''"
   ]
  },
  {
   "cell_type": "code",
   "execution_count": 24,
   "metadata": {},
   "outputs": [
    {
     "name": "stdout",
     "output_type": "stream",
     "text": [
      "Equated\n"
     ]
    }
   ],
   "source": [
    "c_ax=s2_data['signal']['chest']['ACC'][0:,0]#[baseline_to_plot]\n",
    "c_ay=s2_data['signal']['chest']['ACC'][0:,1]#[baseline_to_plot]#[0:100] # hundred values\n",
    "c_az=s2_data['signal']['chest']['ACC'][0:,2]#[baseline_to_plot]\n",
    "c_ecg=s2_data['signal']['chest']['ECG'][:,0]#[baseline_to_plot]\n",
    "c_emg=s2_data['signal']['chest']['EMG'][:,0]#[baseline_to_plot]\n",
    "c_eda=s2_data['signal']['chest']['EDA'][:,0]#[baseline_to_plot]\n",
    "c_temp=s2_data['signal']['chest']['Temp'][:,0]#[baseline_to_plot]\n",
    "c_resp=s2_data['signal']['chest']['Resp'][:,0]#[baseline_to_plot]\n",
    "w_ax=s2_data['signal']['wrist']['ACC'][0:,0]#[stress_to_plot]\n",
    "w_ay=s2_data['signal']['wrist']['ACC'][0:,1]#[stress_to_plot]\n",
    "w_az=s2_data['signal']['wrist']['ACC'][0:,2]#[stress_to_plot]\n",
    "w_bvp=s2_data['signal']['wrist']['BVP'][:,0]#[stress_to_plot]\n",
    "w_eda=s2_data['signal']['wrist']['EDA'][:,0]#[stress_to_plot]\n",
    "w_temp=s2_data['signal']['wrist']['TEMP'][:,0]#[stress_to_plot]\n",
    "w_label=s2_data['label']\n",
    "\n",
    "print(\"Equated\")"
   ]
  },
  {
   "cell_type": "code",
   "execution_count": 25,
   "metadata": {},
   "outputs": [
    {
     "name": "stdout",
     "output_type": "stream",
     "text": [
      "data frame combined\n"
     ]
    }
   ],
   "source": [
    "numpy_data1=np.array([c_ax, c_ay, c_az,c_ecg,c_emg,c_eda,c_temp,c_resp,w_label])\n",
    "numpy_data1=numpy_data1.T\n",
    "\n",
    "#df = pd.DataFrame(data=numpy_data1, columns=[\"c_ax\", \"c_ay\", \"c_az\",\"c_ecg\",\"c_emg\",\"c_eda\",\"c_temp\",\"c_resp\",\"w_ax\",\"w_ay\",\"w_az\",\"w_bvp\",\"w_eda\",\"w_temp\"],orient='index') \n",
    "df = pd.DataFrame(data=numpy_data1, columns=[\"c_ax\", \"c_ay\", \"c_az\",\"c_ecg\",\"c_emg\",\"c_eda\",\"c_temp\",\"c_resp\",\"w_label\"]) \n",
    "\n",
    "print(\"data frame combined\")\n",
    "\n"
   ]
  },
  {
   "cell_type": "code",
   "execution_count": 26,
   "metadata": {},
   "outputs": [
    {
     "data": {
      "text/plain": [
       "(4255300, 9)"
      ]
     },
     "metadata": {},
     "output_type": "display_data"
    },
    {
     "data": {
      "text/plain": [
       "<bound method DataFrame.info of            c_ax    c_ay    c_az     c_ecg     c_emg     c_eda     c_temp  \\\n",
       "0        0.9554 -0.2220 -0.5580  0.021423 -0.004440  5.250549  30.120758   \n",
       "1        0.9258 -0.2216 -0.5538  0.020325  0.004349  5.267334  30.129517   \n",
       "2        0.9082 -0.2196 -0.5392  0.016525  0.005173  5.243301  30.138214   \n",
       "3        0.8974 -0.2102 -0.5122  0.016708  0.007187  5.249405  30.129517   \n",
       "4        0.8882 -0.2036 -0.4824  0.011673 -0.015152  5.286407  30.130951   \n",
       "...         ...     ...     ...       ...       ...       ...        ...   \n",
       "4255295  0.8750 -0.1234 -0.2974 -0.013138  0.020370  0.400162  31.457733   \n",
       "4255296  0.8750 -0.1262 -0.2988 -0.010345  0.019592  0.355911  31.476898   \n",
       "4255297  0.8718 -0.1238 -0.3042 -0.005447 -0.017166  0.360489  31.459229   \n",
       "4255298  0.8730 -0.1234 -0.3026  0.000137 -0.028976  0.365829  31.484283   \n",
       "4255299  0.8702 -0.1220 -0.3022  0.004074 -0.023575  0.365448  31.456268   \n",
       "\n",
       "           c_resp  w_label  \n",
       "0       -1.148987      0.0  \n",
       "1       -1.124573      0.0  \n",
       "2       -1.152039      0.0  \n",
       "3       -1.158142      0.0  \n",
       "4       -1.161194      0.0  \n",
       "...           ...      ...  \n",
       "4255295 -1.063538      0.0  \n",
       "4255296 -1.106262      0.0  \n",
       "4255297 -1.103210      0.0  \n",
       "4255298 -1.086426      0.0  \n",
       "4255299 -1.097107      0.0  \n",
       "\n",
       "[4255300 rows x 9 columns]>"
      ]
     },
     "metadata": {},
     "output_type": "display_data"
    },
    {
     "data": {
      "text/plain": [
       "<bound method NDFrame.describe of            c_ax    c_ay    c_az     c_ecg     c_emg     c_eda     c_temp  \\\n",
       "0        0.9554 -0.2220 -0.5580  0.021423 -0.004440  5.250549  30.120758   \n",
       "1        0.9258 -0.2216 -0.5538  0.020325  0.004349  5.267334  30.129517   \n",
       "2        0.9082 -0.2196 -0.5392  0.016525  0.005173  5.243301  30.138214   \n",
       "3        0.8974 -0.2102 -0.5122  0.016708  0.007187  5.249405  30.129517   \n",
       "4        0.8882 -0.2036 -0.4824  0.011673 -0.015152  5.286407  30.130951   \n",
       "...         ...     ...     ...       ...       ...       ...        ...   \n",
       "4255295  0.8750 -0.1234 -0.2974 -0.013138  0.020370  0.400162  31.457733   \n",
       "4255296  0.8750 -0.1262 -0.2988 -0.010345  0.019592  0.355911  31.476898   \n",
       "4255297  0.8718 -0.1238 -0.3042 -0.005447 -0.017166  0.360489  31.459229   \n",
       "4255298  0.8730 -0.1234 -0.3026  0.000137 -0.028976  0.365829  31.484283   \n",
       "4255299  0.8702 -0.1220 -0.3022  0.004074 -0.023575  0.365448  31.456268   \n",
       "\n",
       "           c_resp  w_label  \n",
       "0       -1.148987      0.0  \n",
       "1       -1.124573      0.0  \n",
       "2       -1.152039      0.0  \n",
       "3       -1.158142      0.0  \n",
       "4       -1.161194      0.0  \n",
       "...           ...      ...  \n",
       "4255295 -1.063538      0.0  \n",
       "4255296 -1.106262      0.0  \n",
       "4255297 -1.103210      0.0  \n",
       "4255298 -1.086426      0.0  \n",
       "4255299 -1.097107      0.0  \n",
       "\n",
       "[4255300 rows x 9 columns]>"
      ]
     },
     "metadata": {},
     "output_type": "display_data"
    }
   ],
   "source": [
    "display(df.shape)\n",
    "display(df.info)\n",
    "display(df.describe)"
   ]
  },
  {
   "cell_type": "code",
   "execution_count": 27,
   "metadata": {},
   "outputs": [
    {
     "name": "stdout",
     "output_type": "stream",
     "text": [
      "IQR is\n",
      " c_ax       0.271200\n",
      "c_ay       0.054000\n",
      "c_az       0.507400\n",
      "c_ecg      0.112335\n",
      "c_emg      0.012314\n",
      "c_eda      0.746918\n",
      "c_temp     1.240173\n",
      "c_resp     3.100586\n",
      "w_label    2.000000\n",
      "dtype: float64\n"
     ]
    }
   ],
   "source": [
    "Q1 = df.quantile(0.25)\n",
    "Q3 = df.quantile(0.75)\n",
    "IQR = Q3 - Q1\n",
    "print(\"IQR is\\n\", IQR)\n",
    "#print((df < (Q1 - 1.5 * IQR)) |(df > (Q3 + 1.5 * IQR)) )"
   ]
  },
  {
   "cell_type": "code",
   "execution_count": 28,
   "metadata": {},
   "outputs": [
    {
     "name": "stdout",
     "output_type": "stream",
     "text": [
      "(2100456, 9)\n"
     ]
    }
   ],
   "source": [
    "df_out = df[~((df < (Q1 - 1.5 * IQR)) |(df > (Q3 + 1.5 * IQR))).any(axis=1)]\n",
    "print(df_out.shape)\n"
   ]
  },
  {
   "cell_type": "code",
   "execution_count": 29,
   "metadata": {},
   "outputs": [],
   "source": [
    "#mean normalization \n",
    "norm_df_out=(df_out-df_out.mean())/df_out.std()\n",
    "#min-max normalization:\n",
    "#norm_df_out=(df_out-df_out.min())/(df_out.max()-df_out.min())\n",
    "\n",
    "norm_y = df_out.w_label #keep original labels Dont normalize labels\n",
    "norm_x = norm_df_out.drop('w_label',axis=1)\n",
    "\n",
    "\n",
    "norm_x_train,norm_x_test,norm_y_train,norm_y_test=train_test_split(norm_x,norm_y,test_size=0.2)\n"
   ]
  },
  {
   "cell_type": "code",
   "execution_count": 30,
   "metadata": {},
   "outputs": [
    {
     "data": {
      "text/html": [
       "<div>\n",
       "<style scoped>\n",
       "    .dataframe tbody tr th:only-of-type {\n",
       "        vertical-align: middle;\n",
       "    }\n",
       "\n",
       "    .dataframe tbody tr th {\n",
       "        vertical-align: top;\n",
       "    }\n",
       "\n",
       "    .dataframe thead th {\n",
       "        text-align: right;\n",
       "    }\n",
       "</style>\n",
       "<table border=\"1\" class=\"dataframe\">\n",
       "  <thead>\n",
       "    <tr style=\"text-align: right;\">\n",
       "      <th></th>\n",
       "      <th>c_ax</th>\n",
       "      <th>c_ay</th>\n",
       "      <th>c_az</th>\n",
       "      <th>c_ecg</th>\n",
       "      <th>c_emg</th>\n",
       "      <th>c_eda</th>\n",
       "      <th>c_temp</th>\n",
       "      <th>c_resp</th>\n",
       "      <th>w_label</th>\n",
       "    </tr>\n",
       "  </thead>\n",
       "  <tbody>\n",
       "    <tr>\n",
       "      <th>393691</th>\n",
       "      <td>-1.678430</td>\n",
       "      <td>2.251221</td>\n",
       "      <td>-1.593856</td>\n",
       "      <td>-0.326259</td>\n",
       "      <td>-0.675595</td>\n",
       "      <td>3.563482</td>\n",
       "      <td>-4.750996</td>\n",
       "      <td>-0.416753</td>\n",
       "      <td>-0.108962</td>\n",
       "    </tr>\n",
       "    <tr>\n",
       "      <th>394476</th>\n",
       "      <td>-1.697992</td>\n",
       "      <td>2.116280</td>\n",
       "      <td>-1.564093</td>\n",
       "      <td>-1.913346</td>\n",
       "      <td>-1.408406</td>\n",
       "      <td>3.553901</td>\n",
       "      <td>-4.753546</td>\n",
       "      <td>0.864869</td>\n",
       "      <td>-0.108962</td>\n",
       "    </tr>\n",
       "    <tr>\n",
       "      <th>395154</th>\n",
       "      <td>-1.710440</td>\n",
       "      <td>2.244120</td>\n",
       "      <td>-1.574550</td>\n",
       "      <td>0.843406</td>\n",
       "      <td>1.302484</td>\n",
       "      <td>3.587000</td>\n",
       "      <td>-4.748553</td>\n",
       "      <td>-0.731728</td>\n",
       "      <td>-0.108962</td>\n",
       "    </tr>\n",
       "    <tr>\n",
       "      <th>396635</th>\n",
       "      <td>-1.746005</td>\n",
       "      <td>1.952928</td>\n",
       "      <td>-1.606727</td>\n",
       "      <td>-1.452419</td>\n",
       "      <td>0.221203</td>\n",
       "      <td>3.586129</td>\n",
       "      <td>-4.753546</td>\n",
       "      <td>1.121464</td>\n",
       "      <td>-0.108962</td>\n",
       "    </tr>\n",
       "    <tr>\n",
       "      <th>402178</th>\n",
       "      <td>-1.712218</td>\n",
       "      <td>2.158892</td>\n",
       "      <td>-1.596269</td>\n",
       "      <td>0.766310</td>\n",
       "      <td>-0.537232</td>\n",
       "      <td>3.553901</td>\n",
       "      <td>-4.571494</td>\n",
       "      <td>0.949722</td>\n",
       "      <td>-0.108962</td>\n",
       "    </tr>\n",
       "  </tbody>\n",
       "</table>\n",
       "</div>"
      ],
      "text/plain": [
       "            c_ax      c_ay      c_az     c_ecg     c_emg     c_eda    c_temp  \\\n",
       "393691 -1.678430  2.251221 -1.593856 -0.326259 -0.675595  3.563482 -4.750996   \n",
       "394476 -1.697992  2.116280 -1.564093 -1.913346 -1.408406  3.553901 -4.753546   \n",
       "395154 -1.710440  2.244120 -1.574550  0.843406  1.302484  3.587000 -4.748553   \n",
       "396635 -1.746005  1.952928 -1.606727 -1.452419  0.221203  3.586129 -4.753546   \n",
       "402178 -1.712218  2.158892 -1.596269  0.766310 -0.537232  3.553901 -4.571494   \n",
       "\n",
       "          c_resp   w_label  \n",
       "393691 -0.416753 -0.108962  \n",
       "394476  0.864869 -0.108962  \n",
       "395154 -0.731728 -0.108962  \n",
       "396635  1.121464 -0.108962  \n",
       "402178  0.949722 -0.108962  "
      ]
     },
     "execution_count": 30,
     "metadata": {},
     "output_type": "execute_result"
    }
   ],
   "source": [
    "norm_df_out.head()"
   ]
  },
  {
   "cell_type": "code",
   "execution_count": 31,
   "metadata": {},
   "outputs": [
    {
     "data": {
      "text/html": [
       "<div>\n",
       "<style scoped>\n",
       "    .dataframe tbody tr th:only-of-type {\n",
       "        vertical-align: middle;\n",
       "    }\n",
       "\n",
       "    .dataframe tbody tr th {\n",
       "        vertical-align: top;\n",
       "    }\n",
       "\n",
       "    .dataframe thead th {\n",
       "        text-align: right;\n",
       "    }\n",
       "</style>\n",
       "<table border=\"1\" class=\"dataframe\">\n",
       "  <thead>\n",
       "    <tr style=\"text-align: right;\">\n",
       "      <th></th>\n",
       "      <th>c_ax</th>\n",
       "      <th>c_ay</th>\n",
       "      <th>c_az</th>\n",
       "      <th>c_ecg</th>\n",
       "      <th>c_emg</th>\n",
       "      <th>c_eda</th>\n",
       "      <th>c_temp</th>\n",
       "      <th>c_resp</th>\n",
       "      <th>w_label</th>\n",
       "    </tr>\n",
       "  </thead>\n",
       "  <tbody>\n",
       "    <tr>\n",
       "      <th>count</th>\n",
       "      <td>2.100456e+06</td>\n",
       "      <td>2.100456e+06</td>\n",
       "      <td>2.100456e+06</td>\n",
       "      <td>2.100456e+06</td>\n",
       "      <td>2.100456e+06</td>\n",
       "      <td>2.100456e+06</td>\n",
       "      <td>2.100456e+06</td>\n",
       "      <td>2.100456e+06</td>\n",
       "      <td>2.100456e+06</td>\n",
       "    </tr>\n",
       "    <tr>\n",
       "      <th>mean</th>\n",
       "      <td>1.682200e-16</td>\n",
       "      <td>6.227062e-17</td>\n",
       "      <td>-1.660144e-16</td>\n",
       "      <td>6.819729e-18</td>\n",
       "      <td>-1.407246e-17</td>\n",
       "      <td>-3.169550e-16</td>\n",
       "      <td>-2.865856e-15</td>\n",
       "      <td>-1.104147e-17</td>\n",
       "      <td>4.483701e-16</td>\n",
       "    </tr>\n",
       "    <tr>\n",
       "      <th>std</th>\n",
       "      <td>1.000000e+00</td>\n",
       "      <td>1.000000e+00</td>\n",
       "      <td>1.000000e+00</td>\n",
       "      <td>1.000000e+00</td>\n",
       "      <td>1.000000e+00</td>\n",
       "      <td>1.000000e+00</td>\n",
       "      <td>1.000000e+00</td>\n",
       "      <td>1.000000e+00</td>\n",
       "      <td>1.000000e+00</td>\n",
       "    </tr>\n",
       "    <tr>\n",
       "      <th>min</th>\n",
       "      <td>-4.534372e+00</td>\n",
       "      <td>-3.814046e+00</td>\n",
       "      <td>-2.495604e+00</td>\n",
       "      <td>-2.629794e+00</td>\n",
       "      <td>-2.776663e+00</td>\n",
       "      <td>-1.856971e+00</td>\n",
       "      <td>-4.756042e+00</td>\n",
       "      <td>-2.715254e+00</td>\n",
       "      <td>-7.712019e-01</td>\n",
       "    </tr>\n",
       "    <tr>\n",
       "      <th>25%</th>\n",
       "      <td>-1.750292e-02</td>\n",
       "      <td>-6.535731e-01</td>\n",
       "      <td>-4.483708e-01</td>\n",
       "      <td>-5.757211e-01</td>\n",
       "      <td>-6.448473e-01</td>\n",
       "      <td>-7.211407e-01</td>\n",
       "      <td>-6.176719e-01</td>\n",
       "      <td>-7.154357e-01</td>\n",
       "      <td>-7.712019e-01</td>\n",
       "    </tr>\n",
       "    <tr>\n",
       "      <th>50%</th>\n",
       "      <td>4.164009e-01</td>\n",
       "      <td>-8.539912e-02</td>\n",
       "      <td>1.235676e-01</td>\n",
       "      <td>2.470093e-01</td>\n",
       "      <td>6.234153e-02</td>\n",
       "      <td>-1.995722e-02</td>\n",
       "      <td>-1.520821e-01</td>\n",
       "      <td>-1.092451e-01</td>\n",
       "      <td>-7.712019e-01</td>\n",
       "    </tr>\n",
       "    <tr>\n",
       "      <th>75%</th>\n",
       "      <td>6.226834e-01</td>\n",
       "      <td>5.537980e-01</td>\n",
       "      <td>5.812790e-01</td>\n",
       "      <td>6.049576e-01</td>\n",
       "      <td>6.619147e-01</td>\n",
       "      <td>3.711377e-01</td>\n",
       "      <td>7.266278e-01</td>\n",
       "      <td>7.331766e-01</td>\n",
       "      <td>5.532788e-01</td>\n",
       "    </tr>\n",
       "    <tr>\n",
       "      <th>max</th>\n",
       "      <td>4.150819e+00</td>\n",
       "      <td>3.856315e+00</td>\n",
       "      <td>3.420860e+00</td>\n",
       "      <td>2.775776e+00</td>\n",
       "      <td>2.732236e+00</td>\n",
       "      <td>3.596582e+00</td>\n",
       "      <td>3.874975e+00</td>\n",
       "      <td>2.802235e+00</td>\n",
       "      <td>1.877759e+00</td>\n",
       "    </tr>\n",
       "  </tbody>\n",
       "</table>\n",
       "</div>"
      ],
      "text/plain": [
       "               c_ax          c_ay          c_az         c_ecg         c_emg  \\\n",
       "count  2.100456e+06  2.100456e+06  2.100456e+06  2.100456e+06  2.100456e+06   \n",
       "mean   1.682200e-16  6.227062e-17 -1.660144e-16  6.819729e-18 -1.407246e-17   \n",
       "std    1.000000e+00  1.000000e+00  1.000000e+00  1.000000e+00  1.000000e+00   \n",
       "min   -4.534372e+00 -3.814046e+00 -2.495604e+00 -2.629794e+00 -2.776663e+00   \n",
       "25%   -1.750292e-02 -6.535731e-01 -4.483708e-01 -5.757211e-01 -6.448473e-01   \n",
       "50%    4.164009e-01 -8.539912e-02  1.235676e-01  2.470093e-01  6.234153e-02   \n",
       "75%    6.226834e-01  5.537980e-01  5.812790e-01  6.049576e-01  6.619147e-01   \n",
       "max    4.150819e+00  3.856315e+00  3.420860e+00  2.775776e+00  2.732236e+00   \n",
       "\n",
       "              c_eda        c_temp        c_resp       w_label  \n",
       "count  2.100456e+06  2.100456e+06  2.100456e+06  2.100456e+06  \n",
       "mean  -3.169550e-16 -2.865856e-15 -1.104147e-17  4.483701e-16  \n",
       "std    1.000000e+00  1.000000e+00  1.000000e+00  1.000000e+00  \n",
       "min   -1.856971e+00 -4.756042e+00 -2.715254e+00 -7.712019e-01  \n",
       "25%   -7.211407e-01 -6.176719e-01 -7.154357e-01 -7.712019e-01  \n",
       "50%   -1.995722e-02 -1.520821e-01 -1.092451e-01 -7.712019e-01  \n",
       "75%    3.711377e-01  7.266278e-01  7.331766e-01  5.532788e-01  \n",
       "max    3.596582e+00  3.874975e+00  2.802235e+00  1.877759e+00  "
      ]
     },
     "execution_count": 31,
     "metadata": {},
     "output_type": "execute_result"
    }
   ],
   "source": [
    "norm_df_out.describe()"
   ]
  },
  {
   "cell_type": "code",
   "execution_count": 32,
   "metadata": {},
   "outputs": [
    {
     "name": "stdout",
     "output_type": "stream",
     "text": [
      "<class 'pandas.core.frame.DataFrame'>\n",
      "Index: 2100456 entries, 393691 to 4255299\n",
      "Data columns (total 9 columns):\n",
      " #   Column   Dtype  \n",
      "---  ------   -----  \n",
      " 0   c_ax     float64\n",
      " 1   c_ay     float64\n",
      " 2   c_az     float64\n",
      " 3   c_ecg    float64\n",
      " 4   c_emg    float64\n",
      " 5   c_eda    float64\n",
      " 6   c_temp   float64\n",
      " 7   c_resp   float64\n",
      " 8   w_label  float64\n",
      "dtypes: float64(9)\n",
      "memory usage: 160.3 MB\n"
     ]
    }
   ],
   "source": [
    "norm_df_out.info()"
   ]
  },
  {
   "cell_type": "code",
   "execution_count": 33,
   "metadata": {},
   "outputs": [
    {
     "data": {
      "text/plain": [
       "(2100456, 9)"
      ]
     },
     "execution_count": 33,
     "metadata": {},
     "output_type": "execute_result"
    }
   ],
   "source": [
    "norm_df_out.shape"
   ]
  },
  {
   "cell_type": "code",
   "execution_count": 34,
   "metadata": {},
   "outputs": [
    {
     "data": {
      "image/png": "[encoded data removed]",
      "text/plain": [
       "<Figure size 1200x1000 with 2 Axes>"
      ]
     },
     "metadata": {},
     "output_type": "display_data"
    }
   ],
   "source": [
    "import seaborn as sns\n",
    "plt.figure(figsize=(12,10))\n",
    "cor = norm_x.corr()\n",
    "sns.heatmap(cor, annot=True, cmap=plt.cm.Reds)\n",
    "plt.show()"
   ]
  },
  {
   "cell_type": "code",
   "execution_count": 35,
   "metadata": {},
   "outputs": [
    {
     "data": {
      "text/plain": [
       "const     0.000000e+00\n",
       "c_ax      0.000000e+00\n",
       "c_ay      0.000000e+00\n",
       "c_az      0.000000e+00\n",
       "c_ecg     7.725890e-02\n",
       "c_emg     3.944850e-33\n",
       "c_eda     0.000000e+00\n",
       "c_temp    0.000000e+00\n",
       "c_resp    0.000000e+00\n",
       "dtype: float64"
      ]
     },
     "execution_count": 35,
     "metadata": {},
     "output_type": "execute_result"
    }
   ],
   "source": [
    "\n",
    "X_1 = sm.add_constant(norm_x)\n",
    "#Fitting sm.OLS model\n",
    "model = sm.OLS(norm_y,X_1).fit()\n",
    "model.pvalues"
   ]
  },
  {
   "cell_type": "code",
   "execution_count": 36,
   "metadata": {},
   "outputs": [
    {
     "data": {
      "text/plain": [
       "('c_ay', 'c_az', 'c_ecg', 'c_emg', 'c_eda', 'c_temp', 'c_resp')"
      ]
     },
     "execution_count": 36,
     "metadata": {},
     "output_type": "execute_result"
    }
   ],
   "source": [
    "#https://towardsdatascience.com/feature-selection-with-pandas-e3690ad8504b\n",
    "#https://towardsdatascience.com/feature-selection-using-wrapper-methods-in-python-f0d352b346f\n",
    "from mlxtend.feature_selection import SequentialFeatureSelector as SFS\n",
    "# Sequential Forward Selection(sfs)\n",
    "sfs = SFS(QuadraticDiscriminantAnalysis(),\n",
    "           k_features=7,\n",
    "           forward=True,\n",
    "           floating=False,\n",
    "           scoring = 'r2',\n",
    "           cv = 0)\n",
    "sfs.fit(norm_x, norm_y)\n",
    "sfs.k_feature_names_     # to get the final set of features"
   ]
  },
  {
   "cell_type": "code",
   "execution_count": 37,
   "metadata": {},
   "outputs": [
    {
     "data": {
      "text/plain": [
       "('c_ay', 'c_az', 'c_ecg', 'c_emg', 'c_eda', 'c_temp', 'c_resp')"
      ]
     },
     "execution_count": 37,
     "metadata": {},
     "output_type": "execute_result"
    }
   ],
   "source": [
    "sfs = SFS(QuadraticDiscriminantAnalysis(),\n",
    "           k_features=7,\n",
    "           forward=False,\n",
    "           floating=False,\n",
    "           scoring = 'r2',\n",
    "           cv = 0)\n",
    "sfs.fit(norm_x, norm_y)\n",
    "sfs.k_feature_names_     # to get the final set of features"
   ]
  },
  {
   "cell_type": "code",
   "execution_count": 38,
   "metadata": {},
   "outputs": [
    {
     "data": {
      "text/html": [
       "<div>\n",
       "<style scoped>\n",
       "    .dataframe tbody tr th:only-of-type {\n",
       "        vertical-align: middle;\n",
       "    }\n",
       "\n",
       "    .dataframe tbody tr th {\n",
       "        vertical-align: top;\n",
       "    }\n",
       "\n",
       "    .dataframe thead th {\n",
       "        text-align: right;\n",
       "    }\n",
       "</style>\n",
       "<table border=\"1\" class=\"dataframe\">\n",
       "  <thead>\n",
       "    <tr style=\"text-align: right;\">\n",
       "      <th></th>\n",
       "      <th>c_ax</th>\n",
       "      <th>c_ay</th>\n",
       "      <th>c_az</th>\n",
       "      <th>c_ecg</th>\n",
       "      <th>c_emg</th>\n",
       "      <th>c_eda</th>\n",
       "      <th>c_temp</th>\n",
       "      <th>c_resp</th>\n",
       "    </tr>\n",
       "  </thead>\n",
       "  <tbody>\n",
       "    <tr>\n",
       "      <th>1667104</th>\n",
       "      <td>0.395061</td>\n",
       "      <td>-0.369487</td>\n",
       "      <td>0.070476</td>\n",
       "      <td>1.038350</td>\n",
       "      <td>-0.480862</td>\n",
       "      <td>0.525311</td>\n",
       "      <td>-0.500093</td>\n",
       "      <td>-0.380096</td>\n",
       "    </tr>\n",
       "    <tr>\n",
       "      <th>1150663</th>\n",
       "      <td>-0.022838</td>\n",
       "      <td>-0.156420</td>\n",
       "      <td>-0.437109</td>\n",
       "      <td>-2.192546</td>\n",
       "      <td>1.471595</td>\n",
       "      <td>0.158605</td>\n",
       "      <td>0.582389</td>\n",
       "      <td>-0.343440</td>\n",
       "    </tr>\n",
       "    <tr>\n",
       "      <th>3533302</th>\n",
       "      <td>0.608457</td>\n",
       "      <td>-0.873742</td>\n",
       "      <td>0.486358</td>\n",
       "      <td>0.395145</td>\n",
       "      <td>1.292235</td>\n",
       "      <td>-0.829149</td>\n",
       "      <td>1.750851</td>\n",
       "      <td>0.156854</td>\n",
       "    </tr>\n",
       "    <tr>\n",
       "      <th>1371952</th>\n",
       "      <td>0.352382</td>\n",
       "      <td>-2.294180</td>\n",
       "      <td>0.121154</td>\n",
       "      <td>0.832392</td>\n",
       "      <td>2.665616</td>\n",
       "      <td>0.042757</td>\n",
       "      <td>-1.165790</td>\n",
       "      <td>1.353623</td>\n",
       "    </tr>\n",
       "    <tr>\n",
       "      <th>1072105</th>\n",
       "      <td>-0.021060</td>\n",
       "      <td>0.326528</td>\n",
       "      <td>-0.335753</td>\n",
       "      <td>-1.972821</td>\n",
       "      <td>-0.209260</td>\n",
       "      <td>0.235256</td>\n",
       "      <td>-0.553784</td>\n",
       "      <td>-1.525953</td>\n",
       "    </tr>\n",
       "    <tr>\n",
       "      <th>...</th>\n",
       "      <td>...</td>\n",
       "      <td>...</td>\n",
       "      <td>...</td>\n",
       "      <td>...</td>\n",
       "      <td>...</td>\n",
       "      <td>...</td>\n",
       "      <td>...</td>\n",
       "      <td>...</td>\n",
       "    </tr>\n",
       "    <tr>\n",
       "      <th>3210198</th>\n",
       "      <td>0.700928</td>\n",
       "      <td>2.712863</td>\n",
       "      <td>0.781578</td>\n",
       "      <td>0.001952</td>\n",
       "      <td>0.257075</td>\n",
       "      <td>-0.780371</td>\n",
       "      <td>0.350895</td>\n",
       "      <td>-0.646196</td>\n",
       "    </tr>\n",
       "    <tr>\n",
       "      <th>3415113</th>\n",
       "      <td>0.704485</td>\n",
       "      <td>-0.873742</td>\n",
       "      <td>1.028533</td>\n",
       "      <td>-0.790490</td>\n",
       "      <td>-1.628762</td>\n",
       "      <td>-0.445023</td>\n",
       "      <td>1.372357</td>\n",
       "      <td>-0.171018</td>\n",
       "    </tr>\n",
       "    <tr>\n",
       "      <th>4140403</th>\n",
       "      <td>0.636909</td>\n",
       "      <td>0.731352</td>\n",
       "      <td>1.800770</td>\n",
       "      <td>0.313092</td>\n",
       "      <td>1.015509</td>\n",
       "      <td>-1.386612</td>\n",
       "      <td>0.713776</td>\n",
       "      <td>0.236277</td>\n",
       "    </tr>\n",
       "    <tr>\n",
       "      <th>4178751</th>\n",
       "      <td>0.569334</td>\n",
       "      <td>0.951521</td>\n",
       "      <td>0.146895</td>\n",
       "      <td>0.541628</td>\n",
       "      <td>-0.767837</td>\n",
       "      <td>-1.411872</td>\n",
       "      <td>1.255946</td>\n",
       "      <td>0.153460</td>\n",
       "    </tr>\n",
       "    <tr>\n",
       "      <th>3162269</th>\n",
       "      <td>0.620905</td>\n",
       "      <td>1.462879</td>\n",
       "      <td>1.835360</td>\n",
       "      <td>0.077948</td>\n",
       "      <td>1.322983</td>\n",
       "      <td>-0.727238</td>\n",
       "      <td>-0.246825</td>\n",
       "      <td>1.483957</td>\n",
       "    </tr>\n",
       "  </tbody>\n",
       "</table>\n",
       "<p>1680364 rows × 8 columns</p>\n",
       "</div>"
      ],
      "text/plain": [
       "             c_ax      c_ay      c_az     c_ecg     c_emg     c_eda    c_temp  \\\n",
       "1667104  0.395061 -0.369487  0.070476  1.038350 -0.480862  0.525311 -0.500093   \n",
       "1150663 -0.022838 -0.156420 -0.437109 -2.192546  1.471595  0.158605  0.582389   \n",
       "3533302  0.608457 -0.873742  0.486358  0.395145  1.292235 -0.829149  1.750851   \n",
       "1371952  0.352382 -2.294180  0.121154  0.832392  2.665616  0.042757 -1.165790   \n",
       "1072105 -0.021060  0.326528 -0.335753 -1.972821 -0.209260  0.235256 -0.553784   \n",
       "...           ...       ...       ...       ...       ...       ...       ...   \n",
       "3210198  0.700928  2.712863  0.781578  0.001952  0.257075 -0.780371  0.350895   \n",
       "3415113  0.704485 -0.873742  1.028533 -0.790490 -1.628762 -0.445023  1.372357   \n",
       "4140403  0.636909  0.731352  1.800770  0.313092  1.015509 -1.386612  0.713776   \n",
       "4178751  0.569334  0.951521  0.146895  0.541628 -0.767837 -1.411872  1.255946   \n",
       "3162269  0.620905  1.462879  1.835360  0.077948  1.322983 -0.727238 -0.246825   \n",
       "\n",
       "           c_resp  \n",
       "1667104 -0.380096  \n",
       "1150663 -0.343440  \n",
       "3533302  0.156854  \n",
       "1371952  1.353623  \n",
       "1072105 -1.525953  \n",
       "...           ...  \n",
       "3210198 -0.646196  \n",
       "3415113 -0.171018  \n",
       "4140403  0.236277  \n",
       "4178751  0.153460  \n",
       "3162269  1.483957  \n",
       "\n",
       "[1680364 rows x 8 columns]"
      ]
     },
     "execution_count": 38,
     "metadata": {},
     "output_type": "execute_result"
    }
   ],
   "source": [
    "norm_x_train"
   ]
  },
  {
   "cell_type": "code",
   "execution_count": 39,
   "metadata": {},
   "outputs": [
    {
     "data": {
      "text/plain": [
       "1667104    2.0\n",
       "1150663    0.0\n",
       "3533302    3.0\n",
       "1371952    0.0\n",
       "1072105    0.0\n",
       "          ... \n",
       "3210198    0.0\n",
       "3415113    3.0\n",
       "4140403    0.0\n",
       "4178751    0.0\n",
       "3162269    0.0\n",
       "Name: w_label, Length: 1680364, dtype: float64"
      ]
     },
     "execution_count": 39,
     "metadata": {},
     "output_type": "execute_result"
    }
   ],
   "source": [
    "norm_y_train"
   ]
  },
  {
   "cell_type": "code",
   "execution_count": 40,
   "metadata": {},
   "outputs": [
    {
     "data": {
      "text/html": [
       "<div>\n",
       "<style scoped>\n",
       "    .dataframe tbody tr th:only-of-type {\n",
       "        vertical-align: middle;\n",
       "    }\n",
       "\n",
       "    .dataframe tbody tr th {\n",
       "        vertical-align: top;\n",
       "    }\n",
       "\n",
       "    .dataframe thead th {\n",
       "        text-align: right;\n",
       "    }\n",
       "</style>\n",
       "<table border=\"1\" class=\"dataframe\">\n",
       "  <thead>\n",
       "    <tr style=\"text-align: right;\">\n",
       "      <th></th>\n",
       "      <th>c_ax</th>\n",
       "      <th>c_ay</th>\n",
       "      <th>c_az</th>\n",
       "      <th>c_ecg</th>\n",
       "      <th>c_emg</th>\n",
       "      <th>c_eda</th>\n",
       "      <th>c_temp</th>\n",
       "      <th>c_resp</th>\n",
       "    </tr>\n",
       "  </thead>\n",
       "  <tbody>\n",
       "    <tr>\n",
       "      <th>3523453</th>\n",
       "      <td>0.594230</td>\n",
       "      <td>-0.497324</td>\n",
       "      <td>0.484749</td>\n",
       "      <td>0.574670</td>\n",
       "      <td>0.369815</td>\n",
       "      <td>-0.722883</td>\n",
       "      <td>1.584785</td>\n",
       "      <td>0.653075</td>\n",
       "    </tr>\n",
       "    <tr>\n",
       "      <th>1824205</th>\n",
       "      <td>0.370165</td>\n",
       "      <td>0.085054</td>\n",
       "      <td>-0.012378</td>\n",
       "      <td>0.015169</td>\n",
       "      <td>-0.573104</td>\n",
       "      <td>0.876338</td>\n",
       "      <td>-0.704449</td>\n",
       "      <td>-0.550481</td>\n",
       "    </tr>\n",
       "    <tr>\n",
       "      <th>1470434</th>\n",
       "      <td>0.512429</td>\n",
       "      <td>-0.163523</td>\n",
       "      <td>0.291690</td>\n",
       "      <td>-1.810918</td>\n",
       "      <td>-1.772250</td>\n",
       "      <td>0.039273</td>\n",
       "      <td>-1.498878</td>\n",
       "      <td>-0.407249</td>\n",
       "    </tr>\n",
       "    <tr>\n",
       "      <th>3074893</th>\n",
       "      <td>-2.375522</td>\n",
       "      <td>-0.440508</td>\n",
       "      <td>-1.893902</td>\n",
       "      <td>-1.216173</td>\n",
       "      <td>-0.035025</td>\n",
       "      <td>-0.695010</td>\n",
       "      <td>-0.077785</td>\n",
       "      <td>1.173055</td>\n",
       "    </tr>\n",
       "    <tr>\n",
       "      <th>3312030</th>\n",
       "      <td>0.427070</td>\n",
       "      <td>-1.292770</td>\n",
       "      <td>0.195160</td>\n",
       "      <td>-0.547085</td>\n",
       "      <td>0.779779</td>\n",
       "      <td>-0.793437</td>\n",
       "      <td>-0.080334</td>\n",
       "      <td>-0.851201</td>\n",
       "    </tr>\n",
       "    <tr>\n",
       "      <th>...</th>\n",
       "      <td>...</td>\n",
       "      <td>...</td>\n",
       "      <td>...</td>\n",
       "      <td>...</td>\n",
       "      <td>...</td>\n",
       "      <td>...</td>\n",
       "      <td>...</td>\n",
       "      <td>...</td>\n",
       "    </tr>\n",
       "    <tr>\n",
       "      <th>3225483</th>\n",
       "      <td>0.697371</td>\n",
       "      <td>1.604923</td>\n",
       "      <td>0.553929</td>\n",
       "      <td>-1.991544</td>\n",
       "      <td>1.763694</td>\n",
       "      <td>-0.773403</td>\n",
       "      <td>-0.000833</td>\n",
       "      <td>-0.103136</td>\n",
       "    </tr>\n",
       "    <tr>\n",
       "      <th>1219339</th>\n",
       "      <td>-0.117087</td>\n",
       "      <td>0.937316</td>\n",
       "      <td>-0.493418</td>\n",
       "      <td>-1.613221</td>\n",
       "      <td>-0.737089</td>\n",
       "      <td>0.117666</td>\n",
       "      <td>0.466615</td>\n",
       "      <td>-0.677422</td>\n",
       "    </tr>\n",
       "    <tr>\n",
       "      <th>2113125</th>\n",
       "      <td>0.290142</td>\n",
       "      <td>0.447264</td>\n",
       "      <td>-0.113735</td>\n",
       "      <td>0.699126</td>\n",
       "      <td>1.174370</td>\n",
       "      <td>2.424168</td>\n",
       "      <td>-1.511517</td>\n",
       "      <td>-1.345385</td>\n",
       "    </tr>\n",
       "    <tr>\n",
       "      <th>3239719</th>\n",
       "      <td>0.455524</td>\n",
       "      <td>2.173097</td>\n",
       "      <td>1.963262</td>\n",
       "      <td>-2.103334</td>\n",
       "      <td>2.209531</td>\n",
       "      <td>-0.689783</td>\n",
       "      <td>-0.090584</td>\n",
       "      <td>0.857402</td>\n",
       "    </tr>\n",
       "    <tr>\n",
       "      <th>3436424</th>\n",
       "      <td>0.706263</td>\n",
       "      <td>-0.760107</td>\n",
       "      <td>0.923155</td>\n",
       "      <td>0.503080</td>\n",
       "      <td>-0.183637</td>\n",
       "      <td>-0.588743</td>\n",
       "      <td>0.793702</td>\n",
       "      <td>-0.786034</td>\n",
       "    </tr>\n",
       "  </tbody>\n",
       "</table>\n",
       "<p>420092 rows × 8 columns</p>\n",
       "</div>"
      ],
      "text/plain": [
       "             c_ax      c_ay      c_az     c_ecg     c_emg     c_eda    c_temp  \\\n",
       "3523453  0.594230 -0.497324  0.484749  0.574670  0.369815 -0.722883  1.584785   \n",
       "1824205  0.370165  0.085054 -0.012378  0.015169 -0.573104  0.876338 -0.704449   \n",
       "1470434  0.512429 -0.163523  0.291690 -1.810918 -1.772250  0.039273 -1.498878   \n",
       "3074893 -2.375522 -0.440508 -1.893902 -1.216173 -0.035025 -0.695010 -0.077785   \n",
       "3312030  0.427070 -1.292770  0.195160 -0.547085  0.779779 -0.793437 -0.080334   \n",
       "...           ...       ...       ...       ...       ...       ...       ...   \n",
       "3225483  0.697371  1.604923  0.553929 -1.991544  1.763694 -0.773403 -0.000833   \n",
       "1219339 -0.117087  0.937316 -0.493418 -1.613221 -0.737089  0.117666  0.466615   \n",
       "2113125  0.290142  0.447264 -0.113735  0.699126  1.174370  2.424168 -1.511517   \n",
       "3239719  0.455524  2.173097  1.963262 -2.103334  2.209531 -0.689783 -0.090584   \n",
       "3436424  0.706263 -0.760107  0.923155  0.503080 -0.183637 -0.588743  0.793702   \n",
       "\n",
       "           c_resp  \n",
       "3523453  0.653075  \n",
       "1824205 -0.550481  \n",
       "1470434 -0.407249  \n",
       "3074893  1.173055  \n",
       "3312030 -0.851201  \n",
       "...           ...  \n",
       "3225483 -0.103136  \n",
       "1219339 -0.677422  \n",
       "2113125 -1.345385  \n",
       "3239719  0.857402  \n",
       "3436424 -0.786034  \n",
       "\n",
       "[420092 rows x 8 columns]"
      ]
     },
     "execution_count": 40,
     "metadata": {},
     "output_type": "execute_result"
    }
   ],
   "source": [
    "norm_x_test"
   ]
  },
  {
   "cell_type": "code",
   "execution_count": 41,
   "metadata": {},
   "outputs": [
    {
     "data": {
      "text/plain": [
       "3523453    3.0\n",
       "1824205    2.0\n",
       "1470434    0.0\n",
       "3074893    4.0\n",
       "3312030    0.0\n",
       "          ... \n",
       "3225483    0.0\n",
       "1219339    0.0\n",
       "2113125    0.0\n",
       "3239719    0.0\n",
       "3436424    3.0\n",
       "Name: w_label, Length: 420092, dtype: float64"
      ]
     },
     "execution_count": 41,
     "metadata": {},
     "output_type": "execute_result"
    }
   ],
   "source": [
    "norm_y_test"
   ]
  },
  {
   "cell_type": "code",
   "execution_count": 42,
   "metadata": {},
   "outputs": [
    {
     "data": {
      "text/plain": [
       "393691     1.0\n",
       "394476     1.0\n",
       "395154     1.0\n",
       "396635     1.0\n",
       "402178     1.0\n",
       "          ... \n",
       "4255293    0.0\n",
       "4255295    0.0\n",
       "4255296    0.0\n",
       "4255297    0.0\n",
       "4255299    0.0\n",
       "Name: w_label, Length: 2100456, dtype: float64"
      ]
     },
     "execution_count": 42,
     "metadata": {},
     "output_type": "execute_result"
    }
   ],
   "source": [
    "\n",
    "y=df_out.w_label\n",
    "x=df_out.drop('w_label',axis=1)\n",
    "#print(x)\n",
    "#print(\"\\n-----\\n\")\n",
    "#print(y)\n",
    "x_train,x_test,y_train,y_test=train_test_split(x,y,test_size=0.2)\n",
    "\n",
    "y"
   ]
  },
  {
   "cell_type": "code",
   "execution_count": 43,
   "metadata": {},
   "outputs": [
    {
     "data": {
      "text/html": [
       "<div>\n",
       "<style scoped>\n",
       "    .dataframe tbody tr th:only-of-type {\n",
       "        vertical-align: middle;\n",
       "    }\n",
       "\n",
       "    .dataframe tbody tr th {\n",
       "        vertical-align: top;\n",
       "    }\n",
       "\n",
       "    .dataframe thead th {\n",
       "        text-align: right;\n",
       "    }\n",
       "</style>\n",
       "<table border=\"1\" class=\"dataframe\">\n",
       "  <thead>\n",
       "    <tr style=\"text-align: right;\">\n",
       "      <th></th>\n",
       "      <th>c_ax</th>\n",
       "      <th>c_ay</th>\n",
       "      <th>c_az</th>\n",
       "      <th>c_ecg</th>\n",
       "      <th>c_emg</th>\n",
       "      <th>c_eda</th>\n",
       "      <th>c_temp</th>\n",
       "      <th>c_resp</th>\n",
       "    </tr>\n",
       "  </thead>\n",
       "  <tbody>\n",
       "    <tr>\n",
       "      <th>3592095</th>\n",
       "      <td>0.9048</td>\n",
       "      <td>-0.1586</td>\n",
       "      <td>-0.1692</td>\n",
       "      <td>0.010941</td>\n",
       "      <td>-0.007004</td>\n",
       "      <td>0.584412</td>\n",
       "      <td>32.829285</td>\n",
       "      <td>0.437927</td>\n",
       "    </tr>\n",
       "    <tr>\n",
       "      <th>1058224</th>\n",
       "      <td>0.8290</td>\n",
       "      <td>-0.1170</td>\n",
       "      <td>-0.4346</td>\n",
       "      <td>0.027054</td>\n",
       "      <td>0.004349</td>\n",
       "      <td>1.224136</td>\n",
       "      <td>31.314941</td>\n",
       "      <td>-3.907776</td>\n",
       "    </tr>\n",
       "    <tr>\n",
       "      <th>3657927</th>\n",
       "      <td>0.8926</td>\n",
       "      <td>-0.0796</td>\n",
       "      <td>-0.2082</td>\n",
       "      <td>0.100296</td>\n",
       "      <td>-0.010071</td>\n",
       "      <td>0.585938</td>\n",
       "      <td>31.963318</td>\n",
       "      <td>2.688599</td>\n",
       "    </tr>\n",
       "    <tr>\n",
       "      <th>2975481</th>\n",
       "      <td>0.5926</td>\n",
       "      <td>-0.1240</td>\n",
       "      <td>-0.7462</td>\n",
       "      <td>0.043076</td>\n",
       "      <td>-0.004807</td>\n",
       "      <td>0.889969</td>\n",
       "      <td>31.376709</td>\n",
       "      <td>1.612854</td>\n",
       "    </tr>\n",
       "    <tr>\n",
       "      <th>1806604</th>\n",
       "      <td>0.8910</td>\n",
       "      <td>-0.1288</td>\n",
       "      <td>-0.2934</td>\n",
       "      <td>-0.009613</td>\n",
       "      <td>0.007004</td>\n",
       "      <td>1.490402</td>\n",
       "      <td>31.075409</td>\n",
       "      <td>0.309753</td>\n",
       "    </tr>\n",
       "    <tr>\n",
       "      <th>...</th>\n",
       "      <td>...</td>\n",
       "      <td>...</td>\n",
       "      <td>...</td>\n",
       "      <td>...</td>\n",
       "      <td>...</td>\n",
       "      <td>...</td>\n",
       "      <td>...</td>\n",
       "      <td>...</td>\n",
       "    </tr>\n",
       "    <tr>\n",
       "      <th>3116879</th>\n",
       "      <td>0.5710</td>\n",
       "      <td>-0.1358</td>\n",
       "      <td>-0.7562</td>\n",
       "      <td>-0.054703</td>\n",
       "      <td>-0.007919</td>\n",
       "      <td>0.761414</td>\n",
       "      <td>31.316376</td>\n",
       "      <td>1.182556</td>\n",
       "    </tr>\n",
       "    <tr>\n",
       "      <th>3631162</th>\n",
       "      <td>0.8878</td>\n",
       "      <td>-0.1100</td>\n",
       "      <td>-0.2546</td>\n",
       "      <td>-0.000961</td>\n",
       "      <td>-0.000412</td>\n",
       "      <td>0.590134</td>\n",
       "      <td>32.459961</td>\n",
       "      <td>-1.383972</td>\n",
       "    </tr>\n",
       "    <tr>\n",
       "      <th>1794034</th>\n",
       "      <td>0.8830</td>\n",
       "      <td>-0.1286</td>\n",
       "      <td>-0.2586</td>\n",
       "      <td>-0.035568</td>\n",
       "      <td>0.001419</td>\n",
       "      <td>1.498032</td>\n",
       "      <td>31.034302</td>\n",
       "      <td>-4.554749</td>\n",
       "    </tr>\n",
       "    <tr>\n",
       "      <th>3389151</th>\n",
       "      <td>0.9138</td>\n",
       "      <td>-0.1414</td>\n",
       "      <td>-0.0648</td>\n",
       "      <td>0.031540</td>\n",
       "      <td>0.011581</td>\n",
       "      <td>0.813675</td>\n",
       "      <td>32.105743</td>\n",
       "      <td>-0.019836</td>\n",
       "    </tr>\n",
       "    <tr>\n",
       "      <th>4230661</th>\n",
       "      <td>0.8922</td>\n",
       "      <td>-0.1382</td>\n",
       "      <td>-0.2182</td>\n",
       "      <td>0.155365</td>\n",
       "      <td>-0.000504</td>\n",
       "      <td>0.370407</td>\n",
       "      <td>31.211975</td>\n",
       "      <td>1.826477</td>\n",
       "    </tr>\n",
       "  </tbody>\n",
       "</table>\n",
       "<p>1680364 rows × 8 columns</p>\n",
       "</div>"
      ],
      "text/plain": [
       "           c_ax    c_ay    c_az     c_ecg     c_emg     c_eda     c_temp  \\\n",
       "3592095  0.9048 -0.1586 -0.1692  0.010941 -0.007004  0.584412  32.829285   \n",
       "1058224  0.8290 -0.1170 -0.4346  0.027054  0.004349  1.224136  31.314941   \n",
       "3657927  0.8926 -0.0796 -0.2082  0.100296 -0.010071  0.585938  31.963318   \n",
       "2975481  0.5926 -0.1240 -0.7462  0.043076 -0.004807  0.889969  31.376709   \n",
       "1806604  0.8910 -0.1288 -0.2934 -0.009613  0.007004  1.490402  31.075409   \n",
       "...         ...     ...     ...       ...       ...       ...        ...   \n",
       "3116879  0.5710 -0.1358 -0.7562 -0.054703 -0.007919  0.761414  31.316376   \n",
       "3631162  0.8878 -0.1100 -0.2546 -0.000961 -0.000412  0.590134  32.459961   \n",
       "1794034  0.8830 -0.1286 -0.2586 -0.035568  0.001419  1.498032  31.034302   \n",
       "3389151  0.9138 -0.1414 -0.0648  0.031540  0.011581  0.813675  32.105743   \n",
       "4230661  0.8922 -0.1382 -0.2182  0.155365 -0.000504  0.370407  31.211975   \n",
       "\n",
       "           c_resp  \n",
       "3592095  0.437927  \n",
       "1058224 -3.907776  \n",
       "3657927  2.688599  \n",
       "2975481  1.612854  \n",
       "1806604  0.309753  \n",
       "...           ...  \n",
       "3116879  1.182556  \n",
       "3631162 -1.383972  \n",
       "1794034 -4.554749  \n",
       "3389151 -0.019836  \n",
       "4230661  1.826477  \n",
       "\n",
       "[1680364 rows x 8 columns]"
      ]
     },
     "execution_count": 43,
     "metadata": {},
     "output_type": "execute_result"
    }
   ],
   "source": [
    "(x_train)\n"
   ]
  },
  {
   "cell_type": "code",
   "execution_count": 44,
   "metadata": {},
   "outputs": [
    {
     "data": {
      "text/plain": [
       "3592095    0.0\n",
       "1058224    0.0\n",
       "3657927    0.0\n",
       "2975481    4.0\n",
       "1806604    2.0\n",
       "          ... \n",
       "3116879    4.0\n",
       "3631162    0.0\n",
       "1794034    2.0\n",
       "3389151    3.0\n",
       "4230661    0.0\n",
       "Name: w_label, Length: 1680364, dtype: float64"
      ]
     },
     "execution_count": 44,
     "metadata": {},
     "output_type": "execute_result"
    }
   ],
   "source": [
    "\n",
    "(y_train)\n"
   ]
  },
  {
   "cell_type": "code",
   "execution_count": 45,
   "metadata": {},
   "outputs": [
    {
     "data": {
      "text/html": [
       "<div>\n",
       "<style scoped>\n",
       "    .dataframe tbody tr th:only-of-type {\n",
       "        vertical-align: middle;\n",
       "    }\n",
       "\n",
       "    .dataframe tbody tr th {\n",
       "        vertical-align: top;\n",
       "    }\n",
       "\n",
       "    .dataframe thead th {\n",
       "        text-align: right;\n",
       "    }\n",
       "</style>\n",
       "<table border=\"1\" class=\"dataframe\">\n",
       "  <thead>\n",
       "    <tr style=\"text-align: right;\">\n",
       "      <th></th>\n",
       "      <th>c_ax</th>\n",
       "      <th>c_ay</th>\n",
       "      <th>c_az</th>\n",
       "      <th>c_ecg</th>\n",
       "      <th>c_emg</th>\n",
       "      <th>c_eda</th>\n",
       "      <th>c_temp</th>\n",
       "      <th>c_resp</th>\n",
       "    </tr>\n",
       "  </thead>\n",
       "  <tbody>\n",
       "    <tr>\n",
       "      <th>2754138</th>\n",
       "      <td>0.9082</td>\n",
       "      <td>-0.1070</td>\n",
       "      <td>-0.0914</td>\n",
       "      <td>-0.101166</td>\n",
       "      <td>-0.005676</td>\n",
       "      <td>0.941849</td>\n",
       "      <td>32.153259</td>\n",
       "      <td>-1.121521</td>\n",
       "    </tr>\n",
       "    <tr>\n",
       "      <th>3745803</th>\n",
       "      <td>0.8876</td>\n",
       "      <td>-0.0390</td>\n",
       "      <td>-0.2674</td>\n",
       "      <td>-0.110367</td>\n",
       "      <td>0.001190</td>\n",
       "      <td>0.775528</td>\n",
       "      <td>31.726440</td>\n",
       "      <td>1.669312</td>\n",
       "    </tr>\n",
       "    <tr>\n",
       "      <th>1768449</th>\n",
       "      <td>0.8926</td>\n",
       "      <td>-0.1430</td>\n",
       "      <td>-0.2278</td>\n",
       "      <td>-0.000549</td>\n",
       "      <td>-0.004166</td>\n",
       "      <td>1.382446</td>\n",
       "      <td>31.326660</td>\n",
       "      <td>-4.911804</td>\n",
       "    </tr>\n",
       "    <tr>\n",
       "      <th>3245445</th>\n",
       "      <td>0.8954</td>\n",
       "      <td>-0.0828</td>\n",
       "      <td>0.2102</td>\n",
       "      <td>0.034836</td>\n",
       "      <td>-0.003250</td>\n",
       "      <td>0.810623</td>\n",
       "      <td>31.373779</td>\n",
       "      <td>-0.476074</td>\n",
       "    </tr>\n",
       "    <tr>\n",
       "      <th>997770</th>\n",
       "      <td>0.6374</td>\n",
       "      <td>-0.0434</td>\n",
       "      <td>-0.7086</td>\n",
       "      <td>0.151108</td>\n",
       "      <td>-0.006134</td>\n",
       "      <td>1.117325</td>\n",
       "      <td>31.128235</td>\n",
       "      <td>3.546143</td>\n",
       "    </tr>\n",
       "    <tr>\n",
       "      <th>...</th>\n",
       "      <td>...</td>\n",
       "      <td>...</td>\n",
       "      <td>...</td>\n",
       "      <td>...</td>\n",
       "      <td>...</td>\n",
       "      <td>...</td>\n",
       "      <td>...</td>\n",
       "      <td>...</td>\n",
       "    </tr>\n",
       "    <tr>\n",
       "      <th>1449223</th>\n",
       "      <td>0.8794</td>\n",
       "      <td>-0.0894</td>\n",
       "      <td>-0.2632</td>\n",
       "      <td>-0.184158</td>\n",
       "      <td>-0.007965</td>\n",
       "      <td>1.129532</td>\n",
       "      <td>30.688873</td>\n",
       "      <td>1.010132</td>\n",
       "    </tr>\n",
       "    <tr>\n",
       "      <th>2095429</th>\n",
       "      <td>0.8646</td>\n",
       "      <td>-0.1158</td>\n",
       "      <td>-0.3204</td>\n",
       "      <td>0.042709</td>\n",
       "      <td>-0.001236</td>\n",
       "      <td>2.392578</td>\n",
       "      <td>30.458282</td>\n",
       "      <td>-1.524353</td>\n",
       "    </tr>\n",
       "    <tr>\n",
       "      <th>1042967</th>\n",
       "      <td>0.8212</td>\n",
       "      <td>-0.1122</td>\n",
       "      <td>-0.4114</td>\n",
       "      <td>0.047104</td>\n",
       "      <td>0.001602</td>\n",
       "      <td>1.224518</td>\n",
       "      <td>30.955139</td>\n",
       "      <td>-1.725769</td>\n",
       "    </tr>\n",
       "    <tr>\n",
       "      <th>1055230</th>\n",
       "      <td>0.8456</td>\n",
       "      <td>-0.1230</td>\n",
       "      <td>-0.3942</td>\n",
       "      <td>0.047562</td>\n",
       "      <td>0.003983</td>\n",
       "      <td>1.230621</td>\n",
       "      <td>31.294312</td>\n",
       "      <td>6.092834</td>\n",
       "    </tr>\n",
       "    <tr>\n",
       "      <th>1197497</th>\n",
       "      <td>0.8232</td>\n",
       "      <td>-0.1176</td>\n",
       "      <td>-0.4200</td>\n",
       "      <td>0.015335</td>\n",
       "      <td>-0.005814</td>\n",
       "      <td>1.176071</td>\n",
       "      <td>31.898071</td>\n",
       "      <td>0.044250</td>\n",
       "    </tr>\n",
       "  </tbody>\n",
       "</table>\n",
       "<p>420092 rows × 8 columns</p>\n",
       "</div>"
      ],
      "text/plain": [
       "           c_ax    c_ay    c_az     c_ecg     c_emg     c_eda     c_temp  \\\n",
       "2754138  0.9082 -0.1070 -0.0914 -0.101166 -0.005676  0.941849  32.153259   \n",
       "3745803  0.8876 -0.0390 -0.2674 -0.110367  0.001190  0.775528  31.726440   \n",
       "1768449  0.8926 -0.1430 -0.2278 -0.000549 -0.004166  1.382446  31.326660   \n",
       "3245445  0.8954 -0.0828  0.2102  0.034836 -0.003250  0.810623  31.373779   \n",
       "997770   0.6374 -0.0434 -0.7086  0.151108 -0.006134  1.117325  31.128235   \n",
       "...         ...     ...     ...       ...       ...       ...        ...   \n",
       "1449223  0.8794 -0.0894 -0.2632 -0.184158 -0.007965  1.129532  30.688873   \n",
       "2095429  0.8646 -0.1158 -0.3204  0.042709 -0.001236  2.392578  30.458282   \n",
       "1042967  0.8212 -0.1122 -0.4114  0.047104  0.001602  1.224518  30.955139   \n",
       "1055230  0.8456 -0.1230 -0.3942  0.047562  0.003983  1.230621  31.294312   \n",
       "1197497  0.8232 -0.1176 -0.4200  0.015335 -0.005814  1.176071  31.898071   \n",
       "\n",
       "           c_resp  \n",
       "2754138 -1.121521  \n",
       "3745803  1.669312  \n",
       "1768449 -4.911804  \n",
       "3245445 -0.476074  \n",
       "997770   3.546143  \n",
       "...           ...  \n",
       "1449223  1.010132  \n",
       "2095429 -1.524353  \n",
       "1042967 -1.725769  \n",
       "1055230  6.092834  \n",
       "1197497  0.044250  \n",
       "\n",
       "[420092 rows x 8 columns]"
      ]
     },
     "execution_count": 45,
     "metadata": {},
     "output_type": "execute_result"
    }
   ],
   "source": [
    "(x_test)\n"
   ]
  },
  {
   "cell_type": "code",
   "execution_count": 46,
   "metadata": {},
   "outputs": [
    {
     "data": {
      "text/plain": [
       "2754138    0.0\n",
       "3745803    0.0\n",
       "1768449    2.0\n",
       "3245445    0.0\n",
       "997770     1.0\n",
       "          ... \n",
       "1449223    0.0\n",
       "2095429    0.0\n",
       "1042967    0.0\n",
       "1055230    0.0\n",
       "1197497    0.0\n",
       "Name: w_label, Length: 420092, dtype: float64"
      ]
     },
     "execution_count": 46,
     "metadata": {},
     "output_type": "execute_result"
    }
   ],
   "source": [
    "(y_test)\n"
   ]
  },
  {
   "cell_type": "markdown",
   "metadata": {},
   "source": [
    "# Logistic Regression Base Model"
   ]
  },
  {
   "cell_type": "code",
   "execution_count": 47,
   "metadata": {},
   "outputs": [
    {
     "name": "stdout",
     "output_type": "stream",
     "text": [
      "              precision    recall  f1-score   support\n",
      "\n",
      "         0.0     0.8214    0.8941    0.8562    245883\n",
      "         1.0     0.9835    0.8777    0.9276     10705\n",
      "         2.0     0.7039    0.3981    0.5086     63387\n",
      "         3.0     0.7910    0.8222    0.8063     48085\n",
      "         4.0     0.9116    0.9998    0.9537     52032\n",
      "\n",
      "    accuracy                         0.8237    420092\n",
      "   macro avg     0.8423    0.7984    0.8105    420092\n",
      "weighted avg     0.8155    0.8237    0.8119    420092\n",
      "\n"
     ]
    },
    {
     "data": {
      "text/plain": [
       "\"\\n(C=1.0, class_weight=None, dual=False, fit_intercept=True, intercept_scaling=1, l1_ratio=None, max_iter=3,\\n                   multi_class='warn', n_jobs=None, penalty='l2',\\n                   random_state=None, solver='newton-cg', tol=0.0001, verbose=0,\\n                   warm_start=False) or use slover=saga\\n\""
      ]
     },
     "execution_count": 47,
     "metadata": {},
     "output_type": "execute_result"
    }
   ],
   "source": [
    "clf = skl_lm.LogisticRegression(solver='newton-cg', penalty=None)\n",
    "clf.fit(x_train, y_train)\n",
    "y_out = clf.predict(x_test)\n",
    "print(classification_report(y_test, y_out, digits=4))\n",
    "\n",
    "#takes 20 minutes.\n",
    "'''\n",
    "(C=1.0, class_weight=None, dual=False, fit_intercept=True, intercept_scaling=1, l1_ratio=None, max_iter=3,\n",
    "                   multi_class='warn', n_jobs=None, penalty='l2',\n",
    "                   random_state=None, solver='newton-cg', tol=0.0001, verbose=0,\n",
    "                   warm_start=False) or use slover=saga\n",
    "'''                 "
   ]
  },
  {
   "cell_type": "markdown",
   "metadata": {},
   "source": [
    "# Logistic Regression + L2"
   ]
  },
  {
   "cell_type": "code",
   "execution_count": 27,
   "metadata": {},
   "outputs": [
    {
     "name": "stderr",
     "output_type": "stream",
     "text": [
      "C:\\Users\\ferri\\AppData\\Local\\Packages\\PythonSoftwareFoundation.Python.3.11_qbz5n2kfra8p0\\LocalCache\\local-packages\\Python311\\site-packages\\sklearn\\linear_model\\_logistic.py:1247: FutureWarning: 'multi_class' was deprecated in version 1.5 and will be removed in 1.7. From then on, it will always use 'multinomial'. Leave it to its default value to avoid this warning.\n",
      "  warnings.warn(\n"
     ]
    },
    {
     "name": "stdout",
     "output_type": "stream",
     "text": [
      "              precision    recall  f1-score   support\n",
      "\n",
      "         0.0     0.8205    0.8932    0.8553    246315\n",
      "         1.0     0.9823    0.8964    0.9374     10566\n",
      "         2.0     0.7025    0.3971    0.5073     63658\n",
      "         3.0     0.7857    0.8139    0.7996     47543\n",
      "         4.0     0.9113    0.9999    0.9535     52010\n",
      "\n",
      "    accuracy                         0.8224    420092\n",
      "   macro avg     0.8404    0.8001    0.8106    420092\n",
      "weighted avg     0.8140    0.8224    0.8105    420092\n",
      "\n"
     ]
    }
   ],
   "source": [
    "clf = skl_lm.LogisticRegression(solver='newton-cg',penalty='l2',multi_class='auto')\n",
    "clf.fit(x_train,y_train)\n",
    "y_out = clf.predict(x_test)\n",
    "print(classification_report(y_test, y_out, digits=4))\n",
    "\n"
   ]
  },
  {
   "cell_type": "markdown",
   "metadata": {},
   "source": [
    "# LDA Basic Implementation"
   ]
  },
  {
   "cell_type": "code",
   "execution_count": 28,
   "metadata": {},
   "outputs": [
    {
     "name": "stdout",
     "output_type": "stream",
     "text": [
      "              precision    recall  f1-score   support\n",
      "\n",
      "         0.0     0.8121    0.8667    0.8385    246315\n",
      "         1.0     0.9710    0.6527    0.7806     10566\n",
      "         2.0     0.6265    0.3700    0.4652     63658\n",
      "         3.0     0.7478    0.8120    0.7786     47543\n",
      "         4.0     0.8540    1.0000    0.9212     52010\n",
      "\n",
      "    accuracy                         0.7964    420092\n",
      "   macro avg     0.8023    0.7403    0.7568    420092\n",
      "weighted avg     0.7859    0.7964    0.7840    420092\n",
      "\n"
     ]
    }
   ],
   "source": [
    "LDA= LinearDiscriminantAnalysis(solver = 'svd')\n",
    "y_out = LDA.fit(x_train, y_train).predict(x_test)\n",
    "#confusion_matrix(y_test, y_out)\n",
    "print(classification_report(y_test, y_out, digits=4))#target_names=['Not Six', 'Six']"
   ]
  },
  {
   "cell_type": "markdown",
   "metadata": {},
   "source": [
    "# QDA Basic Implementation"
   ]
  },
  {
   "cell_type": "code",
   "execution_count": 29,
   "metadata": {},
   "outputs": [
    {
     "name": "stderr",
     "output_type": "stream",
     "text": [
      "C:\\Users\\ferri\\AppData\\Local\\Packages\\PythonSoftwareFoundation.Python.3.11_qbz5n2kfra8p0\\LocalCache\\local-packages\\Python311\\site-packages\\sklearn\\discriminant_analysis.py:1024: LinAlgWarning: The covariance matrix of class 0 is not full rank. Increasing the value of parameter `reg_param` might help reducing the collinearity.\n",
      "  warnings.warn(\n",
      "C:\\Users\\ferri\\AppData\\Local\\Packages\\PythonSoftwareFoundation.Python.3.11_qbz5n2kfra8p0\\LocalCache\\local-packages\\Python311\\site-packages\\sklearn\\discriminant_analysis.py:1024: LinAlgWarning: The covariance matrix of class 1 is not full rank. Increasing the value of parameter `reg_param` might help reducing the collinearity.\n",
      "  warnings.warn(\n",
      "C:\\Users\\ferri\\AppData\\Local\\Packages\\PythonSoftwareFoundation.Python.3.11_qbz5n2kfra8p0\\LocalCache\\local-packages\\Python311\\site-packages\\sklearn\\discriminant_analysis.py:1024: LinAlgWarning: The covariance matrix of class 2 is not full rank. Increasing the value of parameter `reg_param` might help reducing the collinearity.\n",
      "  warnings.warn(\n",
      "C:\\Users\\ferri\\AppData\\Local\\Packages\\PythonSoftwareFoundation.Python.3.11_qbz5n2kfra8p0\\LocalCache\\local-packages\\Python311\\site-packages\\sklearn\\discriminant_analysis.py:1024: LinAlgWarning: The covariance matrix of class 3 is not full rank. Increasing the value of parameter `reg_param` might help reducing the collinearity.\n",
      "  warnings.warn(\n",
      "C:\\Users\\ferri\\AppData\\Local\\Packages\\PythonSoftwareFoundation.Python.3.11_qbz5n2kfra8p0\\LocalCache\\local-packages\\Python311\\site-packages\\sklearn\\discriminant_analysis.py:1024: LinAlgWarning: The covariance matrix of class 4 is not full rank. Increasing the value of parameter `reg_param` might help reducing the collinearity.\n",
      "  warnings.warn(\n",
      "C:\\Users\\ferri\\AppData\\Local\\Packages\\PythonSoftwareFoundation.Python.3.11_qbz5n2kfra8p0\\LocalCache\\local-packages\\Python311\\site-packages\\sklearn\\discriminant_analysis.py:1024: LinAlgWarning: The covariance matrix of class 0 is not full rank. Increasing the value of parameter `reg_param` might help reducing the collinearity.\n",
      "  warnings.warn(\n",
      "C:\\Users\\ferri\\AppData\\Local\\Packages\\PythonSoftwareFoundation.Python.3.11_qbz5n2kfra8p0\\LocalCache\\local-packages\\Python311\\site-packages\\sklearn\\discriminant_analysis.py:1024: LinAlgWarning: The covariance matrix of class 1 is not full rank. Increasing the value of parameter `reg_param` might help reducing the collinearity.\n",
      "  warnings.warn(\n",
      "C:\\Users\\ferri\\AppData\\Local\\Packages\\PythonSoftwareFoundation.Python.3.11_qbz5n2kfra8p0\\LocalCache\\local-packages\\Python311\\site-packages\\sklearn\\discriminant_analysis.py:1024: LinAlgWarning: The covariance matrix of class 2 is not full rank. Increasing the value of parameter `reg_param` might help reducing the collinearity.\n",
      "  warnings.warn(\n",
      "C:\\Users\\ferri\\AppData\\Local\\Packages\\PythonSoftwareFoundation.Python.3.11_qbz5n2kfra8p0\\LocalCache\\local-packages\\Python311\\site-packages\\sklearn\\discriminant_analysis.py:1024: LinAlgWarning: The covariance matrix of class 3 is not full rank. Increasing the value of parameter `reg_param` might help reducing the collinearity.\n",
      "  warnings.warn(\n",
      "C:\\Users\\ferri\\AppData\\Local\\Packages\\PythonSoftwareFoundation.Python.3.11_qbz5n2kfra8p0\\LocalCache\\local-packages\\Python311\\site-packages\\sklearn\\discriminant_analysis.py:1024: LinAlgWarning: The covariance matrix of class 4 is not full rank. Increasing the value of parameter `reg_param` might help reducing the collinearity.\n",
      "  warnings.warn(\n"
     ]
    },
    {
     "name": "stdout",
     "output_type": "stream",
     "text": [
      "              precision    recall  f1-score   support\n",
      "\n",
      "         0.0     0.9754    0.8958    0.9339    246315\n",
      "         1.0     0.8670    0.9521    0.9076     10566\n",
      "         2.0     0.7977    0.9317    0.8595     63658\n",
      "         3.0     0.8912    0.9861    0.9363     47543\n",
      "         4.0     0.9392    0.9989    0.9681     52010\n",
      "\n",
      "    accuracy                         0.9256    420092\n",
      "   macro avg     0.8941    0.9529    0.9211    420092\n",
      "weighted avg     0.9317    0.9256    0.9265    420092\n",
      "\n"
     ]
    }
   ],
   "source": [
    "qda_clf = QuadraticDiscriminantAnalysis()\n",
    "qda_clf.fit(x_train,y_train)\n",
    "y_out = qda_clf.fit(x_train, y_train).predict(x_test)\n",
    "print(classification_report(y_test, y_out, digits=4))#target_names=['Not Six', 'Six']\n",
    "#IF QDA is best, then data must be Gaussian"
   ]
  },
  {
   "cell_type": "code",
   "execution_count": 30,
   "metadata": {},
   "outputs": [
    {
     "name": "stdout",
     "output_type": "stream",
     "text": [
      "              precision    recall  f1-score   support\n",
      "\n",
      "         0.0     0.8729    0.9031    0.8877   1230433\n",
      "         1.0     0.8648    0.9317    0.8970     53659\n",
      "         2.0     0.7485    0.7179    0.7329    316935\n",
      "         3.0     0.9045    0.7139    0.7980    239191\n",
      "         4.0     0.9389    0.9985    0.9678    260238\n",
      "\n",
      "    accuracy                         0.8662   2100456\n",
      "   macro avg     0.8659    0.8530    0.8567   2100456\n",
      "weighted avg     0.8657    0.8662    0.8643   2100456\n",
      "\n"
     ]
    }
   ],
   "source": [
    "qda_clf = QuadraticDiscriminantAnalysis()\n",
    "norm_y_out = cross_val_predict(qda_clf, norm_x, norm_y, cv=5)\n",
    "lm=(classification_report(norm_y, norm_y_out, digits=4))\n",
    "print(lm)"
   ]
  },
  {
   "cell_type": "markdown",
   "metadata": {},
   "source": [
    "# QDA + Normalization + Cross Validation = 10"
   ]
  },
  {
   "cell_type": "code",
   "execution_count": 31,
   "metadata": {},
   "outputs": [
    {
     "name": "stdout",
     "output_type": "stream",
     "text": [
      "              precision    recall  f1-score   support\n",
      "\n",
      "         0.0     0.9473    0.8943    0.9200   1230433\n",
      "         1.0     0.8798    0.9427    0.9101     53659\n",
      "         2.0     0.7799    0.8881    0.8305    316935\n",
      "         3.0     0.8922    0.9069    0.8995    239191\n",
      "         4.0     0.9366    0.9985    0.9666    260238\n",
      "\n",
      "    accuracy                         0.9089   2100456\n",
      "   macro avg     0.8872    0.9261    0.9053   2100456\n",
      "weighted avg     0.9127    0.9089    0.9097   2100456\n",
      "\n"
     ]
    }
   ],
   "source": [
    "qda_clf = QuadraticDiscriminantAnalysis(priors=None, reg_param=0)\n",
    "norm_y_out = cross_val_predict(qda_clf, norm_x, norm_y, cv=10)\n",
    "lm=(classification_report(norm_y, norm_y_out, digits=4))\n",
    "print(lm)   "
   ]
  },
  {
   "cell_type": "code",
   "execution_count": 32,
   "metadata": {},
   "outputs": [
    {
     "name": "stdout",
     "output_type": "stream",
     "text": [
      "              precision    recall  f1-score   support\n",
      "\n",
      "         0.0     0.8380    0.8037    0.8205   1230433\n",
      "         1.0     0.9813    0.7941    0.8778     53659\n",
      "         2.0     0.5829    0.4384    0.5005    316935\n",
      "         3.0     0.6677    0.9552    0.7860    239191\n",
      "         4.0     0.8780    1.0000    0.9350    260238\n",
      "\n",
      "    accuracy                         0.7899   2100456\n",
      "   macro avg     0.7896    0.7983    0.7840   2100456\n",
      "weighted avg     0.7887    0.7899    0.7839   2100456\n",
      "\n"
     ]
    }
   ],
   "source": [
    "qda_clf = QuadraticDiscriminantAnalysis(priors=None, reg_param=0.5)\n",
    "norm_y_out = cross_val_predict(qda_clf, norm_x, norm_y, cv=10)\n",
    "lm=(classification_report(norm_y, norm_y_out, digits=4))\n",
    "print(lm)"
   ]
  },
  {
   "cell_type": "code",
   "execution_count": 33,
   "metadata": {},
   "outputs": [
    {
     "name": "stdout",
     "output_type": "stream",
     "text": [
      "              precision    recall  f1-score   support\n",
      "\n",
      "         0.0     0.7625    0.8220    0.7912   1230433\n",
      "         1.0     0.9929    0.6342    0.7740     53659\n",
      "         2.0     0.4651    0.3059    0.3690    316935\n",
      "         3.0     0.6491    0.6136    0.6309    239191\n",
      "         4.0     0.8525    1.0000    0.9204    260238\n",
      "\n",
      "    accuracy                         0.7376   2100456\n",
      "   macro avg     0.7444    0.6751    0.6971   2100456\n",
      "weighted avg     0.7218    0.7376    0.7248   2100456\n",
      "\n"
     ]
    }
   ],
   "source": [
    "qda_clf = QuadraticDiscriminantAnalysis(priors=None, reg_param=0.9)\n",
    "norm_y_out = cross_val_predict(qda_clf, norm_x, norm_y, cv=10)\n",
    "lm=(classification_report(norm_y, norm_y_out, digits=4))\n",
    "print(lm)"
   ]
  },
  {
   "cell_type": "code",
   "execution_count": 34,
   "metadata": {},
   "outputs": [
    {
     "name": "stdout",
     "output_type": "stream",
     "text": [
      "              precision    recall  f1-score   support\n",
      "\n",
      "         0.0     0.7977    0.8178    0.8076   1230433\n",
      "         1.0     0.9887    0.7486    0.8521     53659\n",
      "         2.0     0.5200    0.3503    0.4186    316935\n",
      "         3.0     0.6728    0.8035    0.7324    239191\n",
      "         4.0     0.8698    1.0000    0.9304    260238\n",
      "\n",
      "    accuracy                         0.7664   2100456\n",
      "   macro avg     0.7698    0.7440    0.7482   2100456\n",
      "weighted avg     0.7554    0.7664    0.7567   2100456\n",
      "\n"
     ]
    }
   ],
   "source": [
    "qda_clf = QuadraticDiscriminantAnalysis(priors=None, reg_param=0.7)\n",
    "norm_y_out = cross_val_predict(qda_clf, norm_x, norm_y, cv=10)\n",
    "lm=(classification_report(norm_y, norm_y_out, digits=4))\n",
    "print(lm)"
   ]
  },
  {
   "cell_type": "markdown",
   "metadata": {},
   "source": [
    "# QDA + Normalization + Cross Validation = 20"
   ]
  },
  {
   "cell_type": "code",
   "execution_count": 35,
   "metadata": {},
   "outputs": [
    {
     "name": "stdout",
     "output_type": "stream",
     "text": [
      "              precision    recall  f1-score   support\n",
      "\n",
      "         0.0     0.9647    0.8873    0.9243   1230433\n",
      "         1.0     0.8790    0.9432    0.9100     53659\n",
      "         2.0     0.7730    0.9054    0.8340    316935\n",
      "         3.0     0.8858    0.9719    0.9269    239191\n",
      "         4.0     0.9369    0.9990    0.9670    260238\n",
      "\n",
      "    accuracy                         0.9149   2100456\n",
      "   macro avg     0.8879    0.9414    0.9124   2100456\n",
      "weighted avg     0.9211    0.9149    0.9159   2100456\n",
      "\n"
     ]
    }
   ],
   "source": [
    "qda_clf = QuadraticDiscriminantAnalysis()\n",
    "norm_y_out = cross_val_predict(qda_clf, norm_x, norm_y, cv=20)\n",
    "lm=(classification_report(norm_y, norm_y_out, digits=4))\n",
    "print(lm)"
   ]
  },
  {
   "cell_type": "markdown",
   "metadata": {},
   "source": [
    "# KNN + Cross Validation + K=3 + Normalization [ CV = 10, K = 3 ]"
   ]
  },
  {
   "cell_type": "code",
   "execution_count": 36,
   "metadata": {},
   "outputs": [
    {
     "name": "stdout",
     "output_type": "stream",
     "text": [
      "              precision    recall  f1-score   support\n",
      "\n",
      "         0.0     0.9245    0.8220    0.8702   1230433\n",
      "         1.0     0.9086    0.8866    0.8974     53659\n",
      "         2.0     0.7062    0.9154    0.7973    316935\n",
      "         3.0     0.7487    0.8514    0.7968    239191\n",
      "         4.0     0.9013    0.9397    0.9201    260238\n",
      "\n",
      "    accuracy                         0.8557   2100456\n",
      "   macro avg     0.8379    0.8830    0.8564   2100456\n",
      "weighted avg     0.8683    0.8557    0.8577   2100456\n",
      "\n"
     ]
    }
   ],
   "source": [
    "#Do base mdel with test and train data, show improvement in next section with cross validation\n",
    "knn = KNeighborsClassifier(n_neighbors=3)\n",
    "norm_y_out = cross_val_predict(knn, norm_x, norm_y, cv=10)\n",
    "lm=(classification_report(norm_y, norm_y_out, digits=4))\n",
    "print(lm)\n",
    "#https://www.ritchieng.com/machine-learning-cross-validation/"
   ]
  },
  {
   "cell_type": "markdown",
   "metadata": {},
   "source": [
    "# KNN + Cross Validation + K=5 + Normalization [ CV = 20, K = 5 ]"
   ]
  },
  {
   "cell_type": "code",
   "execution_count": 37,
   "metadata": {},
   "outputs": [
    {
     "name": "stdout",
     "output_type": "stream",
     "text": [
      "              precision    recall  f1-score   support\n",
      "\n",
      "         0.0     0.9545    0.8799    0.9157   1230433\n",
      "         1.0     0.9155    0.9165    0.9160     53659\n",
      "         2.0     0.8234    0.9416    0.8785    316935\n",
      "         3.0     0.8043    0.9206    0.8585    239191\n",
      "         4.0     0.9060    0.9620    0.9332    260238\n",
      "\n",
      "    accuracy                         0.9049   2100456\n",
      "   macro avg     0.8807    0.9241    0.9004   2100456\n",
      "weighted avg     0.9106    0.9049    0.9057   2100456\n",
      "\n"
     ]
    }
   ],
   "source": [
    "knn = KNeighborsClassifier(n_neighbors=5)\n",
    "norm_y_out = cross_val_predict(knn, norm_x, norm_y, cv=20)\n",
    "lm=(classification_report(norm_y, norm_y_out, digits=4))\n",
    "print(lm)"
   ]
  },
  {
   "cell_type": "markdown",
   "metadata": {},
   "source": [
    "# KNN + Cross Validation + K=10 + Normalization [ CV = 10, K = 10 ]"
   ]
  },
  {
   "cell_type": "code",
   "execution_count": 38,
   "metadata": {},
   "outputs": [
    {
     "name": "stdout",
     "output_type": "stream",
     "text": [
      "              precision    recall  f1-score   support\n",
      "\n",
      "         0.0     0.9249    0.8253    0.8723   1230433\n",
      "         1.0     0.9246    0.8831    0.9034     53659\n",
      "         2.0     0.7107    0.9127    0.7992    316935\n",
      "         3.0     0.7492    0.8527    0.7976    239191\n",
      "         4.0     0.9024    0.9430    0.9222    260238\n",
      "\n",
      "    accuracy                         0.8577   2100456\n",
      "   macro avg     0.8423    0.8834    0.8589   2100456\n",
      "weighted avg     0.8698    0.8577    0.8597   2100456\n",
      "\n"
     ]
    }
   ],
   "source": [
    "knn = KNeighborsClassifier(n_neighbors=10)\n",
    "norm_y_out = cross_val_predict(knn, norm_x, norm_y, cv=10)\n",
    "lm=(classification_report(norm_y, norm_y_out, digits=4))\n",
    "print(lm)"
   ]
  },
  {
   "cell_type": "markdown",
   "metadata": {},
   "source": [
    "# KNN + Cross Validation [ CV = 10, K = 20 ]"
   ]
  },
  {
   "cell_type": "code",
   "execution_count": 39,
   "metadata": {},
   "outputs": [
    {
     "name": "stdout",
     "output_type": "stream",
     "text": [
      "              precision    recall  f1-score   support\n",
      "\n",
      "         0.0     0.9295    0.8213    0.8720   1230433\n",
      "         1.0     0.9454    0.8815    0.9123     53659\n",
      "         2.0     0.7058    0.9185    0.7982    316935\n",
      "         3.0     0.7441    0.8621    0.7988    239191\n",
      "         4.0     0.9030    0.9498    0.9258    260238\n",
      "\n",
      "    accuracy                         0.8580   2100456\n",
      "   macro avg     0.8456    0.8866    0.8614   2100456\n",
      "weighted avg     0.8718    0.8580    0.8602   2100456\n",
      "\n"
     ]
    }
   ],
   "source": [
    "knn = KNeighborsClassifier(n_neighbors=20)\n",
    "norm_y_out = cross_val_predict(knn, norm_x, norm_y, cv=10)\n",
    "lm=(classification_report(norm_y, norm_y_out, digits=4))\n",
    "print(lm)"
   ]
  },
  {
   "cell_type": "markdown",
   "metadata": {},
   "source": [
    "# KNN + Cross Validation [ CV = 10, K = 30 ]"
   ]
  },
  {
   "cell_type": "code",
   "execution_count": 40,
   "metadata": {},
   "outputs": [
    {
     "name": "stdout",
     "output_type": "stream",
     "text": [
      "              precision    recall  f1-score   support\n",
      "\n",
      "         0.0     0.9321    0.8199    0.8724   1230433\n",
      "         1.0     0.9605    0.8802    0.9186     53659\n",
      "         2.0     0.7034    0.9201    0.7973    316935\n",
      "         3.0     0.7430    0.8689    0.8010    239191\n",
      "         4.0     0.9037    0.9537    0.9280    260238\n",
      "\n",
      "    accuracy                         0.8587   2100456\n",
      "   macro avg     0.8485    0.8885    0.8635   2100456\n",
      "weighted avg     0.8732    0.8587    0.8610   2100456\n",
      "\n"
     ]
    }
   ],
   "source": [
    "knn = KNeighborsClassifier(n_neighbors=30)\n",
    "norm_y_out = cross_val_predict(knn, norm_x, norm_y, cv=10)\n",
    "lm=(classification_report(norm_y, norm_y_out, digits=4))\n",
    "print(lm)"
   ]
  },
  {
   "cell_type": "markdown",
   "metadata": {},
   "source": [
    "# KNN + Cross Validation [ CV = 10, K = 40 ]"
   ]
  },
  {
   "cell_type": "code",
   "execution_count": 41,
   "metadata": {},
   "outputs": [
    {
     "name": "stdout",
     "output_type": "stream",
     "text": [
      "              precision    recall  f1-score   support\n",
      "\n",
      "         0.0     0.9338    0.8191    0.8727   1230433\n",
      "         1.0     0.9673    0.8792    0.9211     53659\n",
      "         2.0     0.7017    0.9208    0.7964    316935\n",
      "         3.0     0.7433    0.8738    0.8033    239191\n",
      "         4.0     0.9042    0.9564    0.9296    260238\n",
      "\n",
      "    accuracy                         0.8592   2100456\n",
      "   macro avg     0.8501    0.8899    0.8646   2100456\n",
      "weighted avg     0.8743    0.8592    0.8616   2100456\n",
      "\n"
     ]
    }
   ],
   "source": [
    "knn = KNeighborsClassifier(n_neighbors=40)\n",
    "norm_y_out = cross_val_predict(knn, norm_x, norm_y, cv=10)\n",
    "lm=(classification_report(norm_y, norm_y_out, digits=4))\n",
    "print(lm)"
   ]
  },
  {
   "cell_type": "markdown",
   "metadata": {},
   "source": [
    "# KNN + Cross Validation [ CV = 10, K = 60 ]"
   ]
  },
  {
   "cell_type": "code",
   "execution_count": 42,
   "metadata": {},
   "outputs": [
    {
     "name": "stdout",
     "output_type": "stream",
     "text": [
      "              precision    recall  f1-score   support\n",
      "\n",
      "         0.0     0.9367    0.8185    0.8736   1230433\n",
      "         1.0     0.9745    0.8774    0.9234     53659\n",
      "         2.0     0.6999    0.9215    0.7956    316935\n",
      "         3.0     0.7447    0.8825    0.8078    239191\n",
      "         4.0     0.9046    0.9606    0.9318    260238\n",
      "\n",
      "    accuracy                         0.8604   2100456\n",
      "   macro avg     0.8521    0.8921    0.8664   2100456\n",
      "weighted avg     0.8761    0.8604    0.8628   2100456\n",
      "\n"
     ]
    }
   ],
   "source": [
    "knn = KNeighborsClassifier(n_neighbors=60)\n",
    "norm_y_out = cross_val_predict(knn, norm_x, norm_y, cv=10)\n",
    "lm=(classification_report(norm_y, norm_y_out, digits=4))\n",
    "print(lm)"
   ]
  },
  {
   "cell_type": "markdown",
   "metadata": {},
   "source": [
    "# KNN + Cross Validation [ CV = 10, K = 100 ]"
   ]
  },
  {
   "cell_type": "code",
   "execution_count": 43,
   "metadata": {},
   "outputs": [
    {
     "name": "stdout",
     "output_type": "stream",
     "text": [
      "              precision    recall  f1-score   support\n",
      "\n",
      "         0.0     0.9407    0.8172    0.8746   1230433\n",
      "         1.0     0.9775    0.8741    0.9229     53659\n",
      "         2.0     0.6977    0.9214    0.7941    316935\n",
      "         3.0     0.7461    0.8951    0.8139    239191\n",
      "         4.0     0.9049    0.9666    0.9347    260238\n",
      "\n",
      "    accuracy                         0.8618   2100456\n",
      "   macro avg     0.8534    0.8949    0.8680   2100456\n",
      "weighted avg     0.8784    0.8618    0.8642   2100456\n",
      "\n"
     ]
    }
   ],
   "source": [
    "knn = KNeighborsClassifier(n_neighbors=100)\n",
    "norm_y_out = cross_val_predict(knn, norm_x, norm_y, cv=10)\n",
    "lm=(classification_report(norm_y, norm_y_out, digits=4))\n",
    "print(lm)"
   ]
  },
  {
   "cell_type": "markdown",
   "metadata": {},
   "source": [
    "# Simple Decision Tree + Depth = 5"
   ]
  },
  {
   "cell_type": "code",
   "execution_count": 48,
   "metadata": {},
   "outputs": [
    {
     "name": "stdout",
     "output_type": "stream",
     "text": [
      "              precision    recall  f1-score   support\n",
      "\n",
      "         0.0     0.9638    0.9287    0.9459    245883\n",
      "         1.0     0.9982    0.9576    0.9775     10705\n",
      "         2.0     0.8736    0.9948    0.9303     63387\n",
      "         3.0     0.8441    0.8740    0.8588     48085\n",
      "         4.0     0.9867    0.9653    0.9759     52032\n",
      "\n",
      "    accuracy                         0.9377    420092\n",
      "   macro avg     0.9333    0.9441    0.9377    420092\n",
      "weighted avg     0.9402    0.9377    0.9381    420092\n",
      "\n"
     ]
    }
   ],
   "source": [
    "\n",
    "clf = DecisionTreeClassifier(criterion=\"entropy\", max_depth=5)\n",
    "\n",
    "clf_i = clf.fit(x_train,y_train)\n",
    "\n",
    "y_out_i = clf_i.predict(x_test)\n",
    "\n",
    "lm_i=(classification_report(y_test, y_out_i, digits=4))\n",
    "print(lm_i)\n",
    "\n",
    " "
   ]
  },
  {
   "cell_type": "markdown",
   "metadata": {},
   "source": [
    "# Displaying and Drwaing the Tree"
   ]
  },
  {
   "cell_type": "code",
   "execution_count": 49,
   "metadata": {},
   "outputs": [
    {
     "data": {
      "text/plain": [
       "[Text(0.47767857142857145, 0.9166666666666666, 'x[2] <= -0.637\\nentropy = 1.729\\nsamples = 1680364\\nvalue = [984550, 42954, 253548, 191106, 208206]'),\n",
       " Text(0.24107142857142858, 0.75, 'x[5] <= 1.041\\nentropy = 1.001\\nsamples = 271292\\nvalue = [22452, 40634, 0, 0, 208206]'),\n",
       " Text(0.359375, 0.8333333333333333, 'True  '),\n",
       " Text(0.14285714285714285, 0.5833333333333334, 'x[6] <= 31.506\\nentropy = 0.435\\nsamples = 228658\\nvalue = [20444, 9, 0, 0, 208205]'),\n",
       " Text(0.07142857142857142, 0.4166666666666667, 'x[6] <= 31.307\\nentropy = 0.302\\nsamples = 219481\\nvalue = [11762, 9, 0, 0, 207710]'),\n",
       " Text(0.03571428571428571, 0.25, 'x[0] <= 0.571\\nentropy = 0.99\\nsamples = 23044\\nvalue = [9868.0, 9.0, 0.0, 0.0, 13167.0]'),\n",
       " Text(0.017857142857142856, 0.08333333333333333, 'entropy = 0.987\\nsamples = 16353\\nvalue = [9271, 0, 0, 0, 7082]'),\n",
       " Text(0.05357142857142857, 0.08333333333333333, 'entropy = 0.448\\nsamples = 6691\\nvalue = [597, 9, 0, 0, 6085]'),\n",
       " Text(0.10714285714285714, 0.25, 'x[1] <= -0.138\\nentropy = 0.078\\nsamples = 196437\\nvalue = [1894, 0, 0, 0, 194543]'),\n",
       " Text(0.08928571428571429, 0.08333333333333333, 'entropy = 0.49\\nsamples = 9842\\nvalue = [1051, 0, 0, 0, 8791]'),\n",
       " Text(0.125, 0.08333333333333333, 'entropy = 0.042\\nsamples = 186595\\nvalue = [843.0, 0.0, 0.0, 0.0, 185752.0]'),\n",
       " Text(0.21428571428571427, 0.4166666666666667, 'x[5] <= 0.931\\nentropy = 0.303\\nsamples = 9177\\nvalue = [8682, 0, 0, 0, 495]'),\n",
       " Text(0.17857142857142858, 0.25, 'x[6] <= 31.947\\nentropy = 0.929\\nsamples = 1116\\nvalue = [732.0, 0.0, 0.0, 0.0, 384.0]'),\n",
       " Text(0.16071428571428573, 0.08333333333333333, 'entropy = 0.924\\nsamples = 363\\nvalue = [123, 0, 0, 0, 240]'),\n",
       " Text(0.19642857142857142, 0.08333333333333333, 'entropy = 0.704\\nsamples = 753\\nvalue = [609, 0, 0, 0, 144]'),\n",
       " Text(0.25, 0.25, 'x[6] <= 31.515\\nentropy = 0.105\\nsamples = 8061\\nvalue = [7950, 0, 0, 0, 111]'),\n",
       " Text(0.23214285714285715, 0.08333333333333333, 'entropy = 0.654\\nsamples = 368\\nvalue = [306, 0, 0, 0, 62]'),\n",
       " Text(0.26785714285714285, 0.08333333333333333, 'entropy = 0.056\\nsamples = 7693\\nvalue = [7644, 0, 0, 0, 49]'),\n",
       " Text(0.3392857142857143, 0.5833333333333334, 'x[1] <= -0.16\\nentropy = 0.274\\nsamples = 42634\\nvalue = [2008.0, 40625.0, 0.0, 0.0, 1.0]'),\n",
       " Text(0.32142857142857145, 0.4166666666666667, 'entropy = 0.0\\nsamples = 1951\\nvalue = [1951, 0, 0, 0, 0]'),\n",
       " Text(0.35714285714285715, 0.4166666666666667, 'x[5] <= 1.055\\nentropy = 0.016\\nsamples = 40683\\nvalue = [57.0, 40625.0, 0.0, 0.0, 1.0]'),\n",
       " Text(0.32142857142857145, 0.25, 'x[6] <= 31.492\\nentropy = 0.929\\nsamples = 40\\nvalue = [30, 9, 0, 0, 1]'),\n",
       " Text(0.30357142857142855, 0.08333333333333333, 'entropy = 0.503\\nsamples = 9\\nvalue = [0, 8, 0, 0, 1]'),\n",
       " Text(0.3392857142857143, 0.08333333333333333, 'entropy = 0.206\\nsamples = 31\\nvalue = [30, 1, 0, 0, 0]'),\n",
       " Text(0.39285714285714285, 0.25, 'x[5] <= 1.276\\nentropy = 0.008\\nsamples = 40643\\nvalue = [27.0, 40616.0, 0.0, 0.0, 0.0]'),\n",
       " Text(0.375, 0.08333333333333333, 'entropy = 0.0\\nsamples = 40470\\nvalue = [0, 40470, 0, 0, 0]'),\n",
       " Text(0.4107142857142857, 0.08333333333333333, 'entropy = 0.625\\nsamples = 173\\nvalue = [27, 146, 0, 0, 0]'),\n",
       " Text(0.7142857142857143, 0.75, 'x[5] <= 1.159\\nentropy = 1.227\\nsamples = 1409072\\nvalue = [962098, 2320, 253548, 191106, 0]'),\n",
       " Text(0.5959821428571429, 0.8333333333333333, '  False'),\n",
       " Text(0.5714285714285714, 0.5833333333333334, 'x[1] <= -0.136\\nentropy = 0.814\\nsamples = 812980\\nvalue = [619562, 2237, 75, 191106, 0]'),\n",
       " Text(0.5, 0.4166666666666667, 'x[2] <= -0.192\\nentropy = 1.025\\nsamples = 360202\\nvalue = [172980.0, 1063.0, 7.0, 186152.0, 0.0]'),\n",
       " Text(0.4642857142857143, 0.25, 'x[6] <= 32.51\\nentropy = 0.125\\nsamples = 113999\\nvalue = [112311.0, 531.0, 7.0, 1150.0, 0.0]'),\n",
       " Text(0.44642857142857145, 0.08333333333333333, 'entropy = 0.064\\nsamples = 112514\\nvalue = [111766.0, 531.0, 7.0, 210.0, 0.0]'),\n",
       " Text(0.48214285714285715, 0.08333333333333333, 'entropy = 0.948\\nsamples = 1485\\nvalue = [545, 0, 0, 940, 0]'),\n",
       " Text(0.5357142857142857, 0.25, 'x[6] <= 31.829\\nentropy = 0.827\\nsamples = 246203\\nvalue = [60669, 532, 0, 185002, 0]'),\n",
       " Text(0.5178571428571429, 0.08333333333333333, 'entropy = 1.013\\nsamples = 49979\\nvalue = [30773, 367, 0, 18839, 0]'),\n",
       " Text(0.5535714285714286, 0.08333333333333333, 'entropy = 0.625\\nsamples = 196224\\nvalue = [29896, 165, 0, 166163, 0]'),\n",
       " Text(0.6428571428571429, 0.4166666666666667, 'x[6] <= 32.028\\nentropy = 0.115\\nsamples = 452778\\nvalue = [446582, 1174, 68, 4954, 0]'),\n",
       " Text(0.6071428571428571, 0.25, 'x[6] <= 30.118\\nentropy = 0.043\\nsamples = 359677\\nvalue = [358188, 1074, 68, 347, 0]'),\n",
       " Text(0.5892857142857143, 0.08333333333333333, 'entropy = 0.0\\nsamples = 489\\nvalue = [0, 489, 0, 0, 0]'),\n",
       " Text(0.625, 0.08333333333333333, 'entropy = 0.031\\nsamples = 359188\\nvalue = [358188, 585, 68, 347, 0]'),\n",
       " Text(0.6785714285714286, 0.25, 'x[5] <= 0.64\\nentropy = 0.296\\nsamples = 93101\\nvalue = [88394, 100, 0, 4607, 0]'),\n",
       " Text(0.6607142857142857, 0.08333333333333333, 'entropy = 0.009\\nsamples = 50871\\nvalue = [50833, 0, 0, 38, 0]'),\n",
       " Text(0.6964285714285714, 0.08333333333333333, 'entropy = 0.518\\nsamples = 42230\\nvalue = [37561, 100, 0, 4569, 0]'),\n",
       " Text(0.8571428571428571, 0.5833333333333334, 'x[2] <= -0.322\\nentropy = 0.986\\nsamples = 596092\\nvalue = [342536.0, 83.0, 253473.0, 0.0, 0.0]'),\n",
       " Text(0.7857142857142857, 0.4166666666666667, 'x[2] <= -0.341\\nentropy = 0.218\\nsamples = 246953\\nvalue = [238400, 14, 8539, 0, 0]'),\n",
       " Text(0.75, 0.25, 'x[5] <= 1.951\\nentropy = 0.069\\nsamples = 207625\\nvalue = [205926.0, 14.0, 1685.0, 0.0, 0.0]'),\n",
       " Text(0.7321428571428571, 0.08333333333333333, 'entropy = 0.051\\nsamples = 206691\\nvalue = [205518, 14, 1159, 0, 0]'),\n",
       " Text(0.7678571428571429, 0.08333333333333333, 'entropy = 0.988\\nsamples = 934\\nvalue = [408, 0, 526, 0, 0]'),\n",
       " Text(0.8214285714285714, 0.25, 'x[6] <= 31.022\\nentropy = 0.667\\nsamples = 39328\\nvalue = [32474, 0, 6854, 0, 0]'),\n",
       " Text(0.8035714285714286, 0.08333333333333333, 'entropy = 0.001\\nsamples = 31020\\nvalue = [31018, 0, 2, 0, 0]'),\n",
       " Text(0.8392857142857143, 0.08333333333333333, 'entropy = 0.67\\nsamples = 8308\\nvalue = [1456, 0, 6852, 0, 0]'),\n",
       " Text(0.9285714285714286, 0.4166666666666667, 'x[6] <= 31.019\\nentropy = 0.882\\nsamples = 349139\\nvalue = [104136.0, 69.0, 244934.0, 0.0, 0.0]'),\n",
       " Text(0.8928571428571429, 0.25, 'x[6] <= 31.006\\nentropy = 0.028\\nsamples = 69271\\nvalue = [69079, 4, 188, 0, 0]'),\n",
       " Text(0.875, 0.08333333333333333, 'entropy = 0.002\\nsamples = 67178\\nvalue = [67169, 4, 5, 0, 0]'),\n",
       " Text(0.9107142857142857, 0.08333333333333333, 'entropy = 0.428\\nsamples = 2093\\nvalue = [1910, 0, 183, 0, 0]'),\n",
       " Text(0.9642857142857143, 0.25, 'x[5] <= 1.386\\nentropy = 0.547\\nsamples = 279868\\nvalue = [35057, 65, 244746, 0, 0]'),\n",
       " Text(0.9464285714285714, 0.08333333333333333, 'entropy = 0.842\\nsamples = 119789\\nvalue = [31892, 65, 87832, 0, 0]'),\n",
       " Text(0.9821428571428571, 0.08333333333333333, 'entropy = 0.14\\nsamples = 160079\\nvalue = [3165.0, 0.0, 156914.0, 0.0, 0.0]')]"
      ]
     },
     "execution_count": 49,
     "metadata": {},
     "output_type": "execute_result"
    },
    {
     "data": {
      "image/png": "[encoded data removed]",
      "text/plain": [
       "<Figure size 640x480 with 1 Axes>"
      ]
     },
     "metadata": {},
     "output_type": "display_data"
    }
   ],
   "source": [
    "tree.plot_tree(clf_i) "
   ]
  },
  {
   "cell_type": "code",
   "execution_count": null,
   "metadata": {
    "scrolled": true
   },
   "outputs": [],
   "source": [
    "#from sklearn import tree\n",
    "#https://scikit-learn.org/stable/modules/tree.html\n",
    "\n",
    "features_ax=[\"c_ax\", \"c_ay\", \"c_az\",\"c_ecg\",\"c_emg\",\"c_eda\",\"c_temp\",\"c_resp\"]\n",
    "classes_ay=['0', '1', '2', '3', '4']\n",
    "\n",
    "dot_data = tree.export_graphviz(clf_i, out_file=None, \n",
    "                      feature_names=features_ax,  \n",
    "                      class_names=classes_ay,  \n",
    "                      filled=True, rounded=True,  \n",
    "                      special_characters=True)  \n",
    "graph = graphviz.Source(dot_data)  \n",
    "graph.render(\"Decision_tree\")\n",
    "graph \n"
   ]
  },
  {
   "cell_type": "markdown",
   "metadata": {},
   "source": [
    "# Simple Decision Tree + Depth = 5 + Cross Validation + Normalization"
   ]
  },
  {
   "cell_type": "code",
   "execution_count": 47,
   "metadata": {},
   "outputs": [
    {
     "name": "stdout",
     "output_type": "stream",
     "text": [
      "              precision    recall  f1-score   support\n",
      "\n",
      "         0.0     0.9361    0.8394    0.8851   1230433\n",
      "         1.0     0.8009    0.9360    0.8632     53659\n",
      "         2.0     0.8695    0.9808    0.9218    316935\n",
      "         3.0     0.6209    0.7785    0.6908    239191\n",
      "         4.0     0.9100    0.9685    0.9384    260238\n",
      "\n",
      "    accuracy                         0.8723   2100456\n",
      "   macro avg     0.8275    0.9007    0.8599   2100456\n",
      "weighted avg     0.8835    0.8723    0.8746   2100456\n",
      "\n"
     ]
    }
   ],
   "source": [
    "\n",
    "clf = DecisionTreeClassifier(criterion=\"entropy\", max_depth=5)\n",
    "\n",
    "\n",
    "norm_y_out = cross_val_predict(clf, norm_x, norm_y, cv=10)\n",
    "\n",
    "lm=(classification_report(norm_y, norm_y_out, digits=4))\n",
    "print(lm)\n"
   ]
  },
  {
   "cell_type": "markdown",
   "metadata": {},
   "source": [
    "# Simple Decision Tree + Depth = 7 + Normalization + Cross Validation"
   ]
  },
  {
   "cell_type": "code",
   "execution_count": 48,
   "metadata": {},
   "outputs": [
    {
     "name": "stdout",
     "output_type": "stream",
     "text": [
      "              precision    recall  f1-score   support\n",
      "\n",
      "         0.0     0.9182    0.8495    0.8825   1230433\n",
      "         1.0     0.8001    0.9444    0.8663     53659\n",
      "         2.0     0.8734    0.8884    0.8809    316935\n",
      "         3.0     0.6494    0.8274    0.7277    239191\n",
      "         4.0     0.9080    0.9478    0.9275    260238\n",
      "\n",
      "    accuracy                         0.8675   2100456\n",
      "   macro avg     0.8298    0.8915    0.8570   2100456\n",
      "weighted avg     0.8766    0.8675    0.8698   2100456\n",
      "\n"
     ]
    }
   ],
   "source": [
    "\n",
    "clf = DecisionTreeClassifier(criterion=\"entropy\", max_depth=7)\n",
    "\n",
    "norm_y_out = cross_val_predict(clf, norm_x, norm_y, cv=10)\n",
    "\n",
    "lm=(classification_report(norm_y, norm_y_out, digits=4))\n",
    "print(lm)\n"
   ]
  },
  {
   "cell_type": "markdown",
   "metadata": {},
   "source": [
    "# Simple Decision Tree + Normalization + Cross Validation\n",
    "\n",
    "## Criterion = Gini, Max_depth = 5, CV = 10"
   ]
  },
  {
   "cell_type": "code",
   "execution_count": 49,
   "metadata": {},
   "outputs": [
    {
     "name": "stdout",
     "output_type": "stream",
     "text": [
      "              precision    recall  f1-score   support\n",
      "\n",
      "         0.0     0.8866    0.8848    0.8857   1230433\n",
      "         1.0     0.9702    0.9373    0.9535     53659\n",
      "         2.0     0.8993    0.7566    0.8218    316935\n",
      "         3.0     0.6914    0.8289    0.7540    239191\n",
      "         4.0     0.9064    0.9306    0.9184    260238\n",
      "\n",
      "    accuracy                         0.8661   2100456\n",
      "   macro avg     0.8708    0.8677    0.8667   2100456\n",
      "weighted avg     0.8709    0.8661    0.8668   2100456\n",
      "\n"
     ]
    }
   ],
   "source": [
    "\n",
    "clf = DecisionTreeClassifier(criterion=\"gini\", max_depth=5)\n",
    "\n",
    "norm_y_out = cross_val_predict(clf, norm_x, norm_y, cv=10)\n",
    "\n",
    "lm=(classification_report(norm_y, norm_y_out, digits=4))\n",
    "print(lm)\n"
   ]
  },
  {
   "cell_type": "markdown",
   "metadata": {},
   "source": [
    "# XGB Implementation \n",
    "\n",
    "## Normalization + max_depth = 10, alpha = 10, n_estimators = 50, gamma=10\n",
    "\n",
    "## colsample_bytree = 0.3, learning_rate = 0.1"
   ]
  },
  {
   "cell_type": "code",
   "execution_count": 50,
   "metadata": {},
   "outputs": [
    {
     "name": "stdout",
     "output_type": "stream",
     "text": [
      "              precision    recall  f1-score   support\n",
      "\n",
      "         0.0     0.9789    0.9837    0.9813    246315\n",
      "         1.0     0.9991    0.9496    0.9737     10566\n",
      "         2.0     0.9729    0.9529    0.9628     63658\n",
      "         3.0     0.9807    0.9767    0.9787     47543\n",
      "         4.0     0.9735    0.9889    0.9811     52010\n",
      "\n",
      "    accuracy                         0.9780    420092\n",
      "   macro avg     0.9810    0.9704    0.9755    420092\n",
      "weighted avg     0.9780    0.9780    0.9780    420092\n",
      "\n"
     ]
    }
   ],
   "source": [
    "#https://towardsdatascience.com/https-medium-com-vishalmorde-xgboost-algorithm-long-she-may-rein-edd9f99be63d\n",
    "#https://www.datacamp.com/community/tutorials/xgboost-in-python\n",
    "#https://medium.com/@gabrielziegler3/multiclass-multilabel-classification-with-xgboost-66195e4d9f2d\n",
    "\n",
    "xg_class = xgb.XGBClassifier(objective ='multi:softmax', colsample_bytree = 0.3, learning_rate = 0.1,\n",
    "                max_depth = 10, alpha = 10, n_estimators = 50, gamma=10)\n",
    "\n",
    "xg_class.fit(x_train,y_train)\n",
    "\n",
    "y_out = xg_class.predict(x_test)\n",
    "\n",
    "lm_xgb=(classification_report(y_test, y_out, digits=4))\n",
    "\n",
    "print(lm_xgb)\n"
   ]
  },
  {
   "cell_type": "code",
   "execution_count": 58,
   "metadata": {},
   "outputs": [
    {
     "name": "stdout",
     "output_type": "stream",
     "text": [
      "              precision    recall  f1-score   support\n",
      "\n",
      "         0.0     0.7111    0.6792    0.6948   1230433\n",
      "         1.0     0.2182    0.4056    0.2838     53659\n",
      "         2.0     0.2898    0.2914    0.2906    316935\n",
      "         3.0     0.2882    0.3154    0.3012    239191\n",
      "         4.0     0.2052    0.1932    0.1990    260238\n",
      "\n",
      "    accuracy                         0.5121   2100456\n",
      "   macro avg     0.3425    0.3770    0.3539   2100456\n",
      "weighted avg     0.5241    0.5121    0.5171   2100456\n",
      "\n"
     ]
    }
   ],
   "source": [
    "from sklearn.model_selection import StratifiedKFold\n",
    "from sklearn.metrics import classification_report\n",
    "\n",
    "skf = StratifiedKFold(n_splits=5)\n",
    "norm_y_out = []\n",
    "\n",
    "for train_index, test_index in skf.split(norm_x, norm_y):\n",
    "    # Use .iloc for pandas DataFrame/Series\n",
    "    x_train, x_test = norm_x.iloc[train_index], norm_x.iloc[test_index]\n",
    "    y_train, y_test = norm_y.iloc[train_index], norm_y.iloc[test_index]\n",
    "\n",
    "    # Fit and predict\n",
    "    xg_class.fit(x_train, y_train)\n",
    "    predictions = xg_class.predict(x_test)\n",
    "    norm_y_out.extend(predictions)\n",
    "\n",
    "# Generate classification report\n",
    "lm = classification_report(norm_y, norm_y_out, digits=4)\n",
    "print(lm)\n"
   ]
  },
  {
   "cell_type": "code",
   "execution_count": 60,
   "metadata": {},
   "outputs": [
    {
     "name": "stdout",
     "output_type": "stream",
     "text": [
      "              precision    recall  f1-score   support\n",
      "\n",
      "         0.0     0.8963    0.9350    0.9152   1230433\n",
      "         1.0     0.9161    0.9179    0.9170     53659\n",
      "         2.0     0.9014    0.8014    0.8485    316935\n",
      "         3.0     0.8703    0.7928    0.8297    239191\n",
      "         4.0     0.9264    0.9374    0.9319    260238\n",
      "\n",
      "    accuracy                         0.8985   2100456\n",
      "   macro avg     0.9021    0.8769    0.8885   2100456\n",
      "weighted avg     0.8983    0.8985    0.8975   2100456\n",
      "\n"
     ]
    }
   ],
   "source": [
    "from sklearn.model_selection import StratifiedKFold\n",
    "from sklearn.metrics import classification_report\n",
    "import numpy as np\n",
    "import xgboost as xgb\n",
    "\n",
    "# Define the XGBoost classifier\n",
    "xg_class = xgb.XGBClassifier(\n",
    "    objective='multi:softmax',\n",
    "    colsample_bytree=0.3,\n",
    "    learning_rate=0.1,\n",
    "    max_depth=10,\n",
    "    alpha=10,\n",
    "    n_estimators=50,\n",
    "    gamma=10\n",
    ")\n",
    "\n",
    "# Stratified K-Fold Cross-Validation\n",
    "skf = StratifiedKFold(n_splits=10)\n",
    "norm_y_out = np.zeros(len(norm_y), dtype=np.int32)\n",
    "\n",
    "for train_index, test_index in skf.split(norm_x, norm_y):\n",
    "    # Split data\n",
    "    x_train, x_test = norm_x.iloc[train_index], norm_x.iloc[test_index]\n",
    "    y_train, y_test = norm_y.iloc[train_index], norm_y.iloc[test_index]\n",
    "\n",
    "    # Fit the model and predict\n",
    "    xg_class.fit(x_train, y_train)\n",
    "    predictions = xg_class.predict(x_test)\n",
    "\n",
    "    # Store predictions in the correct indices\n",
    "    norm_y_out[test_index] = predictions\n",
    "\n",
    "# Generate the classification report\n",
    "lm = classification_report(norm_y, norm_y_out, digits=4)\n",
    "print(lm)"
   ]
  },
  {
   "cell_type": "markdown",
   "metadata": {},
   "source": [
    "# XGB Implementation \n",
    "\n",
    "## Normalization + max_depth = 5, alpha = 10, n_estimators = 20, gamma=20\n",
    "\n",
    "## colsample_bytree = 0.3, learning_rate = 0.9"
   ]
  },
  {
   "cell_type": "code",
   "execution_count": 61,
   "metadata": {},
   "outputs": [
    {
     "name": "stdout",
     "output_type": "stream",
     "text": [
      "              precision    recall  f1-score   support\n",
      "\n",
      "         0.0     0.9250    0.9142    0.9196   1230433\n",
      "         1.0     0.8109    0.9432    0.8720     53659\n",
      "         2.0     0.8926    0.8943    0.8934    316935\n",
      "         3.0     0.8104    0.8076    0.8090    239191\n",
      "         4.0     0.9185    0.9390    0.9286    260238\n",
      "\n",
      "    accuracy                         0.9029   2100456\n",
      "   macro avg     0.8715    0.8997    0.8845   2100456\n",
      "weighted avg     0.9034    0.9029    0.9030   2100456\n",
      "\n"
     ]
    }
   ],
   "source": [
    "from sklearn.model_selection import StratifiedKFold\n",
    "from sklearn.metrics import classification_report\n",
    "import numpy as np\n",
    "import xgboost as xgb\n",
    "\n",
    "# Define the XGBoost classifier with updated parameters\n",
    "xg_class = xgb.XGBClassifier(\n",
    "    objective='multi:softmax',\n",
    "    colsample_bytree=0.3,\n",
    "    learning_rate=0.9,\n",
    "    max_depth=5,\n",
    "    alpha=10,\n",
    "    n_estimators=20,\n",
    "    gamma=20\n",
    ")\n",
    "\n",
    "# Stratified K-Fold Cross-Validation\n",
    "skf = StratifiedKFold(n_splits=10)\n",
    "norm_y_out = np.zeros(len(norm_y), dtype=np.int32)\n",
    "\n",
    "for train_index, test_index in skf.split(norm_x, norm_y):\n",
    "    # Split data into training and testing sets\n",
    "    x_train, x_test = norm_x.iloc[train_index], norm_x.iloc[test_index]\n",
    "    y_train, y_test = norm_y.iloc[train_index], norm_y.iloc[test_index]\n",
    "\n",
    "    # Fit the model on the training data\n",
    "    xg_class.fit(x_train, y_train)\n",
    "\n",
    "    # Predict on the test data\n",
    "    predictions = xg_class.predict(x_test)\n",
    "\n",
    "    # Store the predictions in the appropriate indices\n",
    "    norm_y_out[test_index] = predictions\n",
    "\n",
    "# Generate the classification report\n",
    "lm = classification_report(norm_y, norm_y_out, digits=4)\n",
    "print(lm)"
   ]
  },
  {
   "cell_type": "code",
   "execution_count": 62,
   "metadata": {},
   "outputs": [
    {
     "name": "stdout",
     "output_type": "stream",
     "text": [
      "              precision    recall  f1-score   support\n",
      "\n",
      "         0.0     0.9094    0.9251    0.9172   1230433\n",
      "         1.0     0.9220    0.9393    0.9306     53659\n",
      "         2.0     0.8925    0.8522    0.8719    316935\n",
      "         3.0     0.8433    0.8033    0.8228    239191\n",
      "         4.0     0.9254    0.9374    0.9314    260238\n",
      "\n",
      "    accuracy                         0.9021   2100456\n",
      "   macro avg     0.8985    0.8915    0.8948   2100456\n",
      "weighted avg     0.9016    0.9021    0.9017   2100456\n",
      "\n"
     ]
    }
   ],
   "source": [
    "from sklearn.model_selection import StratifiedKFold\n",
    "from sklearn.metrics import classification_report\n",
    "import numpy as np\n",
    "import xgboost as xgb\n",
    "\n",
    "# Define the XGBoost classifier with specified parameters\n",
    "xg_class = xgb.XGBClassifier(\n",
    "    objective='multi:softmax',\n",
    "    colsample_bytree=0.3,\n",
    "    learning_rate=0.1,\n",
    "    max_depth=15,\n",
    "    alpha=10,\n",
    "    n_estimators=70,\n",
    "    gamma=10\n",
    ")\n",
    "\n",
    "# Stratified K-Fold Cross-Validation\n",
    "skf = StratifiedKFold(n_splits=10)\n",
    "norm_y_out = np.zeros(len(norm_y), dtype=np.int32)\n",
    "\n",
    "for train_index, test_index in skf.split(norm_x, norm_y):\n",
    "    # Split data into training and testing sets\n",
    "    x_train, x_test = norm_x.iloc[train_index], norm_x.iloc[test_index]\n",
    "    y_train, y_test = norm_y.iloc[train_index], norm_y.iloc[test_index]\n",
    "\n",
    "    # Fit the model on the training data\n",
    "    xg_class.fit(x_train, y_train)\n",
    "\n",
    "    # Predict on the test data\n",
    "    predictions = xg_class.predict(x_test)\n",
    "\n",
    "    # Store the predictions in the appropriate indices\n",
    "    norm_y_out[test_index] = predictions\n",
    "\n",
    "# Generate the classification report\n",
    "lm = classification_report(norm_y, norm_y_out, digits=4)\n",
    "print(lm)"
   ]
  },
  {
   "cell_type": "markdown",
   "metadata": {},
   "source": [
    "# SVC + Normalization"
   ]
  },
  {
   "cell_type": "code",
   "execution_count": null,
   "metadata": {},
   "outputs": [],
   "source": [
    "# Create a SVC classifier using a linear kernel\n",
    "from sklearn.svm import SVC\n",
    "clf = SVC(kernel='linear', C=1, random_state=0)\n",
    "# Train the classifier\n",
    "clf.fit(x_train, y_train)\n",
    "\n",
    "#Predict the response for test dataset\n",
    "y_out = clf.predict(x_test)\n",
    "lm_svc=(classification_report(y_test, y_out, digits=4))\n",
    "print(lm_svc)\n"
   ]
  },
  {
   "cell_type": "markdown",
   "metadata": {},
   "source": [
    "# SVM + Normalization + Cross Validation"
   ]
  },
  {
   "cell_type": "code",
   "execution_count": 14,
   "metadata": {},
   "outputs": [
    {
     "name": "stdout",
     "output_type": "stream",
     "text": [
      "              precision    recall  f1-score   support\n",
      "\n",
      "         0.0     0.8618    0.8911    0.8762       560\n",
      "         1.0     0.9412    0.4571    0.6154        35\n",
      "         2.0     0.8418    0.8210    0.8313       162\n",
      "         3.0     0.7615    0.7830    0.7721       106\n",
      "         4.0     0.9270    0.9270    0.9270       137\n",
      "\n",
      "    accuracy                         0.8580      1000\n",
      "   macro avg     0.8667    0.7758    0.8044      1000\n",
      "weighted avg     0.8596    0.8580    0.8557      1000\n",
      "\n"
     ]
    }
   ],
   "source": [
    "##https://scikit-learn.org/stable/modules/svm.html\n",
    "#https://www.datacamp.com/community/tutorials/svm-classification-scikit-learn-python\n",
    "#https://medium.com/all-things-ai/in-depth-parameter-tuning-for-svc-758215394769\n",
    "###https://scikit-learn.org/stable/modules/generated/sklearn.svm.LinearSVC.html\n",
    "#https://chrisalbon.com/machine_learning/support_vector_machines/svc_parameters_using_rbf_kernel/\n",
    "\n",
    "#svm = SVC(kernel='rbf', random_state=0, gamma=10, C=1)\n",
    "#1000 iterations take 25 minutes\n",
    "from sklearn import svm\n",
    "\n",
    "#Create a svm Classifier\n",
    "clf = svm.SVC(kernel='rbf', random_state=0, gamma=10, C=100,\n",
    "              shrinking=True, tol=1.000, cache_size=10) ##(kernel='linear') # Linear Kernel\n",
    "\n",
    "#Train the model using the training sets\n",
    "clf.fit(x_train, y_train)\n",
    "\n",
    "#Predict the response for test dataset\n",
    "y_out = clf.predict(x_test)\n",
    "lm_svc=(classification_report(y_test, y_out, digits=4))\n",
    "print(lm_svc)\n"
   ]
  },
  {
   "cell_type": "markdown",
   "metadata": {},
   "source": [
    "# SVM + Normalization + Cross Validation + Gamma = 20"
   ]
  },
  {
   "cell_type": "code",
   "execution_count": null,
   "metadata": {},
   "outputs": [],
   "source": [
    "from sklearn import svm\n",
    "\n",
    "#Create a svm Classifier\n",
    "clf = svm.SVC(kernel='rbf', random_state=0, gamma=20, C=100,\n",
    "              shrinking=True, tol=1.000, cache_size=10) ##(kernel='linear') # Linear Kernel\n",
    "\n",
    "#Train the model using the training sets\n",
    "clf.fit(norm_x_train, norm_y_train)\n",
    "\n",
    "#Predict the response for test dataset\n",
    "norm_y_out = clf.predict(norm_x_test)"
   ]
  },
  {
   "cell_type": "code",
   "execution_count": 17,
   "metadata": {},
   "outputs": [
    {
     "name": "stdout",
     "output_type": "stream",
     "text": [
      "              precision    recall  f1-score   support\n",
      "\n",
      "         0.0     0.9629    0.9518    0.9573      5831\n",
      "         1.0     0.9955    0.8610    0.9234       259\n",
      "         2.0     0.9034    0.9548    0.9284      1548\n",
      "         3.0     0.9207    0.9381    0.9293      1114\n",
      "         4.0     0.9726    0.9671    0.9699      1248\n",
      "\n",
      "    accuracy                         0.9503     10000\n",
      "   macro avg     0.9510    0.9346    0.9417     10000\n",
      "weighted avg     0.9510    0.9503    0.9504     10000\n",
      "\n"
     ]
    }
   ],
   "source": [
    "lm_svm=(classification_report(norm_y_test, norm_y_out, digits=4))\n",
    "print(lm_svm)\n"
   ]
  },
  {
   "cell_type": "code",
   "execution_count": null,
   "metadata": {},
   "outputs": [],
   "source": [
    "norm_y_out = cross_val_predict(clf, norm_x, norm_y, cv=10)\n",
    "\n",
    "lm=(classification_report(norm_y, norm_y_out, digits=4))\n",
    "print(lm)"
   ]
  },
  {
   "cell_type": "markdown",
   "metadata": {},
   "source": [
    "# PCA Implementation with 4 features + KNN + XGBOOST"
   ]
  },
  {
   "cell_type": "code",
   "execution_count": 10,
   "metadata": {},
   "outputs": [
    {
     "name": "stdout",
     "output_type": "stream",
     "text": [
      "original shape:    (2100456, 8)\n",
      "transformed shape: (2100456, 4)\n"
     ]
    }
   ],
   "source": [
    "#https://www.datacamp.com/community/tutorials/principal-component-analysis-in-python\n",
    "\n",
    "\n",
    "pca_dj = PCA(n_components=4)\n",
    "\n",
    "x_pca=pca_dj.fit_transform(x)\n",
    "#x_pca = pca_dj.transform(x_pca)\n",
    "print(\"original shape:   \", x.shape)\n",
    "print(\"transformed shape:\", x_pca.shape)"
   ]
  },
  {
   "cell_type": "code",
   "execution_count": 31,
   "metadata": {},
   "outputs": [
    {
     "data": {
      "text/plain": [
       "393691     1.0\n",
       "394476     1.0\n",
       "395154     1.0\n",
       "396635     1.0\n",
       "402178     1.0\n",
       "          ... \n",
       "4255293    0.0\n",
       "4255295    0.0\n",
       "4255296    0.0\n",
       "4255297    0.0\n",
       "4255299    0.0\n",
       "Name: w_label, Length: 2100456, dtype: float64"
      ]
     },
     "execution_count": 31,
     "metadata": {},
     "output_type": "execute_result"
    }
   ],
   "source": [
    "y"
   ]
  },
  {
   "cell_type": "code",
   "execution_count": 11,
   "metadata": {},
   "outputs": [
    {
     "name": "stdout",
     "output_type": "stream",
     "text": [
      "data frame combined 0.0 4.0\n",
      "(2100456, 5)\n"
     ]
    }
   ],
   "source": [
    "pca_df = pd.DataFrame(data=x_pca, columns=[\"PCA-1\", \"PCA-2\", \"PCA-3\",\"PCA-4\"]) \n",
    "pca_df['w_label'] = y.values\n",
    "print(\"data frame combined\",min(y),max(y))\n",
    "print(pca_df.shape)"
   ]
  },
  {
   "cell_type": "code",
   "execution_count": 12,
   "metadata": {},
   "outputs": [
    {
     "data": {
      "text/html": [
       "<div>\n",
       "<style scoped>\n",
       "    .dataframe tbody tr th:only-of-type {\n",
       "        vertical-align: middle;\n",
       "    }\n",
       "\n",
       "    .dataframe tbody tr th {\n",
       "        vertical-align: top;\n",
       "    }\n",
       "\n",
       "    .dataframe thead th {\n",
       "        text-align: right;\n",
       "    }\n",
       "</style>\n",
       "<table border=\"1\" class=\"dataframe\">\n",
       "  <thead>\n",
       "    <tr style=\"text-align: right;\">\n",
       "      <th></th>\n",
       "      <th>PCA-1</th>\n",
       "      <th>PCA-2</th>\n",
       "      <th>PCA-3</th>\n",
       "      <th>PCA-4</th>\n",
       "      <th>w_label</th>\n",
       "    </tr>\n",
       "  </thead>\n",
       "  <tbody>\n",
       "    <tr>\n",
       "      <td>0</td>\n",
       "      <td>-0.961341</td>\n",
       "      <td>3.163076</td>\n",
       "      <td>0.116294</td>\n",
       "      <td>-0.095738</td>\n",
       "      <td>1.0</td>\n",
       "    </tr>\n",
       "    <tr>\n",
       "      <td>1</td>\n",
       "      <td>1.919120</td>\n",
       "      <td>3.184356</td>\n",
       "      <td>0.111659</td>\n",
       "      <td>-0.087415</td>\n",
       "      <td>1.0</td>\n",
       "    </tr>\n",
       "    <tr>\n",
       "      <td>2</td>\n",
       "      <td>-1.669143</td>\n",
       "      <td>3.161003</td>\n",
       "      <td>0.108783</td>\n",
       "      <td>-0.094656</td>\n",
       "      <td>1.0</td>\n",
       "    </tr>\n",
       "    <tr>\n",
       "      <td>3</td>\n",
       "      <td>2.495887</td>\n",
       "      <td>3.197309</td>\n",
       "      <td>0.100392</td>\n",
       "      <td>-0.100255</td>\n",
       "      <td>1.0</td>\n",
       "    </tr>\n",
       "    <tr>\n",
       "      <td>4</td>\n",
       "      <td>2.110945</td>\n",
       "      <td>3.097433</td>\n",
       "      <td>0.061166</td>\n",
       "      <td>-0.114419</td>\n",
       "      <td>1.0</td>\n",
       "    </tr>\n",
       "  </tbody>\n",
       "</table>\n",
       "</div>"
      ],
      "text/plain": [
       "      PCA-1     PCA-2     PCA-3     PCA-4  w_label\n",
       "0 -0.961341  3.163076  0.116294 -0.095738      1.0\n",
       "1  1.919120  3.184356  0.111659 -0.087415      1.0\n",
       "2 -1.669143  3.161003  0.108783 -0.094656      1.0\n",
       "3  2.495887  3.197309  0.100392 -0.100255      1.0\n",
       "4  2.110945  3.097433  0.061166 -0.114419      1.0"
      ]
     },
     "execution_count": 12,
     "metadata": {},
     "output_type": "execute_result"
    }
   ],
   "source": [
    "(pca_df.head())\n",
    "#print(pca_df[\"w_label\"])"
   ]
  },
  {
   "cell_type": "code",
   "execution_count": 13,
   "metadata": {},
   "outputs": [],
   "source": [
    "pca_y = pca_df.w_label\n",
    "pca_x = pca_df.drop('w_label',axis=1)\n",
    "\n",
    "pca_x_train,pca_x_test, pca_y_train, pca_y_test = train_test_split(pca_x,pca_y,test_size=0.2)\n",
    "\n",
    "\n"
   ]
  },
  {
   "cell_type": "code",
   "execution_count": 84,
   "metadata": {},
   "outputs": [
    {
     "data": {
      "text/html": [
       "<div>\n",
       "<style scoped>\n",
       "    .dataframe tbody tr th:only-of-type {\n",
       "        vertical-align: middle;\n",
       "    }\n",
       "\n",
       "    .dataframe tbody tr th {\n",
       "        vertical-align: top;\n",
       "    }\n",
       "\n",
       "    .dataframe thead th {\n",
       "        text-align: right;\n",
       "    }\n",
       "</style>\n",
       "<table border=\"1\" class=\"dataframe\">\n",
       "  <thead>\n",
       "    <tr style=\"text-align: right;\">\n",
       "      <th></th>\n",
       "      <th>PCA-1</th>\n",
       "      <th>PCA-2</th>\n",
       "      <th>PCA-3</th>\n",
       "      <th>PCA-4</th>\n",
       "    </tr>\n",
       "  </thead>\n",
       "  <tbody>\n",
       "    <tr>\n",
       "      <td>1262329</td>\n",
       "      <td>-2.019149</td>\n",
       "      <td>0.005341</td>\n",
       "      <td>0.266795</td>\n",
       "      <td>-0.438592</td>\n",
       "    </tr>\n",
       "    <tr>\n",
       "      <td>2389</td>\n",
       "      <td>0.574554</td>\n",
       "      <td>1.608617</td>\n",
       "      <td>0.926957</td>\n",
       "      <td>-0.125808</td>\n",
       "    </tr>\n",
       "    <tr>\n",
       "      <td>295875</td>\n",
       "      <td>-0.048501</td>\n",
       "      <td>0.627552</td>\n",
       "      <td>0.286721</td>\n",
       "      <td>0.122184</td>\n",
       "    </tr>\n",
       "    <tr>\n",
       "      <td>1551883</td>\n",
       "      <td>-0.413623</td>\n",
       "      <td>-0.105999</td>\n",
       "      <td>0.270865</td>\n",
       "      <td>0.542847</td>\n",
       "    </tr>\n",
       "    <tr>\n",
       "      <td>1601519</td>\n",
       "      <td>-1.255579</td>\n",
       "      <td>-0.331501</td>\n",
       "      <td>0.222320</td>\n",
       "      <td>0.043145</td>\n",
       "    </tr>\n",
       "    <tr>\n",
       "      <td>...</td>\n",
       "      <td>...</td>\n",
       "      <td>...</td>\n",
       "      <td>...</td>\n",
       "      <td>...</td>\n",
       "    </tr>\n",
       "    <tr>\n",
       "      <td>123854</td>\n",
       "      <td>1.037733</td>\n",
       "      <td>0.400740</td>\n",
       "      <td>0.008375</td>\n",
       "      <td>-0.049473</td>\n",
       "    </tr>\n",
       "    <tr>\n",
       "      <td>1435469</td>\n",
       "      <td>-0.617751</td>\n",
       "      <td>-0.018001</td>\n",
       "      <td>0.436948</td>\n",
       "      <td>-0.462610</td>\n",
       "    </tr>\n",
       "    <tr>\n",
       "      <td>854324</td>\n",
       "      <td>3.512133</td>\n",
       "      <td>1.455872</td>\n",
       "      <td>-0.559020</td>\n",
       "      <td>0.066718</td>\n",
       "    </tr>\n",
       "    <tr>\n",
       "      <td>1967503</td>\n",
       "      <td>2.644096</td>\n",
       "      <td>-0.530791</td>\n",
       "      <td>0.037740</td>\n",
       "      <td>0.336136</td>\n",
       "    </tr>\n",
       "    <tr>\n",
       "      <td>238712</td>\n",
       "      <td>-1.939207</td>\n",
       "      <td>-0.242439</td>\n",
       "      <td>-0.137869</td>\n",
       "      <td>-0.173572</td>\n",
       "    </tr>\n",
       "  </tbody>\n",
       "</table>\n",
       "<p>1680364 rows × 4 columns</p>\n",
       "</div>"
      ],
      "text/plain": [
       "            PCA-1     PCA-2     PCA-3     PCA-4\n",
       "1262329 -2.019149  0.005341  0.266795 -0.438592\n",
       "2389     0.574554  1.608617  0.926957 -0.125808\n",
       "295875  -0.048501  0.627552  0.286721  0.122184\n",
       "1551883 -0.413623 -0.105999  0.270865  0.542847\n",
       "1601519 -1.255579 -0.331501  0.222320  0.043145\n",
       "...           ...       ...       ...       ...\n",
       "123854   1.037733  0.400740  0.008375 -0.049473\n",
       "1435469 -0.617751 -0.018001  0.436948 -0.462610\n",
       "854324   3.512133  1.455872 -0.559020  0.066718\n",
       "1967503  2.644096 -0.530791  0.037740  0.336136\n",
       "238712  -1.939207 -0.242439 -0.137869 -0.173572\n",
       "\n",
       "[1680364 rows x 4 columns]"
      ]
     },
     "execution_count": 84,
     "metadata": {},
     "output_type": "execute_result"
    }
   ],
   "source": [
    "pca_x_train"
   ]
  },
  {
   "cell_type": "code",
   "execution_count": 85,
   "metadata": {},
   "outputs": [
    {
     "data": {
      "text/plain": [
       "1262329    4.0\n",
       "2389       1.0\n",
       "295875     0.0\n",
       "1551883    0.0\n",
       "1601519    0.0\n",
       "          ... \n",
       "123854     0.0\n",
       "1435469    4.0\n",
       "854324     0.0\n",
       "1967503    0.0\n",
       "238712     0.0\n",
       "Name: w_label, Length: 1680364, dtype: float64"
      ]
     },
     "execution_count": 85,
     "metadata": {},
     "output_type": "execute_result"
    }
   ],
   "source": [
    "pca_y_train"
   ]
  },
  {
   "cell_type": "code",
   "execution_count": 86,
   "metadata": {},
   "outputs": [
    {
     "data": {
      "text/html": [
       "<div>\n",
       "<style scoped>\n",
       "    .dataframe tbody tr th:only-of-type {\n",
       "        vertical-align: middle;\n",
       "    }\n",
       "\n",
       "    .dataframe tbody tr th {\n",
       "        vertical-align: top;\n",
       "    }\n",
       "\n",
       "    .dataframe thead th {\n",
       "        text-align: right;\n",
       "    }\n",
       "</style>\n",
       "<table border=\"1\" class=\"dataframe\">\n",
       "  <thead>\n",
       "    <tr style=\"text-align: right;\">\n",
       "      <th></th>\n",
       "      <th>PCA-1</th>\n",
       "      <th>PCA-2</th>\n",
       "      <th>PCA-3</th>\n",
       "      <th>PCA-4</th>\n",
       "    </tr>\n",
       "  </thead>\n",
       "  <tbody>\n",
       "    <tr>\n",
       "      <td>1050998</td>\n",
       "      <td>-2.724838</td>\n",
       "      <td>0.695740</td>\n",
       "      <td>0.095951</td>\n",
       "      <td>0.471895</td>\n",
       "    </tr>\n",
       "    <tr>\n",
       "      <td>1363013</td>\n",
       "      <td>-1.518400</td>\n",
       "      <td>0.004579</td>\n",
       "      <td>0.409074</td>\n",
       "      <td>-0.453786</td>\n",
       "    </tr>\n",
       "    <tr>\n",
       "      <td>493717</td>\n",
       "      <td>2.584916</td>\n",
       "      <td>0.413089</td>\n",
       "      <td>0.095223</td>\n",
       "      <td>0.132213</td>\n",
       "    </tr>\n",
       "    <tr>\n",
       "      <td>1534633</td>\n",
       "      <td>0.913609</td>\n",
       "      <td>-0.097077</td>\n",
       "      <td>0.177897</td>\n",
       "      <td>0.519728</td>\n",
       "    </tr>\n",
       "    <tr>\n",
       "      <td>903654</td>\n",
       "      <td>-2.007384</td>\n",
       "      <td>1.006692</td>\n",
       "      <td>-0.176287</td>\n",
       "      <td>0.051529</td>\n",
       "    </tr>\n",
       "    <tr>\n",
       "      <td>...</td>\n",
       "      <td>...</td>\n",
       "      <td>...</td>\n",
       "      <td>...</td>\n",
       "      <td>...</td>\n",
       "    </tr>\n",
       "    <tr>\n",
       "      <td>1238978</td>\n",
       "      <td>0.882498</td>\n",
       "      <td>0.077482</td>\n",
       "      <td>0.305723</td>\n",
       "      <td>-0.438590</td>\n",
       "    </tr>\n",
       "    <tr>\n",
       "      <td>1107534</td>\n",
       "      <td>-4.968236</td>\n",
       "      <td>-0.656148</td>\n",
       "      <td>-0.199872</td>\n",
       "      <td>0.065220</td>\n",
       "    </tr>\n",
       "    <tr>\n",
       "      <td>1839401</td>\n",
       "      <td>-1.822299</td>\n",
       "      <td>-1.382939</td>\n",
       "      <td>-0.272415</td>\n",
       "      <td>-0.049344</td>\n",
       "    </tr>\n",
       "    <tr>\n",
       "      <td>855970</td>\n",
       "      <td>2.415365</td>\n",
       "      <td>1.421094</td>\n",
       "      <td>-0.573147</td>\n",
       "      <td>0.041575</td>\n",
       "    </tr>\n",
       "    <tr>\n",
       "      <td>630489</td>\n",
       "      <td>3.815471</td>\n",
       "      <td>0.192558</td>\n",
       "      <td>-0.250147</td>\n",
       "      <td>0.108547</td>\n",
       "    </tr>\n",
       "  </tbody>\n",
       "</table>\n",
       "<p>420092 rows × 4 columns</p>\n",
       "</div>"
      ],
      "text/plain": [
       "            PCA-1     PCA-2     PCA-3     PCA-4\n",
       "1050998 -2.724838  0.695740  0.095951  0.471895\n",
       "1363013 -1.518400  0.004579  0.409074 -0.453786\n",
       "493717   2.584916  0.413089  0.095223  0.132213\n",
       "1534633  0.913609 -0.097077  0.177897  0.519728\n",
       "903654  -2.007384  1.006692 -0.176287  0.051529\n",
       "...           ...       ...       ...       ...\n",
       "1238978  0.882498  0.077482  0.305723 -0.438590\n",
       "1107534 -4.968236 -0.656148 -0.199872  0.065220\n",
       "1839401 -1.822299 -1.382939 -0.272415 -0.049344\n",
       "855970   2.415365  1.421094 -0.573147  0.041575\n",
       "630489   3.815471  0.192558 -0.250147  0.108547\n",
       "\n",
       "[420092 rows x 4 columns]"
      ]
     },
     "execution_count": 86,
     "metadata": {},
     "output_type": "execute_result"
    }
   ],
   "source": [
    "pca_x_test"
   ]
  },
  {
   "cell_type": "code",
   "execution_count": 87,
   "metadata": {},
   "outputs": [
    {
     "data": {
      "text/plain": [
       "1050998    0.0\n",
       "1363013    4.0\n",
       "493717     0.0\n",
       "1534633    0.0\n",
       "903654     0.0\n",
       "          ... \n",
       "1238978    4.0\n",
       "1107534    0.0\n",
       "1839401    3.0\n",
       "855970     0.0\n",
       "630489     2.0\n",
       "Name: w_label, Length: 420092, dtype: float64"
      ]
     },
     "execution_count": 87,
     "metadata": {},
     "output_type": "execute_result"
    }
   ],
   "source": [
    "pca_y_test"
   ]
  },
  {
   "cell_type": "markdown",
   "metadata": {},
   "source": [
    "# PCA with 4 features + Simple Decision Tree"
   ]
  },
  {
   "cell_type": "code",
   "execution_count": 88,
   "metadata": {},
   "outputs": [
    {
     "name": "stdout",
     "output_type": "stream",
     "text": [
      "              precision    recall  f1-score   support\n",
      "\n",
      "         0.0     0.9432    0.8452    0.8915    246335\n",
      "         1.0     0.9817    0.8705    0.9228     10691\n",
      "         2.0     0.7404    0.9183    0.8198     63330\n",
      "         3.0     0.7253    0.8894    0.7990     47911\n",
      "         4.0     0.9678    0.9816    0.9747     51825\n",
      "\n",
      "    accuracy                         0.8787    420092\n",
      "   macro avg     0.8717    0.9010    0.8816    420092\n",
      "weighted avg     0.8918    0.8787    0.8812    420092\n",
      "\n"
     ]
    }
   ],
   "source": [
    "# Create Decision Tree classifer object\n",
    "clf = DecisionTreeClassifier(criterion=\"entropy\", max_depth=5)\n",
    "\n",
    "# Train Decision Tree Classifer\n",
    "clf = clf.fit(pca_x_train, pca_y_train)\n",
    "\n",
    "#Predict the response for test dataset\n",
    "pca_y_out = clf.predict(pca_x_test)\n",
    "\n",
    "# Model Accuracy, how often is the classifier correct?\n",
    "#print(\"Accuracy:\",metrics.accuracy_score(y_test, y_out))\n",
    "lmIV=(classification_report(pca_y_test, pca_y_out, digits=4))\n",
    "print(lmIV)\n"
   ]
  },
  {
   "cell_type": "markdown",
   "metadata": {},
   "source": [
    "# PCA with 4 features + KNN"
   ]
  },
  {
   "cell_type": "code",
   "execution_count": 91,
   "metadata": {},
   "outputs": [
    {
     "name": "stdout",
     "output_type": "stream",
     "text": [
      "              precision    recall  f1-score   support\n",
      "\n",
      "         0.0     0.6840    0.6786    0.6813   1230433\n",
      "         1.0     0.1030    0.1217    0.1116     53659\n",
      "         2.0     0.4602    0.4349    0.4472    316935\n",
      "         3.0     0.3450    0.3406    0.3428    239191\n",
      "         4.0     0.8164    0.8802    0.8471    260238\n",
      "\n",
      "    accuracy                         0.6141   2100456\n",
      "   macro avg     0.4817    0.4912    0.4860   2100456\n",
      "weighted avg     0.6132    0.6141    0.6134   2100456\n",
      "\n"
     ]
    }
   ],
   "source": [
    "knn = KNeighborsClassifier(n_neighbors=5)\n",
    "pca_y_out = cross_val_predict(knn, pca_x, pca_y, cv=20)\n",
    "lm=(classification_report(pca_y, pca_y_out, digits=4))\n",
    "#https://www.ritchieng.com/machine-learning-cross-validation/\n",
    "lm=(classification_report(pca_y, pca_y_out, digits=4))\n",
    "print(lm)\n"
   ]
  },
  {
   "cell_type": "markdown",
   "metadata": {},
   "source": [
    "# PCA with 4 features + XGBOOST"
   ]
  },
  {
   "cell_type": "code",
   "execution_count": 13,
   "metadata": {},
   "outputs": [
    {
     "name": "stdout",
     "output_type": "stream",
     "text": [
      "              precision    recall  f1-score   support\n",
      "\n",
      "         0.0     0.8925    0.9542    0.9223    245994\n",
      "         1.0     0.9711    0.5350    0.6900     10685\n",
      "         2.0     0.9145    0.8207    0.8650     63498\n",
      "         3.0     0.9142    0.7636    0.8322     47984\n",
      "         4.0     0.9461    0.9862    0.9657     51931\n",
      "\n",
      "    accuracy                         0.9055    420092\n",
      "   macro avg     0.9277    0.8119    0.8550    420092\n",
      "weighted avg     0.9069    0.9055    0.9028    420092\n",
      "\n"
     ]
    }
   ],
   "source": [
    "xg_class = xgb.XGBClassifier(objective ='multi:softmax', colsample_bytree = 0.3, learning_rate = 0.1,\n",
    "                max_depth = 10, alpha = 10, n_estimators = 50, gamma=10)\n",
    "\n",
    "xg_class.fit(pca_x_train,pca_y_train)\n",
    "\n",
    "pca_y_out = xg_class.predict(pca_x_test)\n",
    "\n",
    "lm_xgbIV=(classification_report(pca_y_test, pca_y_out, digits=4))\n",
    "\n",
    "print(lm_xgbIV)"
   ]
  },
  {
   "cell_type": "code",
   "execution_count": null,
   "metadata": {
    "collapsed": true
   },
   "outputs": [],
   "source": []
  },
  {
   "cell_type": "markdown",
   "metadata": {},
   "source": [
    "# PCA with 1 feature"
   ]
  },
  {
   "cell_type": "code",
   "execution_count": 22,
   "metadata": {},
   "outputs": [
    {
     "name": "stdout",
     "output_type": "stream",
     "text": [
      "      PCA-1  w_label\n",
      "0 -0.961341      1.0\n",
      "1  1.919120      1.0\n",
      "2 -1.669143      1.0\n",
      "3  2.495887      1.0\n",
      "4  2.110945      1.0\n"
     ]
    },
    {
     "data": {
      "text/html": [
       "<div>\n",
       "<style scoped>\n",
       "    .dataframe tbody tr th:only-of-type {\n",
       "        vertical-align: middle;\n",
       "    }\n",
       "\n",
       "    .dataframe tbody tr th {\n",
       "        vertical-align: top;\n",
       "    }\n",
       "\n",
       "    .dataframe thead th {\n",
       "        text-align: right;\n",
       "    }\n",
       "</style>\n",
       "<table border=\"1\" class=\"dataframe\">\n",
       "  <thead>\n",
       "    <tr style=\"text-align: right;\">\n",
       "      <th></th>\n",
       "      <th>PCA-1</th>\n",
       "    </tr>\n",
       "  </thead>\n",
       "  <tbody>\n",
       "    <tr>\n",
       "      <td>709563</td>\n",
       "      <td>-0.213779</td>\n",
       "    </tr>\n",
       "    <tr>\n",
       "      <td>323992</td>\n",
       "      <td>-2.464909</td>\n",
       "    </tr>\n",
       "    <tr>\n",
       "      <td>354980</td>\n",
       "      <td>-2.638467</td>\n",
       "    </tr>\n",
       "    <tr>\n",
       "      <td>1073935</td>\n",
       "      <td>-4.293489</td>\n",
       "    </tr>\n",
       "    <tr>\n",
       "      <td>964228</td>\n",
       "      <td>-2.053644</td>\n",
       "    </tr>\n",
       "    <tr>\n",
       "      <td>...</td>\n",
       "      <td>...</td>\n",
       "    </tr>\n",
       "    <tr>\n",
       "      <td>1237298</td>\n",
       "      <td>2.114954</td>\n",
       "    </tr>\n",
       "    <tr>\n",
       "      <td>102095</td>\n",
       "      <td>-2.129826</td>\n",
       "    </tr>\n",
       "    <tr>\n",
       "      <td>1602966</td>\n",
       "      <td>-0.681581</td>\n",
       "    </tr>\n",
       "    <tr>\n",
       "      <td>774628</td>\n",
       "      <td>-1.376128</td>\n",
       "    </tr>\n",
       "    <tr>\n",
       "      <td>2065466</td>\n",
       "      <td>4.830052</td>\n",
       "    </tr>\n",
       "  </tbody>\n",
       "</table>\n",
       "<p>1680364 rows × 1 columns</p>\n",
       "</div>"
      ],
      "text/plain": [
       "            PCA-1\n",
       "709563  -0.213779\n",
       "323992  -2.464909\n",
       "354980  -2.638467\n",
       "1073935 -4.293489\n",
       "964228  -2.053644\n",
       "...           ...\n",
       "1237298  2.114954\n",
       "102095  -2.129826\n",
       "1602966 -0.681581\n",
       "774628  -1.376128\n",
       "2065466  4.830052\n",
       "\n",
       "[1680364 rows x 1 columns]"
      ]
     },
     "execution_count": 22,
     "metadata": {},
     "output_type": "execute_result"
    }
   ],
   "source": [
    "pca_df_1 = pca_df_2.drop('PCA-2',axis=1)\n",
    "print(pca_df_1.head())\n",
    "\n",
    "pca_y = pca_df_1.w_label\n",
    "pca_x = pca_df_1.drop('w_label',axis=1)\n",
    "\n",
    "pca_x_trainI,pca_x_testI, pca_y_trainI, pca_y_testI = train_test_split(pca_x,pca_y,test_size=0.2)\n",
    "pca_x_trainI"
   ]
  },
  {
   "cell_type": "markdown",
   "metadata": {},
   "source": [
    "# PCA with 1 feature + XGBOOST"
   ]
  },
  {
   "cell_type": "code",
   "execution_count": 23,
   "metadata": {},
   "outputs": [
    {
     "name": "stderr",
     "output_type": "stream",
     "text": [
      "/usr/local/lib/python3.6/dist-packages/sklearn/metrics/classification.py:1437: UndefinedMetricWarning: Precision and F-score are ill-defined and being set to 0.0 in labels with no predicted samples.\n",
      "  'precision', 'predicted', average, warn_for)\n"
     ]
    },
    {
     "name": "stdout",
     "output_type": "stream",
     "text": [
      "              precision    recall  f1-score   support\n",
      "\n",
      "         0.0     0.5853    1.0000    0.7384    245885\n",
      "         1.0     0.0000    0.0000    0.0000     10850\n",
      "         2.0     0.0000    0.0000    0.0000     63549\n",
      "         3.0     0.0000    0.0000    0.0000     47540\n",
      "         4.0     0.0000    0.0000    0.0000     52268\n",
      "\n",
      "    accuracy                         0.5853    420092\n",
      "   macro avg     0.1171    0.2000    0.1477    420092\n",
      "weighted avg     0.3426    0.5853    0.4322    420092\n",
      "\n"
     ]
    }
   ],
   "source": [
    "xg_class = xgb.XGBClassifier(objective ='multi:softmax', colsample_bytree = 0.3, learning_rate = 0.1,\n",
    "                max_depth = 10, alpha = 10, n_estimators = 50, gamma=10)\n",
    "\n",
    "xg_class.fit(pca_x_trainI,pca_y_trainI)\n",
    "\n",
    "pca_y_outI = xg_class.predict(pca_x_testI)\n",
    "\n",
    "lm_xgbI=(classification_report(pca_y_testI, pca_y_outI, digits=4))\n",
    "\n",
    "print(lm_xgbI)\n",
    "\n"
   ]
  },
  {
   "cell_type": "markdown",
   "metadata": {},
   "source": [
    "# PCA with 2 features "
   ]
  },
  {
   "cell_type": "code",
   "execution_count": 17,
   "metadata": {},
   "outputs": [
    {
     "name": "stdout",
     "output_type": "stream",
     "text": [
      "      PCA-1     PCA-2  w_label\n",
      "0 -0.961341  3.163076      1.0\n",
      "1  1.919120  3.184356      1.0\n",
      "2 -1.669143  3.161003      1.0\n",
      "3  2.495887  3.197309      1.0\n",
      "4  2.110945  3.097433      1.0\n"
     ]
    }
   ],
   "source": [
    "pca_df_2 = pca_df_3.drop('PCA-3',axis=1)\n",
    "print(pca_df_2.head())\n",
    "pca_y = pca_df_2.w_label\n",
    "pca_x = pca_df_2.drop('w_label',axis=1)\n",
    "\n",
    "pca_x_trainII,pca_x_testII, pca_y_trainII, pca_y_testII = train_test_split(pca_x,pca_y,test_size=0.2)\n",
    "\n"
   ]
  },
  {
   "cell_type": "code",
   "execution_count": 20,
   "metadata": {},
   "outputs": [
    {
     "name": "stdout",
     "output_type": "stream",
     "text": [
      "              precision    recall  f1-score   support\n",
      "\n",
      "         0.0     0.7159    0.8894    0.7932    246298\n",
      "         1.0     0.9767    0.1610    0.2765     10682\n",
      "         2.0     0.6647    0.3608    0.4677     63297\n",
      "         3.0     0.6224    0.1984    0.3009     47801\n",
      "         4.0     0.8020    0.9675    0.8770     52014\n",
      "\n",
      "    accuracy                         0.7223    420092\n",
      "   macro avg     0.7563    0.5154    0.5431    420092\n",
      "weighted avg     0.7148    0.7223    0.6854    420092\n",
      "\n"
     ]
    }
   ],
   "source": [
    "# Create Decision Tree classifer object\n",
    "clf = DecisionTreeClassifier(criterion=\"entropy\", max_depth=5)\n",
    "\n",
    "# Train Decision Tree Classifer\n",
    "clf = clf.fit(pca_x_trainII, pca_y_trainII)\n",
    "\n",
    "#Predict the response for test dataset\n",
    "pca_y_outII = clf.predict(pca_x_testII)\n",
    "\n",
    "# Model Accuracy, how often is the classifier correct?\n",
    "#print(\"Accuracy:\",metrics.accuracy_score(y_test, y_out))\n",
    "lm=(classification_report(pca_y_testII, pca_y_outII, digits=4))\n",
    "print(lm)"
   ]
  },
  {
   "cell_type": "markdown",
   "metadata": {},
   "source": [
    "# PCA with 2 features + XGBOOST"
   ]
  },
  {
   "cell_type": "code",
   "execution_count": 21,
   "metadata": {},
   "outputs": [
    {
     "name": "stdout",
     "output_type": "stream",
     "text": [
      "              precision    recall  f1-score   support\n",
      "\n",
      "         0.0     0.7608    0.8575    0.8063    246298\n",
      "         1.0     0.9812    0.1610    0.2766     10682\n",
      "         2.0     0.6518    0.5466    0.5946     63297\n",
      "         3.0     0.6716    0.4101    0.5093     47801\n",
      "         4.0     0.8285    0.9307    0.8766     52014\n",
      "\n",
      "    accuracy                         0.7511    420092\n",
      "   macro avg     0.7788    0.5812    0.6127    420092\n",
      "weighted avg     0.7482    0.7511    0.7358    420092\n",
      "\n"
     ]
    }
   ],
   "source": [
    "xg_class = xgb.XGBClassifier(objective ='multi:softmax', colsample_bytree = 0.3, learning_rate = 0.1,\n",
    "                max_depth = 10, alpha = 10, n_estimators = 50, gamma=10)\n",
    "\n",
    "xg_class.fit(pca_x_trainII,pca_y_trainII)\n",
    "\n",
    "pca_y_outII = xg_class.predict(pca_x_testII)\n",
    "\n",
    "lm_xgbII=(classification_report(pca_y_testII, pca_y_outII, digits=4))\n",
    "\n",
    "print(lm_xgbII)\n"
   ]
  },
  {
   "cell_type": "code",
   "execution_count": null,
   "metadata": {},
   "outputs": [],
   "source": []
  },
  {
   "cell_type": "markdown",
   "metadata": {},
   "source": [
    "# PCA with 3 features"
   ]
  },
  {
   "cell_type": "code",
   "execution_count": 15,
   "metadata": {},
   "outputs": [
    {
     "name": "stdout",
     "output_type": "stream",
     "text": [
      "      PCA-1     PCA-2     PCA-3  w_label\n",
      "0 -0.961341  3.163076  0.116294      1.0\n",
      "1  1.919120  3.184356  0.111659      1.0\n",
      "2 -1.669143  3.161003  0.108783      1.0\n",
      "3  2.495887  3.197309  0.100392      1.0\n",
      "4  2.110945  3.097433  0.061166      1.0\n"
     ]
    }
   ],
   "source": [
    "pca_df_3 = pca_df.drop('PCA-4',axis=1)\n",
    "'''\n",
    "\n",
    "pca_dj = PCA(n_components=3)\n",
    "\n",
    "x_pca=pca_dj.fit_transform(x)\n",
    "#x_pca = pca_dj.transform(x_pca)\n",
    "print(\"original shape:   \", x.shape)\n",
    "print(\"transformed shape:\", x_pca.shape)\n",
    "\n",
    "pca_df = pd.DataFrame(data=x_pca, columns=[\"PCA-1\", \"PCA-2\", \"PCA-3\"]) \n",
    "pca_df['w_label'] = y.values\n",
    "print(\"data frame combined\",min(y),max(y))\n",
    "print(pca_df.shape)\n",
    "'''\n",
    "print(pca_df_3.head())\n",
    "pca_y = pca_df_3.w_label\n",
    "pca_x = pca_df_3.drop('w_label',axis=1)\n",
    "\n",
    "pca_x_trainIII,pca_x_testIII, pca_y_trainIII, pca_y_testIII = train_test_split(pca_x,pca_y,test_size=0.2)\n"
   ]
  },
  {
   "cell_type": "markdown",
   "metadata": {},
   "source": [
    "# PCA with 3 features + XGBOOST"
   ]
  },
  {
   "cell_type": "code",
   "execution_count": 16,
   "metadata": {},
   "outputs": [
    {
     "name": "stdout",
     "output_type": "stream",
     "text": [
      "              precision    recall  f1-score   support\n",
      "\n",
      "         0.0     0.8375    0.9307    0.8816    245992\n",
      "         1.0     0.9878    0.2058    0.3407     10639\n",
      "         2.0     0.8530    0.7927    0.8218     63539\n",
      "         3.0     0.8195    0.5658    0.6695     48242\n",
      "         4.0     0.9267    0.9351    0.9309     51680\n",
      "\n",
      "    accuracy                         0.8501    420092\n",
      "   macro avg     0.8849    0.6860    0.7289    420092\n",
      "weighted avg     0.8525    0.8501    0.8406    420092\n",
      "\n"
     ]
    }
   ],
   "source": [
    "xg_class = xgb.XGBClassifier(objective ='multi:softmax', colsample_bytree = 0.3, learning_rate = 0.1,\n",
    "                max_depth = 10, alpha = 10, n_estimators = 50, gamma=10)\n",
    "\n",
    "xg_class.fit(pca_x_trainIII,pca_y_trainIII)\n",
    "\n",
    "pca_y_outIII = xg_class.predict(pca_x_testIII)\n",
    "\n",
    "lm_xgbIII=(classification_report(pca_y_testIII, pca_y_outIII, digits=4))\n",
    "\n",
    "print(lm_xgbIII)"
   ]
  }
 ],
 "metadata": {
  "kernelspec": {
   "display_name": "Python 3",
   "language": "python",
   "name": "python3"
  },
  "language_info": {
   "codemirror_mode": {
    "name": "ipython",
    "version": 3
   },
   "file_extension": ".py",
   "mimetype": "text/x-python",
   "name": "python",
   "nbconvert_exporter": "python",
   "pygments_lexer": "ipython3",
   "version": "3.11.9"
  }
 },
 "nbformat": 4,
 "nbformat_minor": 2
}
