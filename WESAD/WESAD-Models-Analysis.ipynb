{
 "cells": [
  {
   "cell_type": "code",
   "execution_count": 1,
   "metadata": {},
   "outputs": [],
   "source": [
    "#%matplotlib inline\n",
    "import pickle\n",
    "import numpy as np\n",
    "import pandas as pd\n",
    "import matplotlib\n",
    "import matplotlib.pyplot as plt\n",
    "import pandas as pd\n",
    "import csv\n",
    "from sklearn.model_selection import train_test_split\n",
    "\n",
    "#from sklearn.datasets import fetch_mldata\n",
    "import seaborn as sns\n",
    "import sklearn as sklearn\n",
    "from sklearn.neighbors import KNeighborsClassifier\n",
    "import sklearn.linear_model as skl_lm\n",
    "from sklearn.discriminant_analysis import LinearDiscriminantAnalysis\n",
    "from sklearn.discriminant_analysis import QuadraticDiscriminantAnalysis\n",
    "from sklearn.metrics import accuracy_score\n",
    "from sklearn.metrics import confusion_matrix\n",
    "from sklearn.metrics import roc_curve\n",
    "from sklearn.metrics import classification_report\n",
    "\n",
    "from sklearn.model_selection import cross_val_score\n",
    "from sklearn.model_selection import cross_val_predict\n",
    "from sklearn.tree import DecisionTreeClassifier # Import Decision Tree Classifier\n",
    "\n",
    "import graphviz \n",
    "import statsmodels.api as sm\n",
    "from sklearn import tree\n",
    "import xgboost as xgb\n",
    "from sklearn.decomposition import PCA"
   ]
  },
  {
   "cell_type": "code",
   "execution_count": 2,
   "metadata": {},
   "outputs": [
    {
     "data": {
      "text/plain": [
       "\"\\nwith open(s3_path, 'rb') as file:\\n    s3_data = pickle.load(file, encoding='latin1')\\n    \\nwith open(s4_path, 'rb') as file:\\n    s2_data = pickle.load(file, encoding='latin1')\\nwith open(s5_path, 'rb') as file:\\n    s2_data = pickle.load(file, encoding='latin1')\\nwith open(s6_path, 'rb') as file:\\n    s2_data = pickle.load(file, encoding='latin1')\\nwith open(s17_path, 'rb') as file:\\n    s2_data = pickle.load(file, encoding='latin1')\\n\""
      ]
     },
     "execution_count": 2,
     "metadata": {},
     "output_type": "execute_result"
    }
   ],
   "source": [
    "\n",
    "data_set = 'C:\\\\Users\\\\ferri\\\\Downloads\\\\PoliTO\\\\Tesi\\\\DSs\\\\Stress\\\\\\WESAD\\\\'\n",
    "s2_path = data_set + 'S2/S2.pkl'\n",
    "#DO-NOT enable all at once otherwise Laptop goes to sleep due to very huge data size.\n",
    "#s3_path = data_set + 'S3/S3.pkl'\n",
    "#s4_path = data_set + 'S4/S4.pkl'\n",
    "#s5_path = data_set + 'S5/S5.pkl'\n",
    "#s6_path = data_set + 'S6/S6.pkl'\n",
    "#s7_path = data_set + 'S7/S7.pkl\n",
    "#s8_path = data_set + 'S8/S8.pkl'\n",
    "#s9_path = data_set + 'S9/S9.pkl'\n",
    "#s10_path = data_set + 'S10/S10.pkl'\n",
    "#s11_path = data_set + 'S11/S11.pkl'\n",
    "#s13_path = data_set + 'S13/S13.pkl'\n",
    "#s14_path = data_set + 'S14/S14.pkl'\n",
    "#s15_path = data_set + 'S15/S15.pkl'\n",
    "#s16_path = data_set + 'S16/S16.pkl'\n",
    "#s17_path = data_set + 'S17/S17.pkl'\n",
    "\n",
    "with open(s2_path, 'rb') as file:\n",
    "    s2_data = pickle.load(file, encoding='latin1')\n",
    "'''\n",
    "with open(s3_path, 'rb') as file:\n",
    "    s3_data = pickle.load(file, encoding='latin1')\n",
    "    \n",
    "with open(s4_path, 'rb') as file:\n",
    "    s2_data = pickle.load(file, encoding='latin1')\n",
    "with open(s5_path, 'rb') as file:\n",
    "    s2_data = pickle.load(file, encoding='latin1')\n",
    "with open(s6_path, 'rb') as file:\n",
    "    s2_data = pickle.load(file, encoding='latin1')\n",
    "with open(s17_path, 'rb') as file:\n",
    "    s2_data = pickle.load(file, encoding='latin1')\n",
    "'''"
   ]
  },
  {
   "cell_type": "code",
   "execution_count": 3,
   "metadata": {},
   "outputs": [
    {
     "name": "stdout",
     "output_type": "stream",
     "text": [
      "Equated\n"
     ]
    }
   ],
   "source": [
    "c_ax=s2_data['signal']['chest']['ACC'][0:,0]#[baseline_to_plot]\n",
    "c_ay=s2_data['signal']['chest']['ACC'][0:,1]#[baseline_to_plot]#[0:100] # hundred values\n",
    "c_az=s2_data['signal']['chest']['ACC'][0:,2]#[baseline_to_plot]\n",
    "c_ecg=s2_data['signal']['chest']['ECG'][:,0]#[baseline_to_plot]\n",
    "c_emg=s2_data['signal']['chest']['EMG'][:,0]#[baseline_to_plot]\n",
    "c_eda=s2_data['signal']['chest']['EDA'][:,0]#[baseline_to_plot]\n",
    "c_temp=s2_data['signal']['chest']['Temp'][:,0]#[baseline_to_plot]\n",
    "c_resp=s2_data['signal']['chest']['Resp'][:,0]#[baseline_to_plot]\n",
    "w_ax=s2_data['signal']['wrist']['ACC'][0:,0]#[stress_to_plot]\n",
    "w_ay=s2_data['signal']['wrist']['ACC'][0:,1]#[stress_to_plot]\n",
    "w_az=s2_data['signal']['wrist']['ACC'][0:,2]#[stress_to_plot]\n",
    "w_bvp=s2_data['signal']['wrist']['BVP'][:,0]#[stress_to_plot]\n",
    "w_eda=s2_data['signal']['wrist']['EDA'][:,0]#[stress_to_plot]\n",
    "w_temp=s2_data['signal']['wrist']['TEMP'][:,0]#[stress_to_plot]\n",
    "w_label=s2_data['label']\n",
    "\n",
    "print(\"Equated\")"
   ]
  },
  {
   "cell_type": "code",
   "execution_count": 4,
   "metadata": {},
   "outputs": [
    {
     "name": "stdout",
     "output_type": "stream",
     "text": [
      "data frame combined\n"
     ]
    }
   ],
   "source": [
    "numpy_data1=np.array([c_ax, c_ay, c_az,c_ecg,c_emg,c_eda,c_temp,c_resp,w_label])\n",
    "numpy_data1=numpy_data1.T\n",
    "\n",
    "#df = pd.DataFrame(data=numpy_data1, columns=[\"c_ax\", \"c_ay\", \"c_az\",\"c_ecg\",\"c_emg\",\"c_eda\",\"c_temp\",\"c_resp\",\"w_ax\",\"w_ay\",\"w_az\",\"w_bvp\",\"w_eda\",\"w_temp\"],orient='index') \n",
    "df = pd.DataFrame(data=numpy_data1, columns=[\"c_ax\", \"c_ay\", \"c_az\",\"c_ecg\",\"c_emg\",\"c_eda\",\"c_temp\",\"c_resp\",\"w_label\"]) \n",
    "\n",
    "print(\"data frame combined\")\n",
    "\n"
   ]
  },
  {
   "cell_type": "code",
   "execution_count": 5,
   "metadata": {},
   "outputs": [
    {
     "data": {
      "text/plain": [
       "(4255300, 9)"
      ]
     },
     "metadata": {},
     "output_type": "display_data"
    },
    {
     "data": {
      "text/plain": [
       "<bound method DataFrame.info of            c_ax    c_ay    c_az     c_ecg     c_emg     c_eda     c_temp  \\\n",
       "0        0.9554 -0.2220 -0.5580  0.021423 -0.004440  5.250549  30.120758   \n",
       "1        0.9258 -0.2216 -0.5538  0.020325  0.004349  5.267334  30.129517   \n",
       "2        0.9082 -0.2196 -0.5392  0.016525  0.005173  5.243301  30.138214   \n",
       "3        0.8974 -0.2102 -0.5122  0.016708  0.007187  5.249405  30.129517   \n",
       "4        0.8882 -0.2036 -0.4824  0.011673 -0.015152  5.286407  30.130951   \n",
       "...         ...     ...     ...       ...       ...       ...        ...   \n",
       "4255295  0.8750 -0.1234 -0.2974 -0.013138  0.020370  0.400162  31.457733   \n",
       "4255296  0.8750 -0.1262 -0.2988 -0.010345  0.019592  0.355911  31.476898   \n",
       "4255297  0.8718 -0.1238 -0.3042 -0.005447 -0.017166  0.360489  31.459229   \n",
       "4255298  0.8730 -0.1234 -0.3026  0.000137 -0.028976  0.365829  31.484283   \n",
       "4255299  0.8702 -0.1220 -0.3022  0.004074 -0.023575  0.365448  31.456268   \n",
       "\n",
       "           c_resp  w_label  \n",
       "0       -1.148987      0.0  \n",
       "1       -1.124573      0.0  \n",
       "2       -1.152039      0.0  \n",
       "3       -1.158142      0.0  \n",
       "4       -1.161194      0.0  \n",
       "...           ...      ...  \n",
       "4255295 -1.063538      0.0  \n",
       "4255296 -1.106262      0.0  \n",
       "4255297 -1.103210      0.0  \n",
       "4255298 -1.086426      0.0  \n",
       "4255299 -1.097107      0.0  \n",
       "\n",
       "[4255300 rows x 9 columns]>"
      ]
     },
     "metadata": {},
     "output_type": "display_data"
    },
    {
     "data": {
      "text/plain": [
       "<bound method NDFrame.describe of            c_ax    c_ay    c_az     c_ecg     c_emg     c_eda     c_temp  \\\n",
       "0        0.9554 -0.2220 -0.5580  0.021423 -0.004440  5.250549  30.120758   \n",
       "1        0.9258 -0.2216 -0.5538  0.020325  0.004349  5.267334  30.129517   \n",
       "2        0.9082 -0.2196 -0.5392  0.016525  0.005173  5.243301  30.138214   \n",
       "3        0.8974 -0.2102 -0.5122  0.016708  0.007187  5.249405  30.129517   \n",
       "4        0.8882 -0.2036 -0.4824  0.011673 -0.015152  5.286407  30.130951   \n",
       "...         ...     ...     ...       ...       ...       ...        ...   \n",
       "4255295  0.8750 -0.1234 -0.2974 -0.013138  0.020370  0.400162  31.457733   \n",
       "4255296  0.8750 -0.1262 -0.2988 -0.010345  0.019592  0.355911  31.476898   \n",
       "4255297  0.8718 -0.1238 -0.3042 -0.005447 -0.017166  0.360489  31.459229   \n",
       "4255298  0.8730 -0.1234 -0.3026  0.000137 -0.028976  0.365829  31.484283   \n",
       "4255299  0.8702 -0.1220 -0.3022  0.004074 -0.023575  0.365448  31.456268   \n",
       "\n",
       "           c_resp  w_label  \n",
       "0       -1.148987      0.0  \n",
       "1       -1.124573      0.0  \n",
       "2       -1.152039      0.0  \n",
       "3       -1.158142      0.0  \n",
       "4       -1.161194      0.0  \n",
       "...           ...      ...  \n",
       "4255295 -1.063538      0.0  \n",
       "4255296 -1.106262      0.0  \n",
       "4255297 -1.103210      0.0  \n",
       "4255298 -1.086426      0.0  \n",
       "4255299 -1.097107      0.0  \n",
       "\n",
       "[4255300 rows x 9 columns]>"
      ]
     },
     "metadata": {},
     "output_type": "display_data"
    }
   ],
   "source": [
    "display(df.shape)\n",
    "display(df.info)\n",
    "display(df.describe)"
   ]
  },
  {
   "cell_type": "code",
   "execution_count": 6,
   "metadata": {},
   "outputs": [
    {
     "name": "stdout",
     "output_type": "stream",
     "text": [
      "IQR is\n",
      " c_ax       0.271200\n",
      "c_ay       0.054000\n",
      "c_az       0.507400\n",
      "c_ecg      0.112335\n",
      "c_emg      0.012314\n",
      "c_eda      0.746918\n",
      "c_temp     1.240173\n",
      "c_resp     3.100586\n",
      "w_label    2.000000\n",
      "dtype: float64\n"
     ]
    }
   ],
   "source": [
    "Q1 = df.quantile(0.25)\n",
    "Q3 = df.quantile(0.75)\n",
    "IQR = Q3 - Q1\n",
    "print(\"IQR is\\n\", IQR)\n",
    "#print((df < (Q1 - 1.5 * IQR)) |(df > (Q3 + 1.5 * IQR)) )"
   ]
  },
  {
   "cell_type": "code",
   "execution_count": 7,
   "metadata": {},
   "outputs": [
    {
     "name": "stdout",
     "output_type": "stream",
     "text": [
      "(2100456, 9)\n"
     ]
    }
   ],
   "source": [
    "df_out = df[~((df < (Q1 - 1.5 * IQR)) |(df > (Q3 + 1.5 * IQR))).any(axis=1)]\n",
    "print(df_out.shape)\n"
   ]
  },
  {
   "cell_type": "code",
   "execution_count": 8,
   "metadata": {},
   "outputs": [],
   "source": [
    "#mean normalization \n",
    "norm_df_out=(df_out-df_out.mean())/df_out.std()\n",
    "#min-max normalization:\n",
    "#norm_df_out=(df_out-df_out.min())/(df_out.max()-df_out.min())\n",
    "\n",
    "norm_y = df_out.w_label #keep original labels Dont normalize labels\n",
    "norm_x = norm_df_out.drop('w_label',axis=1)\n",
    "\n",
    "\n",
    "norm_x_train,norm_x_test,norm_y_train,norm_y_test=train_test_split(norm_x,norm_y,test_size=0.2)\n"
   ]
  },
  {
   "cell_type": "code",
   "execution_count": 9,
   "metadata": {},
   "outputs": [
    {
     "data": {
      "text/html": [
       "<div>\n",
       "<style scoped>\n",
       "    .dataframe tbody tr th:only-of-type {\n",
       "        vertical-align: middle;\n",
       "    }\n",
       "\n",
       "    .dataframe tbody tr th {\n",
       "        vertical-align: top;\n",
       "    }\n",
       "\n",
       "    .dataframe thead th {\n",
       "        text-align: right;\n",
       "    }\n",
       "</style>\n",
       "<table border=\"1\" class=\"dataframe\">\n",
       "  <thead>\n",
       "    <tr style=\"text-align: right;\">\n",
       "      <th></th>\n",
       "      <th>c_ax</th>\n",
       "      <th>c_ay</th>\n",
       "      <th>c_az</th>\n",
       "      <th>c_ecg</th>\n",
       "      <th>c_emg</th>\n",
       "      <th>c_eda</th>\n",
       "      <th>c_temp</th>\n",
       "      <th>c_resp</th>\n",
       "      <th>w_label</th>\n",
       "    </tr>\n",
       "  </thead>\n",
       "  <tbody>\n",
       "    <tr>\n",
       "      <th>393691</th>\n",
       "      <td>-1.678430</td>\n",
       "      <td>2.251221</td>\n",
       "      <td>-1.593856</td>\n",
       "      <td>-0.326259</td>\n",
       "      <td>-0.675595</td>\n",
       "      <td>3.563482</td>\n",
       "      <td>-4.750996</td>\n",
       "      <td>-0.416753</td>\n",
       "      <td>-0.108962</td>\n",
       "    </tr>\n",
       "    <tr>\n",
       "      <th>394476</th>\n",
       "      <td>-1.697992</td>\n",
       "      <td>2.116280</td>\n",
       "      <td>-1.564093</td>\n",
       "      <td>-1.913346</td>\n",
       "      <td>-1.408406</td>\n",
       "      <td>3.553901</td>\n",
       "      <td>-4.753546</td>\n",
       "      <td>0.864869</td>\n",
       "      <td>-0.108962</td>\n",
       "    </tr>\n",
       "    <tr>\n",
       "      <th>395154</th>\n",
       "      <td>-1.710440</td>\n",
       "      <td>2.244120</td>\n",
       "      <td>-1.574550</td>\n",
       "      <td>0.843406</td>\n",
       "      <td>1.302484</td>\n",
       "      <td>3.587000</td>\n",
       "      <td>-4.748553</td>\n",
       "      <td>-0.731728</td>\n",
       "      <td>-0.108962</td>\n",
       "    </tr>\n",
       "    <tr>\n",
       "      <th>396635</th>\n",
       "      <td>-1.746005</td>\n",
       "      <td>1.952928</td>\n",
       "      <td>-1.606727</td>\n",
       "      <td>-1.452419</td>\n",
       "      <td>0.221203</td>\n",
       "      <td>3.586129</td>\n",
       "      <td>-4.753546</td>\n",
       "      <td>1.121464</td>\n",
       "      <td>-0.108962</td>\n",
       "    </tr>\n",
       "    <tr>\n",
       "      <th>402178</th>\n",
       "      <td>-1.712218</td>\n",
       "      <td>2.158892</td>\n",
       "      <td>-1.596269</td>\n",
       "      <td>0.766310</td>\n",
       "      <td>-0.537232</td>\n",
       "      <td>3.553901</td>\n",
       "      <td>-4.571494</td>\n",
       "      <td>0.949722</td>\n",
       "      <td>-0.108962</td>\n",
       "    </tr>\n",
       "  </tbody>\n",
       "</table>\n",
       "</div>"
      ],
      "text/plain": [
       "            c_ax      c_ay      c_az     c_ecg     c_emg     c_eda    c_temp  \\\n",
       "393691 -1.678430  2.251221 -1.593856 -0.326259 -0.675595  3.563482 -4.750996   \n",
       "394476 -1.697992  2.116280 -1.564093 -1.913346 -1.408406  3.553901 -4.753546   \n",
       "395154 -1.710440  2.244120 -1.574550  0.843406  1.302484  3.587000 -4.748553   \n",
       "396635 -1.746005  1.952928 -1.606727 -1.452419  0.221203  3.586129 -4.753546   \n",
       "402178 -1.712218  2.158892 -1.596269  0.766310 -0.537232  3.553901 -4.571494   \n",
       "\n",
       "          c_resp   w_label  \n",
       "393691 -0.416753 -0.108962  \n",
       "394476  0.864869 -0.108962  \n",
       "395154 -0.731728 -0.108962  \n",
       "396635  1.121464 -0.108962  \n",
       "402178  0.949722 -0.108962  "
      ]
     },
     "execution_count": 9,
     "metadata": {},
     "output_type": "execute_result"
    }
   ],
   "source": [
    "norm_df_out.head()"
   ]
  },
  {
   "cell_type": "code",
   "execution_count": 10,
   "metadata": {},
   "outputs": [
    {
     "data": {
      "text/html": [
       "<div>\n",
       "<style scoped>\n",
       "    .dataframe tbody tr th:only-of-type {\n",
       "        vertical-align: middle;\n",
       "    }\n",
       "\n",
       "    .dataframe tbody tr th {\n",
       "        vertical-align: top;\n",
       "    }\n",
       "\n",
       "    .dataframe thead th {\n",
       "        text-align: right;\n",
       "    }\n",
       "</style>\n",
       "<table border=\"1\" class=\"dataframe\">\n",
       "  <thead>\n",
       "    <tr style=\"text-align: right;\">\n",
       "      <th></th>\n",
       "      <th>c_ax</th>\n",
       "      <th>c_ay</th>\n",
       "      <th>c_az</th>\n",
       "      <th>c_ecg</th>\n",
       "      <th>c_emg</th>\n",
       "      <th>c_eda</th>\n",
       "      <th>c_temp</th>\n",
       "      <th>c_resp</th>\n",
       "      <th>w_label</th>\n",
       "    </tr>\n",
       "  </thead>\n",
       "  <tbody>\n",
       "    <tr>\n",
       "      <th>count</th>\n",
       "      <td>2.100456e+06</td>\n",
       "      <td>2.100456e+06</td>\n",
       "      <td>2.100456e+06</td>\n",
       "      <td>2.100456e+06</td>\n",
       "      <td>2.100456e+06</td>\n",
       "      <td>2.100456e+06</td>\n",
       "      <td>2.100456e+06</td>\n",
       "      <td>2.100456e+06</td>\n",
       "      <td>2.100456e+06</td>\n",
       "    </tr>\n",
       "    <tr>\n",
       "      <th>mean</th>\n",
       "      <td>1.682200e-16</td>\n",
       "      <td>6.227062e-17</td>\n",
       "      <td>-1.660144e-16</td>\n",
       "      <td>6.819729e-18</td>\n",
       "      <td>-1.407246e-17</td>\n",
       "      <td>-3.169550e-16</td>\n",
       "      <td>-2.865856e-15</td>\n",
       "      <td>-1.104147e-17</td>\n",
       "      <td>4.483701e-16</td>\n",
       "    </tr>\n",
       "    <tr>\n",
       "      <th>std</th>\n",
       "      <td>1.000000e+00</td>\n",
       "      <td>1.000000e+00</td>\n",
       "      <td>1.000000e+00</td>\n",
       "      <td>1.000000e+00</td>\n",
       "      <td>1.000000e+00</td>\n",
       "      <td>1.000000e+00</td>\n",
       "      <td>1.000000e+00</td>\n",
       "      <td>1.000000e+00</td>\n",
       "      <td>1.000000e+00</td>\n",
       "    </tr>\n",
       "    <tr>\n",
       "      <th>min</th>\n",
       "      <td>-4.534372e+00</td>\n",
       "      <td>-3.814046e+00</td>\n",
       "      <td>-2.495604e+00</td>\n",
       "      <td>-2.629794e+00</td>\n",
       "      <td>-2.776663e+00</td>\n",
       "      <td>-1.856971e+00</td>\n",
       "      <td>-4.756042e+00</td>\n",
       "      <td>-2.715254e+00</td>\n",
       "      <td>-7.712019e-01</td>\n",
       "    </tr>\n",
       "    <tr>\n",
       "      <th>25%</th>\n",
       "      <td>-1.750292e-02</td>\n",
       "      <td>-6.535731e-01</td>\n",
       "      <td>-4.483708e-01</td>\n",
       "      <td>-5.757211e-01</td>\n",
       "      <td>-6.448473e-01</td>\n",
       "      <td>-7.211407e-01</td>\n",
       "      <td>-6.176719e-01</td>\n",
       "      <td>-7.154357e-01</td>\n",
       "      <td>-7.712019e-01</td>\n",
       "    </tr>\n",
       "    <tr>\n",
       "      <th>50%</th>\n",
       "      <td>4.164009e-01</td>\n",
       "      <td>-8.539912e-02</td>\n",
       "      <td>1.235676e-01</td>\n",
       "      <td>2.470093e-01</td>\n",
       "      <td>6.234153e-02</td>\n",
       "      <td>-1.995722e-02</td>\n",
       "      <td>-1.520821e-01</td>\n",
       "      <td>-1.092451e-01</td>\n",
       "      <td>-7.712019e-01</td>\n",
       "    </tr>\n",
       "    <tr>\n",
       "      <th>75%</th>\n",
       "      <td>6.226834e-01</td>\n",
       "      <td>5.537980e-01</td>\n",
       "      <td>5.812790e-01</td>\n",
       "      <td>6.049576e-01</td>\n",
       "      <td>6.619147e-01</td>\n",
       "      <td>3.711377e-01</td>\n",
       "      <td>7.266278e-01</td>\n",
       "      <td>7.331766e-01</td>\n",
       "      <td>5.532788e-01</td>\n",
       "    </tr>\n",
       "    <tr>\n",
       "      <th>max</th>\n",
       "      <td>4.150819e+00</td>\n",
       "      <td>3.856315e+00</td>\n",
       "      <td>3.420860e+00</td>\n",
       "      <td>2.775776e+00</td>\n",
       "      <td>2.732236e+00</td>\n",
       "      <td>3.596582e+00</td>\n",
       "      <td>3.874975e+00</td>\n",
       "      <td>2.802235e+00</td>\n",
       "      <td>1.877759e+00</td>\n",
       "    </tr>\n",
       "  </tbody>\n",
       "</table>\n",
       "</div>"
      ],
      "text/plain": [
       "               c_ax          c_ay          c_az         c_ecg         c_emg  \\\n",
       "count  2.100456e+06  2.100456e+06  2.100456e+06  2.100456e+06  2.100456e+06   \n",
       "mean   1.682200e-16  6.227062e-17 -1.660144e-16  6.819729e-18 -1.407246e-17   \n",
       "std    1.000000e+00  1.000000e+00  1.000000e+00  1.000000e+00  1.000000e+00   \n",
       "min   -4.534372e+00 -3.814046e+00 -2.495604e+00 -2.629794e+00 -2.776663e+00   \n",
       "25%   -1.750292e-02 -6.535731e-01 -4.483708e-01 -5.757211e-01 -6.448473e-01   \n",
       "50%    4.164009e-01 -8.539912e-02  1.235676e-01  2.470093e-01  6.234153e-02   \n",
       "75%    6.226834e-01  5.537980e-01  5.812790e-01  6.049576e-01  6.619147e-01   \n",
       "max    4.150819e+00  3.856315e+00  3.420860e+00  2.775776e+00  2.732236e+00   \n",
       "\n",
       "              c_eda        c_temp        c_resp       w_label  \n",
       "count  2.100456e+06  2.100456e+06  2.100456e+06  2.100456e+06  \n",
       "mean  -3.169550e-16 -2.865856e-15 -1.104147e-17  4.483701e-16  \n",
       "std    1.000000e+00  1.000000e+00  1.000000e+00  1.000000e+00  \n",
       "min   -1.856971e+00 -4.756042e+00 -2.715254e+00 -7.712019e-01  \n",
       "25%   -7.211407e-01 -6.176719e-01 -7.154357e-01 -7.712019e-01  \n",
       "50%   -1.995722e-02 -1.520821e-01 -1.092451e-01 -7.712019e-01  \n",
       "75%    3.711377e-01  7.266278e-01  7.331766e-01  5.532788e-01  \n",
       "max    3.596582e+00  3.874975e+00  2.802235e+00  1.877759e+00  "
      ]
     },
     "execution_count": 10,
     "metadata": {},
     "output_type": "execute_result"
    }
   ],
   "source": [
    "norm_df_out.describe()"
   ]
  },
  {
   "cell_type": "code",
   "execution_count": 11,
   "metadata": {},
   "outputs": [
    {
     "name": "stdout",
     "output_type": "stream",
     "text": [
      "<class 'pandas.core.frame.DataFrame'>\n",
      "Index: 2100456 entries, 393691 to 4255299\n",
      "Data columns (total 9 columns):\n",
      " #   Column   Dtype  \n",
      "---  ------   -----  \n",
      " 0   c_ax     float64\n",
      " 1   c_ay     float64\n",
      " 2   c_az     float64\n",
      " 3   c_ecg    float64\n",
      " 4   c_emg    float64\n",
      " 5   c_eda    float64\n",
      " 6   c_temp   float64\n",
      " 7   c_resp   float64\n",
      " 8   w_label  float64\n",
      "dtypes: float64(9)\n",
      "memory usage: 160.3 MB\n"
     ]
    }
   ],
   "source": [
    "norm_df_out.info()"
   ]
  },
  {
   "cell_type": "code",
   "execution_count": 12,
   "metadata": {},
   "outputs": [
    {
     "data": {
      "text/plain": [
       "(2100456, 9)"
      ]
     },
     "execution_count": 12,
     "metadata": {},
     "output_type": "execute_result"
    }
   ],
   "source": [
    "norm_df_out.shape"
   ]
  },
  {
   "cell_type": "code",
   "execution_count": 13,
   "metadata": {},
   "outputs": [
    {
     "data": {
      "image/png": "[encoded data removed]",
      "text/plain": [
       "<Figure size 1200x1000 with 2 Axes>"
      ]
     },
     "metadata": {},
     "output_type": "display_data"
    }
   ],
   "source": [
    "import seaborn as sns\n",
    "plt.figure(figsize=(12,10))\n",
    "cor = norm_x.corr()\n",
    "sns.heatmap(cor, annot=True, cmap=plt.cm.Reds)\n",
    "plt.show()"
   ]
  },
  {
   "cell_type": "code",
   "execution_count": 14,
   "metadata": {},
   "outputs": [
    {
     "data": {
      "text/plain": [
       "const     0.000000e+00\n",
       "c_ax      0.000000e+00\n",
       "c_ay      0.000000e+00\n",
       "c_az      0.000000e+00\n",
       "c_ecg     7.725890e-02\n",
       "c_emg     3.944850e-33\n",
       "c_eda     0.000000e+00\n",
       "c_temp    0.000000e+00\n",
       "c_resp    0.000000e+00\n",
       "dtype: float64"
      ]
     },
     "execution_count": 14,
     "metadata": {},
     "output_type": "execute_result"
    }
   ],
   "source": [
    "\n",
    "X_1 = sm.add_constant(norm_x)\n",
    "#Fitting sm.OLS model\n",
    "model = sm.OLS(norm_y,X_1).fit()\n",
    "model.pvalues"
   ]
  },
  {
   "cell_type": "code",
   "execution_count": 15,
   "metadata": {},
   "outputs": [
    {
     "data": {
      "text/plain": [
       "('c_ay', 'c_az', 'c_ecg', 'c_emg', 'c_eda', 'c_temp', 'c_resp')"
      ]
     },
     "execution_count": 15,
     "metadata": {},
     "output_type": "execute_result"
    }
   ],
   "source": [
    "#https://towardsdatascience.com/feature-selection-with-pandas-e3690ad8504b\n",
    "#https://towardsdatascience.com/feature-selection-using-wrapper-methods-in-python-f0d352b346f\n",
    "from mlxtend.feature_selection import SequentialFeatureSelector as SFS\n",
    "# Sequential Forward Selection(sfs)\n",
    "sfs = SFS(QuadraticDiscriminantAnalysis(),\n",
    "           k_features=7,\n",
    "           forward=True,\n",
    "           floating=False,\n",
    "           scoring = 'r2',\n",
    "           cv = 0)\n",
    "sfs.fit(norm_x, norm_y)\n",
    "sfs.k_feature_names_     # to get the final set of features"
   ]
  },
  {
   "cell_type": "code",
   "execution_count": 16,
   "metadata": {},
   "outputs": [
    {
     "data": {
      "text/plain": [
       "('c_ay', 'c_az', 'c_ecg', 'c_emg', 'c_eda', 'c_temp', 'c_resp')"
      ]
     },
     "execution_count": 16,
     "metadata": {},
     "output_type": "execute_result"
    }
   ],
   "source": [
    "sfs = SFS(QuadraticDiscriminantAnalysis(),\n",
    "           k_features=7,\n",
    "           forward=False,\n",
    "           floating=False,\n",
    "           scoring = 'r2',\n",
    "           cv = 0)\n",
    "sfs.fit(norm_x, norm_y)\n",
    "sfs.k_feature_names_     # to get the final set of features"
   ]
  },
  {
   "cell_type": "code",
   "execution_count": 17,
   "metadata": {},
   "outputs": [
    {
     "data": {
      "text/html": [
       "<div>\n",
       "<style scoped>\n",
       "    .dataframe tbody tr th:only-of-type {\n",
       "        vertical-align: middle;\n",
       "    }\n",
       "\n",
       "    .dataframe tbody tr th {\n",
       "        vertical-align: top;\n",
       "    }\n",
       "\n",
       "    .dataframe thead th {\n",
       "        text-align: right;\n",
       "    }\n",
       "</style>\n",
       "<table border=\"1\" class=\"dataframe\">\n",
       "  <thead>\n",
       "    <tr style=\"text-align: right;\">\n",
       "      <th></th>\n",
       "      <th>c_ax</th>\n",
       "      <th>c_ay</th>\n",
       "      <th>c_az</th>\n",
       "      <th>c_ecg</th>\n",
       "      <th>c_emg</th>\n",
       "      <th>c_eda</th>\n",
       "      <th>c_temp</th>\n",
       "      <th>c_resp</th>\n",
       "    </tr>\n",
       "  </thead>\n",
       "  <tbody>\n",
       "    <tr>\n",
       "      <th>2752602</th>\n",
       "      <td>0.743607</td>\n",
       "      <td>0.695842</td>\n",
       "      <td>0.806515</td>\n",
       "      <td>-0.314144</td>\n",
       "      <td>-2.587054</td>\n",
       "      <td>-0.334401</td>\n",
       "      <td>1.193864</td>\n",
       "      <td>-0.152690</td>\n",
       "    </tr>\n",
       "    <tr>\n",
       "      <th>2273015</th>\n",
       "      <td>-0.778613</td>\n",
       "      <td>-0.639369</td>\n",
       "      <td>-1.021113</td>\n",
       "      <td>-1.408364</td>\n",
       "      <td>-0.573104</td>\n",
       "      <td>0.720423</td>\n",
       "      <td>-0.714645</td>\n",
       "      <td>-0.130967</td>\n",
       "    </tr>\n",
       "    <tr>\n",
       "      <th>2276271</th>\n",
       "      <td>-0.778613</td>\n",
       "      <td>-0.639369</td>\n",
       "      <td>-1.114425</td>\n",
       "      <td>0.218924</td>\n",
       "      <td>2.716862</td>\n",
       "      <td>0.750038</td>\n",
       "      <td>-0.597226</td>\n",
       "      <td>0.265466</td>\n",
       "    </tr>\n",
       "    <tr>\n",
       "      <th>3158430</th>\n",
       "      <td>0.169218</td>\n",
       "      <td>0.326528</td>\n",
       "      <td>0.402699</td>\n",
       "      <td>0.189187</td>\n",
       "      <td>1.650954</td>\n",
       "      <td>-0.712430</td>\n",
       "      <td>-0.267324</td>\n",
       "      <td>-1.536814</td>\n",
       "    </tr>\n",
       "    <tr>\n",
       "      <th>1682363</th>\n",
       "      <td>0.416401</td>\n",
       "      <td>-0.667778</td>\n",
       "      <td>0.203204</td>\n",
       "      <td>-1.096123</td>\n",
       "      <td>0.221203</td>\n",
       "      <td>0.408592</td>\n",
       "      <td>-0.267324</td>\n",
       "      <td>-0.506358</td>\n",
       "    </tr>\n",
       "    <tr>\n",
       "      <th>...</th>\n",
       "      <td>...</td>\n",
       "      <td>...</td>\n",
       "      <td>...</td>\n",
       "      <td>...</td>\n",
       "      <td>...</td>\n",
       "      <td>...</td>\n",
       "      <td>...</td>\n",
       "      <td>...</td>\n",
       "    </tr>\n",
       "    <tr>\n",
       "      <th>3801946</th>\n",
       "      <td>0.732937</td>\n",
       "      <td>-0.170625</td>\n",
       "      <td>1.251356</td>\n",
       "      <td>1.611068</td>\n",
       "      <td>2.542627</td>\n",
       "      <td>-0.962418</td>\n",
       "      <td>0.685417</td>\n",
       "      <td>-0.629225</td>\n",
       "    </tr>\n",
       "    <tr>\n",
       "      <th>3084545</th>\n",
       "      <td>-2.354182</td>\n",
       "      <td>-0.397894</td>\n",
       "      <td>-1.877010</td>\n",
       "      <td>-2.039454</td>\n",
       "      <td>-0.906200</td>\n",
       "      <td>-0.633166</td>\n",
       "      <td>-0.136734</td>\n",
       "      <td>0.612346</td>\n",
       "    </tr>\n",
       "    <tr>\n",
       "      <th>3378194</th>\n",
       "      <td>0.690258</td>\n",
       "      <td>-0.753003</td>\n",
       "      <td>0.921546</td>\n",
       "      <td>0.354394</td>\n",
       "      <td>0.749032</td>\n",
       "      <td>-0.709817</td>\n",
       "      <td>0.948456</td>\n",
       "      <td>1.135041</td>\n",
       "    </tr>\n",
       "    <tr>\n",
       "      <th>1233154</th>\n",
       "      <td>-0.341152</td>\n",
       "      <td>0.113463</td>\n",
       "      <td>-0.684868</td>\n",
       "      <td>0.351090</td>\n",
       "      <td>-0.414242</td>\n",
       "      <td>0.079341</td>\n",
       "      <td>0.201877</td>\n",
       "      <td>1.762954</td>\n",
       "    </tr>\n",
       "    <tr>\n",
       "      <th>1180161</th>\n",
       "      <td>-0.031730</td>\n",
       "      <td>0.156075</td>\n",
       "      <td>-0.526399</td>\n",
       "      <td>1.002005</td>\n",
       "      <td>0.528676</td>\n",
       "      <td>0.335425</td>\n",
       "      <td>0.803952</td>\n",
       "      <td>-0.874960</td>\n",
       "    </tr>\n",
       "  </tbody>\n",
       "</table>\n",
       "<p>1680364 rows × 8 columns</p>\n",
       "</div>"
      ],
      "text/plain": [
       "             c_ax      c_ay      c_az     c_ecg     c_emg     c_eda    c_temp  \\\n",
       "2752602  0.743607  0.695842  0.806515 -0.314144 -2.587054 -0.334401  1.193864   \n",
       "2273015 -0.778613 -0.639369 -1.021113 -1.408364 -0.573104  0.720423 -0.714645   \n",
       "2276271 -0.778613 -0.639369 -1.114425  0.218924  2.716862  0.750038 -0.597226   \n",
       "3158430  0.169218  0.326528  0.402699  0.189187  1.650954 -0.712430 -0.267324   \n",
       "1682363  0.416401 -0.667778  0.203204 -1.096123  0.221203  0.408592 -0.267324   \n",
       "...           ...       ...       ...       ...       ...       ...       ...   \n",
       "3801946  0.732937 -0.170625  1.251356  1.611068  2.542627 -0.962418  0.685417   \n",
       "3084545 -2.354182 -0.397894 -1.877010 -2.039454 -0.906200 -0.633166 -0.136734   \n",
       "3378194  0.690258 -0.753003  0.921546  0.354394  0.749032 -0.709817  0.948456   \n",
       "1233154 -0.341152  0.113463 -0.684868  0.351090 -0.414242  0.079341  0.201877   \n",
       "1180161 -0.031730  0.156075 -0.526399  1.002005  0.528676  0.335425  0.803952   \n",
       "\n",
       "           c_resp  \n",
       "2752602 -0.152690  \n",
       "2273015 -0.130967  \n",
       "2276271  0.265466  \n",
       "3158430 -1.536814  \n",
       "1682363 -0.506358  \n",
       "...           ...  \n",
       "3801946 -0.629225  \n",
       "3084545  0.612346  \n",
       "3378194  1.135041  \n",
       "1233154  1.762954  \n",
       "1180161 -0.874960  \n",
       "\n",
       "[1680364 rows x 8 columns]"
      ]
     },
     "execution_count": 17,
     "metadata": {},
     "output_type": "execute_result"
    }
   ],
   "source": [
    "norm_x_train"
   ]
  },
  {
   "cell_type": "code",
   "execution_count": 18,
   "metadata": {},
   "outputs": [
    {
     "data": {
      "text/plain": [
       "2752602    0.0\n",
       "2273015    0.0\n",
       "2276271    0.0\n",
       "3158430    0.0\n",
       "1682363    2.0\n",
       "          ... \n",
       "3801946    0.0\n",
       "3084545    4.0\n",
       "3378194    3.0\n",
       "1233154    0.0\n",
       "1180161    0.0\n",
       "Name: w_label, Length: 1680364, dtype: float64"
      ]
     },
     "execution_count": 18,
     "metadata": {},
     "output_type": "execute_result"
    }
   ],
   "source": [
    "norm_y_train"
   ]
  },
  {
   "cell_type": "code",
   "execution_count": 19,
   "metadata": {},
   "outputs": [
    {
     "data": {
      "text/html": [
       "<div>\n",
       "<style scoped>\n",
       "    .dataframe tbody tr th:only-of-type {\n",
       "        vertical-align: middle;\n",
       "    }\n",
       "\n",
       "    .dataframe tbody tr th {\n",
       "        vertical-align: top;\n",
       "    }\n",
       "\n",
       "    .dataframe thead th {\n",
       "        text-align: right;\n",
       "    }\n",
       "</style>\n",
       "<table border=\"1\" class=\"dataframe\">\n",
       "  <thead>\n",
       "    <tr style=\"text-align: right;\">\n",
       "      <th></th>\n",
       "      <th>c_ax</th>\n",
       "      <th>c_ay</th>\n",
       "      <th>c_az</th>\n",
       "      <th>c_ecg</th>\n",
       "      <th>c_emg</th>\n",
       "      <th>c_eda</th>\n",
       "      <th>c_temp</th>\n",
       "      <th>c_resp</th>\n",
       "    </tr>\n",
       "  </thead>\n",
       "  <tbody>\n",
       "    <tr>\n",
       "      <th>1478354</th>\n",
       "      <td>0.464414</td>\n",
       "      <td>-0.241648</td>\n",
       "      <td>0.245034</td>\n",
       "      <td>0.559250</td>\n",
       "      <td>0.118712</td>\n",
       "      <td>0.023595</td>\n",
       "      <td>-1.422616</td>\n",
       "      <td>0.528171</td>\n",
       "    </tr>\n",
       "    <tr>\n",
       "      <th>2339696</th>\n",
       "      <td>0.338156</td>\n",
       "      <td>1.640433</td>\n",
       "      <td>0.282037</td>\n",
       "      <td>0.209012</td>\n",
       "      <td>-0.193886</td>\n",
       "      <td>0.338038</td>\n",
       "      <td>-0.318520</td>\n",
       "      <td>-1.314159</td>\n",
       "    </tr>\n",
       "    <tr>\n",
       "      <th>2849305</th>\n",
       "      <td>0.679589</td>\n",
       "      <td>0.695842</td>\n",
       "      <td>0.668156</td>\n",
       "      <td>1.246511</td>\n",
       "      <td>1.174370</td>\n",
       "      <td>-0.439796</td>\n",
       "      <td>0.232679</td>\n",
       "      <td>1.014889</td>\n",
       "    </tr>\n",
       "    <tr>\n",
       "      <th>3610053</th>\n",
       "      <td>0.473306</td>\n",
       "      <td>0.923112</td>\n",
       "      <td>0.316627</td>\n",
       "      <td>0.186433</td>\n",
       "      <td>-0.583353</td>\n",
       "      <td>-1.207178</td>\n",
       "      <td>1.911872</td>\n",
       "      <td>-0.431008</td>\n",
       "    </tr>\n",
       "    <tr>\n",
       "      <th>1921310</th>\n",
       "      <td>0.455524</td>\n",
       "      <td>-0.866640</td>\n",
       "      <td>0.158157</td>\n",
       "      <td>-0.713944</td>\n",
       "      <td>-0.183637</td>\n",
       "      <td>3.092252</td>\n",
       "      <td>-0.310872</td>\n",
       "      <td>2.555821</td>\n",
       "    </tr>\n",
       "    <tr>\n",
       "      <th>...</th>\n",
       "      <td>...</td>\n",
       "      <td>...</td>\n",
       "      <td>...</td>\n",
       "      <td>...</td>\n",
       "      <td>...</td>\n",
       "      <td>...</td>\n",
       "      <td>...</td>\n",
       "      <td>...</td>\n",
       "    </tr>\n",
       "    <tr>\n",
       "      <th>3549924</th>\n",
       "      <td>0.528433</td>\n",
       "      <td>-0.639369</td>\n",
       "      <td>0.504055</td>\n",
       "      <td>-0.960103</td>\n",
       "      <td>1.430598</td>\n",
       "      <td>-0.899703</td>\n",
       "      <td>2.057438</td>\n",
       "      <td>1.221931</td>\n",
       "    </tr>\n",
       "    <tr>\n",
       "      <th>3771994</th>\n",
       "      <td>0.768503</td>\n",
       "      <td>0.660332</td>\n",
       "      <td>1.438784</td>\n",
       "      <td>0.220025</td>\n",
       "      <td>0.472306</td>\n",
       "      <td>-0.901445</td>\n",
       "      <td>0.767839</td>\n",
       "      <td>-1.014119</td>\n",
       "    </tr>\n",
       "    <tr>\n",
       "      <th>2103061</th>\n",
       "      <td>0.224345</td>\n",
       "      <td>0.397549</td>\n",
       "      <td>-0.107299</td>\n",
       "      <td>0.340076</td>\n",
       "      <td>0.436434</td>\n",
       "      <td>2.728159</td>\n",
       "      <td>-1.656234</td>\n",
       "      <td>0.700593</td>\n",
       "    </tr>\n",
       "    <tr>\n",
       "      <th>3173422</th>\n",
       "      <td>0.661806</td>\n",
       "      <td>2.606330</td>\n",
       "      <td>0.607020</td>\n",
       "      <td>2.166163</td>\n",
       "      <td>2.296648</td>\n",
       "      <td>-0.639263</td>\n",
       "      <td>-0.285222</td>\n",
       "      <td>0.468435</td>\n",
       "    </tr>\n",
       "    <tr>\n",
       "      <th>3009493</th>\n",
       "      <td>-2.211919</td>\n",
       "      <td>0.056645</td>\n",
       "      <td>-1.828745</td>\n",
       "      <td>0.996498</td>\n",
       "      <td>-0.629474</td>\n",
       "      <td>-0.593970</td>\n",
       "      <td>-0.177680</td>\n",
       "      <td>-0.361768</td>\n",
       "    </tr>\n",
       "  </tbody>\n",
       "</table>\n",
       "<p>420092 rows × 8 columns</p>\n",
       "</div>"
      ],
      "text/plain": [
       "             c_ax      c_ay      c_az     c_ecg     c_emg     c_eda    c_temp  \\\n",
       "1478354  0.464414 -0.241648  0.245034  0.559250  0.118712  0.023595 -1.422616   \n",
       "2339696  0.338156  1.640433  0.282037  0.209012 -0.193886  0.338038 -0.318520   \n",
       "2849305  0.679589  0.695842  0.668156  1.246511  1.174370 -0.439796  0.232679   \n",
       "3610053  0.473306  0.923112  0.316627  0.186433 -0.583353 -1.207178  1.911872   \n",
       "1921310  0.455524 -0.866640  0.158157 -0.713944 -0.183637  3.092252 -0.310872   \n",
       "...           ...       ...       ...       ...       ...       ...       ...   \n",
       "3549924  0.528433 -0.639369  0.504055 -0.960103  1.430598 -0.899703  2.057438   \n",
       "3771994  0.768503  0.660332  1.438784  0.220025  0.472306 -0.901445  0.767839   \n",
       "2103061  0.224345  0.397549 -0.107299  0.340076  0.436434  2.728159 -1.656234   \n",
       "3173422  0.661806  2.606330  0.607020  2.166163  2.296648 -0.639263 -0.285222   \n",
       "3009493 -2.211919  0.056645 -1.828745  0.996498 -0.629474 -0.593970 -0.177680   \n",
       "\n",
       "           c_resp  \n",
       "1478354  0.528171  \n",
       "2339696 -1.314159  \n",
       "2849305  1.014889  \n",
       "3610053 -0.431008  \n",
       "1921310  2.555821  \n",
       "...           ...  \n",
       "3549924  1.221931  \n",
       "3771994 -1.014119  \n",
       "2103061  0.700593  \n",
       "3173422  0.468435  \n",
       "3009493 -0.361768  \n",
       "\n",
       "[420092 rows x 8 columns]"
      ]
     },
     "execution_count": 19,
     "metadata": {},
     "output_type": "execute_result"
    }
   ],
   "source": [
    "norm_x_test"
   ]
  },
  {
   "cell_type": "code",
   "execution_count": 20,
   "metadata": {},
   "outputs": [
    {
     "data": {
      "text/plain": [
       "1478354    0.0\n",
       "2339696    0.0\n",
       "2849305    0.0\n",
       "3610053    0.0\n",
       "1921310    2.0\n",
       "          ... \n",
       "3549924    3.0\n",
       "3771994    0.0\n",
       "2103061    0.0\n",
       "3173422    0.0\n",
       "3009493    4.0\n",
       "Name: w_label, Length: 420092, dtype: float64"
      ]
     },
     "execution_count": 20,
     "metadata": {},
     "output_type": "execute_result"
    }
   ],
   "source": [
    "norm_y_test"
   ]
  },
  {
   "cell_type": "code",
   "execution_count": 21,
   "metadata": {},
   "outputs": [
    {
     "data": {
      "text/plain": [
       "393691     1.0\n",
       "394476     1.0\n",
       "395154     1.0\n",
       "396635     1.0\n",
       "402178     1.0\n",
       "          ... \n",
       "4255293    0.0\n",
       "4255295    0.0\n",
       "4255296    0.0\n",
       "4255297    0.0\n",
       "4255299    0.0\n",
       "Name: w_label, Length: 2100456, dtype: float64"
      ]
     },
     "execution_count": 21,
     "metadata": {},
     "output_type": "execute_result"
    }
   ],
   "source": [
    "\n",
    "y=df_out.w_label\n",
    "x=df_out.drop('w_label',axis=1)\n",
    "#print(x)\n",
    "#print(\"\\n-----\\n\")\n",
    "#print(y)\n",
    "x_train,x_test,y_train,y_test=train_test_split(x,y,test_size=0.2)\n",
    "\n",
    "y"
   ]
  },
  {
   "cell_type": "code",
   "execution_count": 22,
   "metadata": {},
   "outputs": [
    {
     "data": {
      "text/html": [
       "<div>\n",
       "<style scoped>\n",
       "    .dataframe tbody tr th:only-of-type {\n",
       "        vertical-align: middle;\n",
       "    }\n",
       "\n",
       "    .dataframe tbody tr th {\n",
       "        vertical-align: top;\n",
       "    }\n",
       "\n",
       "    .dataframe thead th {\n",
       "        text-align: right;\n",
       "    }\n",
       "</style>\n",
       "<table border=\"1\" class=\"dataframe\">\n",
       "  <thead>\n",
       "    <tr style=\"text-align: right;\">\n",
       "      <th></th>\n",
       "      <th>c_ax</th>\n",
       "      <th>c_ay</th>\n",
       "      <th>c_az</th>\n",
       "      <th>c_ecg</th>\n",
       "      <th>c_emg</th>\n",
       "      <th>c_eda</th>\n",
       "      <th>c_temp</th>\n",
       "      <th>c_resp</th>\n",
       "    </tr>\n",
       "  </thead>\n",
       "  <tbody>\n",
       "    <tr>\n",
       "      <th>1590202</th>\n",
       "      <td>0.8862</td>\n",
       "      <td>-0.0846</td>\n",
       "      <td>-0.2718</td>\n",
       "      <td>-0.059097</td>\n",
       "      <td>-0.004166</td>\n",
       "      <td>1.244354</td>\n",
       "      <td>31.200195</td>\n",
       "      <td>-3.244019</td>\n",
       "    </tr>\n",
       "    <tr>\n",
       "      <th>3034335</th>\n",
       "      <td>0.5752</td>\n",
       "      <td>-0.1256</td>\n",
       "      <td>-0.7512</td>\n",
       "      <td>0.059647</td>\n",
       "      <td>-0.005814</td>\n",
       "      <td>0.797653</td>\n",
       "      <td>31.326660</td>\n",
       "      <td>-1.283264</td>\n",
       "    </tr>\n",
       "    <tr>\n",
       "      <th>2943948</th>\n",
       "      <td>0.5944</td>\n",
       "      <td>-0.1180</td>\n",
       "      <td>-0.7438</td>\n",
       "      <td>-0.164429</td>\n",
       "      <td>0.007553</td>\n",
       "      <td>0.887680</td>\n",
       "      <td>31.379700</td>\n",
       "      <td>-0.164795</td>\n",
       "    </tr>\n",
       "    <tr>\n",
       "      <th>1766206</th>\n",
       "      <td>0.8972</td>\n",
       "      <td>-0.2094</td>\n",
       "      <td>-0.2338</td>\n",
       "      <td>-0.038864</td>\n",
       "      <td>-0.011627</td>\n",
       "      <td>1.441193</td>\n",
       "      <td>31.443024</td>\n",
       "      <td>-0.544739</td>\n",
       "    </tr>\n",
       "    <tr>\n",
       "      <th>1804025</th>\n",
       "      <td>0.8778</td>\n",
       "      <td>-0.1244</td>\n",
       "      <td>-0.2948</td>\n",
       "      <td>-0.178391</td>\n",
       "      <td>-0.004349</td>\n",
       "      <td>1.491928</td>\n",
       "      <td>31.139984</td>\n",
       "      <td>1.638794</td>\n",
       "    </tr>\n",
       "    <tr>\n",
       "      <th>...</th>\n",
       "      <td>...</td>\n",
       "      <td>...</td>\n",
       "      <td>...</td>\n",
       "      <td>...</td>\n",
       "      <td>...</td>\n",
       "      <td>...</td>\n",
       "      <td>...</td>\n",
       "      <td>...</td>\n",
       "    </tr>\n",
       "    <tr>\n",
       "      <th>2736731</th>\n",
       "      <td>0.8930</td>\n",
       "      <td>-0.0502</td>\n",
       "      <td>-0.1734</td>\n",
       "      <td>0.044998</td>\n",
       "      <td>-0.003799</td>\n",
       "      <td>0.957489</td>\n",
       "      <td>31.981079</td>\n",
       "      <td>-0.250244</td>\n",
       "    </tr>\n",
       "    <tr>\n",
       "      <th>2719194</th>\n",
       "      <td>0.8730</td>\n",
       "      <td>-0.1294</td>\n",
       "      <td>-0.2082</td>\n",
       "      <td>0.050583</td>\n",
       "      <td>0.013504</td>\n",
       "      <td>1.012421</td>\n",
       "      <td>32.047852</td>\n",
       "      <td>-6.123352</td>\n",
       "    </tr>\n",
       "    <tr>\n",
       "      <th>2194149</th>\n",
       "      <td>0.8330</td>\n",
       "      <td>-0.1390</td>\n",
       "      <td>-0.3630</td>\n",
       "      <td>-0.184296</td>\n",
       "      <td>-0.023117</td>\n",
       "      <td>1.657867</td>\n",
       "      <td>30.864349</td>\n",
       "      <td>1.394653</td>\n",
       "    </tr>\n",
       "    <tr>\n",
       "      <th>3203928</th>\n",
       "      <td>0.9074</td>\n",
       "      <td>-0.1190</td>\n",
       "      <td>-0.0994</td>\n",
       "      <td>-0.035065</td>\n",
       "      <td>0.000778</td>\n",
       "      <td>0.754929</td>\n",
       "      <td>31.702759</td>\n",
       "      <td>0.109863</td>\n",
       "    </tr>\n",
       "    <tr>\n",
       "      <th>3295510</th>\n",
       "      <td>0.9006</td>\n",
       "      <td>-0.0594</td>\n",
       "      <td>0.1724</td>\n",
       "      <td>0.007095</td>\n",
       "      <td>-0.008469</td>\n",
       "      <td>0.790405</td>\n",
       "      <td>31.385529</td>\n",
       "      <td>-1.539612</td>\n",
       "    </tr>\n",
       "  </tbody>\n",
       "</table>\n",
       "<p>1680364 rows × 8 columns</p>\n",
       "</div>"
      ],
      "text/plain": [
       "           c_ax    c_ay    c_az     c_ecg     c_emg     c_eda     c_temp  \\\n",
       "1590202  0.8862 -0.0846 -0.2718 -0.059097 -0.004166  1.244354  31.200195   \n",
       "3034335  0.5752 -0.1256 -0.7512  0.059647 -0.005814  0.797653  31.326660   \n",
       "2943948  0.5944 -0.1180 -0.7438 -0.164429  0.007553  0.887680  31.379700   \n",
       "1766206  0.8972 -0.2094 -0.2338 -0.038864 -0.011627  1.441193  31.443024   \n",
       "1804025  0.8778 -0.1244 -0.2948 -0.178391 -0.004349  1.491928  31.139984   \n",
       "...         ...     ...     ...       ...       ...       ...        ...   \n",
       "2736731  0.8930 -0.0502 -0.1734  0.044998 -0.003799  0.957489  31.981079   \n",
       "2719194  0.8730 -0.1294 -0.2082  0.050583  0.013504  1.012421  32.047852   \n",
       "2194149  0.8330 -0.1390 -0.3630 -0.184296 -0.023117  1.657867  30.864349   \n",
       "3203928  0.9074 -0.1190 -0.0994 -0.035065  0.000778  0.754929  31.702759   \n",
       "3295510  0.9006 -0.0594  0.1724  0.007095 -0.008469  0.790405  31.385529   \n",
       "\n",
       "           c_resp  \n",
       "1590202 -3.244019  \n",
       "3034335 -1.283264  \n",
       "2943948 -0.164795  \n",
       "1766206 -0.544739  \n",
       "1804025  1.638794  \n",
       "...           ...  \n",
       "2736731 -0.250244  \n",
       "2719194 -6.123352  \n",
       "2194149  1.394653  \n",
       "3203928  0.109863  \n",
       "3295510 -1.539612  \n",
       "\n",
       "[1680364 rows x 8 columns]"
      ]
     },
     "execution_count": 22,
     "metadata": {},
     "output_type": "execute_result"
    }
   ],
   "source": [
    "(x_train)\n"
   ]
  },
  {
   "cell_type": "code",
   "execution_count": 23,
   "metadata": {},
   "outputs": [
    {
     "data": {
      "text/plain": [
       "1590202    0.0\n",
       "3034335    4.0\n",
       "2943948    4.0\n",
       "1766206    2.0\n",
       "1804025    2.0\n",
       "          ... \n",
       "2736731    0.0\n",
       "2719194    0.0\n",
       "2194149    0.0\n",
       "3203928    0.0\n",
       "3295510    0.0\n",
       "Name: w_label, Length: 1680364, dtype: float64"
      ]
     },
     "execution_count": 23,
     "metadata": {},
     "output_type": "execute_result"
    }
   ],
   "source": [
    "\n",
    "(y_train)\n"
   ]
  },
  {
   "cell_type": "code",
   "execution_count": 24,
   "metadata": {},
   "outputs": [
    {
     "data": {
      "text/html": [
       "<div>\n",
       "<style scoped>\n",
       "    .dataframe tbody tr th:only-of-type {\n",
       "        vertical-align: middle;\n",
       "    }\n",
       "\n",
       "    .dataframe tbody tr th {\n",
       "        vertical-align: top;\n",
       "    }\n",
       "\n",
       "    .dataframe thead th {\n",
       "        text-align: right;\n",
       "    }\n",
       "</style>\n",
       "<table border=\"1\" class=\"dataframe\">\n",
       "  <thead>\n",
       "    <tr style=\"text-align: right;\">\n",
       "      <th></th>\n",
       "      <th>c_ax</th>\n",
       "      <th>c_ay</th>\n",
       "      <th>c_az</th>\n",
       "      <th>c_ecg</th>\n",
       "      <th>c_emg</th>\n",
       "      <th>c_eda</th>\n",
       "      <th>c_temp</th>\n",
       "      <th>c_resp</th>\n",
       "    </tr>\n",
       "  </thead>\n",
       "  <tbody>\n",
       "    <tr>\n",
       "      <th>1789721</th>\n",
       "      <td>0.8862</td>\n",
       "      <td>-0.1294</td>\n",
       "      <td>-0.2748</td>\n",
       "      <td>-0.005630</td>\n",
       "      <td>0.000687</td>\n",
       "      <td>1.550674</td>\n",
       "      <td>31.054871</td>\n",
       "      <td>-2.931213</td>\n",
       "    </tr>\n",
       "    <tr>\n",
       "      <th>3456318</th>\n",
       "      <td>0.9142</td>\n",
       "      <td>-0.1430</td>\n",
       "      <td>-0.0626</td>\n",
       "      <td>0.034378</td>\n",
       "      <td>0.011581</td>\n",
       "      <td>0.754166</td>\n",
       "      <td>31.987030</td>\n",
       "      <td>-2.104187</td>\n",
       "    </tr>\n",
       "    <tr>\n",
       "      <th>3525919</th>\n",
       "      <td>0.9038</td>\n",
       "      <td>-0.1430</td>\n",
       "      <td>-0.1816</td>\n",
       "      <td>-0.112564</td>\n",
       "      <td>-0.003159</td>\n",
       "      <td>0.758362</td>\n",
       "      <td>32.385468</td>\n",
       "      <td>-0.904846</td>\n",
       "    </tr>\n",
       "    <tr>\n",
       "      <th>1769852</th>\n",
       "      <td>0.8902</td>\n",
       "      <td>-0.1490</td>\n",
       "      <td>-0.2466</td>\n",
       "      <td>-0.094437</td>\n",
       "      <td>-0.012772</td>\n",
       "      <td>1.385880</td>\n",
       "      <td>31.298737</td>\n",
       "      <td>-4.588318</td>\n",
       "    </tr>\n",
       "    <tr>\n",
       "      <th>1573713</th>\n",
       "      <td>0.8970</td>\n",
       "      <td>-0.1204</td>\n",
       "      <td>-0.2062</td>\n",
       "      <td>-0.032181</td>\n",
       "      <td>-0.006546</td>\n",
       "      <td>1.225662</td>\n",
       "      <td>31.137054</td>\n",
       "      <td>-2.691650</td>\n",
       "    </tr>\n",
       "    <tr>\n",
       "      <th>...</th>\n",
       "      <td>...</td>\n",
       "      <td>...</td>\n",
       "      <td>...</td>\n",
       "      <td>...</td>\n",
       "      <td>...</td>\n",
       "      <td>...</td>\n",
       "      <td>...</td>\n",
       "      <td>...</td>\n",
       "    </tr>\n",
       "    <tr>\n",
       "      <th>4141612</th>\n",
       "      <td>0.9074</td>\n",
       "      <td>-0.1088</td>\n",
       "      <td>0.1422</td>\n",
       "      <td>0.019226</td>\n",
       "      <td>-0.005219</td>\n",
       "      <td>0.481033</td>\n",
       "      <td>31.877350</td>\n",
       "      <td>0.112915</td>\n",
       "    </tr>\n",
       "    <tr>\n",
       "      <th>3433519</th>\n",
       "      <td>0.9122</td>\n",
       "      <td>-0.1478</td>\n",
       "      <td>-0.0520</td>\n",
       "      <td>-0.012817</td>\n",
       "      <td>0.005814</td>\n",
       "      <td>0.810242</td>\n",
       "      <td>31.918823</td>\n",
       "      <td>3.446960</td>\n",
       "    </tr>\n",
       "    <tr>\n",
       "      <th>1334569</th>\n",
       "      <td>0.8714</td>\n",
       "      <td>-0.1530</td>\n",
       "      <td>-0.3158</td>\n",
       "      <td>-0.080154</td>\n",
       "      <td>-0.003250</td>\n",
       "      <td>1.086807</td>\n",
       "      <td>30.984467</td>\n",
       "      <td>3.135681</td>\n",
       "    </tr>\n",
       "    <tr>\n",
       "      <th>4241540</th>\n",
       "      <td>0.8906</td>\n",
       "      <td>-0.1508</td>\n",
       "      <td>-0.2668</td>\n",
       "      <td>-0.064682</td>\n",
       "      <td>-0.011124</td>\n",
       "      <td>0.366974</td>\n",
       "      <td>31.231079</td>\n",
       "      <td>-1.112366</td>\n",
       "    </tr>\n",
       "    <tr>\n",
       "      <th>1714053</th>\n",
       "      <td>0.8744</td>\n",
       "      <td>-0.1320</td>\n",
       "      <td>-0.2662</td>\n",
       "      <td>0.059280</td>\n",
       "      <td>0.001648</td>\n",
       "      <td>1.255798</td>\n",
       "      <td>31.342865</td>\n",
       "      <td>1.179504</td>\n",
       "    </tr>\n",
       "  </tbody>\n",
       "</table>\n",
       "<p>420092 rows × 8 columns</p>\n",
       "</div>"
      ],
      "text/plain": [
       "           c_ax    c_ay    c_az     c_ecg     c_emg     c_eda     c_temp  \\\n",
       "1789721  0.8862 -0.1294 -0.2748 -0.005630  0.000687  1.550674  31.054871   \n",
       "3456318  0.9142 -0.1430 -0.0626  0.034378  0.011581  0.754166  31.987030   \n",
       "3525919  0.9038 -0.1430 -0.1816 -0.112564 -0.003159  0.758362  32.385468   \n",
       "1769852  0.8902 -0.1490 -0.2466 -0.094437 -0.012772  1.385880  31.298737   \n",
       "1573713  0.8970 -0.1204 -0.2062 -0.032181 -0.006546  1.225662  31.137054   \n",
       "...         ...     ...     ...       ...       ...       ...        ...   \n",
       "4141612  0.9074 -0.1088  0.1422  0.019226 -0.005219  0.481033  31.877350   \n",
       "3433519  0.9122 -0.1478 -0.0520 -0.012817  0.005814  0.810242  31.918823   \n",
       "1334569  0.8714 -0.1530 -0.3158 -0.080154 -0.003250  1.086807  30.984467   \n",
       "4241540  0.8906 -0.1508 -0.2668 -0.064682 -0.011124  0.366974  31.231079   \n",
       "1714053  0.8744 -0.1320 -0.2662  0.059280  0.001648  1.255798  31.342865   \n",
       "\n",
       "           c_resp  \n",
       "1789721 -2.931213  \n",
       "3456318 -2.104187  \n",
       "3525919 -0.904846  \n",
       "1769852 -4.588318  \n",
       "1573713 -2.691650  \n",
       "...           ...  \n",
       "4141612  0.112915  \n",
       "3433519  3.446960  \n",
       "1334569  3.135681  \n",
       "4241540 -1.112366  \n",
       "1714053  1.179504  \n",
       "\n",
       "[420092 rows x 8 columns]"
      ]
     },
     "execution_count": 24,
     "metadata": {},
     "output_type": "execute_result"
    }
   ],
   "source": [
    "(x_test)\n"
   ]
  },
  {
   "cell_type": "code",
   "execution_count": 25,
   "metadata": {},
   "outputs": [
    {
     "data": {
      "text/plain": [
       "1789721    2.0\n",
       "3456318    3.0\n",
       "3525919    3.0\n",
       "1769852    2.0\n",
       "1573713    0.0\n",
       "          ... \n",
       "4141612    0.0\n",
       "3433519    3.0\n",
       "1334569    0.0\n",
       "4241540    0.0\n",
       "1714053    2.0\n",
       "Name: w_label, Length: 420092, dtype: float64"
      ]
     },
     "execution_count": 25,
     "metadata": {},
     "output_type": "execute_result"
    }
   ],
   "source": [
    "(y_test)\n"
   ]
  },
  {
   "cell_type": "markdown",
   "metadata": {},
   "source": [
    "# Logistic Regression Base Model"
   ]
  },
  {
   "cell_type": "code",
   "execution_count": 26,
   "metadata": {},
   "outputs": [
    {
     "name": "stdout",
     "output_type": "stream",
     "text": [
      "              precision    recall  f1-score   support\n",
      "\n",
      "         0.0     0.8208    0.8930    0.8554    246315\n",
      "         1.0     0.9789    0.8956    0.9354     10566\n",
      "         2.0     0.6999    0.3961    0.5059     63658\n",
      "         3.0     0.7872    0.8177    0.8021     47543\n",
      "         4.0     0.9118    0.9998    0.9538     52010\n",
      "\n",
      "    accuracy                         0.8224    420092\n",
      "   macro avg     0.8397    0.8004    0.8105    420092\n",
      "weighted avg     0.8139    0.8224    0.8106    420092\n",
      "\n"
     ]
    },
    {
     "data": {
      "text/plain": [
       "\"\\n(C=1.0, class_weight=None, dual=False, fit_intercept=True, intercept_scaling=1, l1_ratio=None, max_iter=3,\\n                   multi_class='warn', n_jobs=None, penalty='l2',\\n                   random_state=None, solver='newton-cg', tol=0.0001, verbose=0,\\n                   warm_start=False) or use slover=saga\\n\""
      ]
     },
     "execution_count": 26,
     "metadata": {},
     "output_type": "execute_result"
    }
   ],
   "source": [
    "clf = skl_lm.LogisticRegression(solver='newton-cg', penalty=None)\n",
    "clf.fit(x_train, y_train)\n",
    "y_out = clf.predict(x_test)\n",
    "print(classification_report(y_test, y_out, digits=4))\n",
    "\n",
    "#takes 20 minutes.\n",
    "'''\n",
    "(C=1.0, class_weight=None, dual=False, fit_intercept=True, intercept_scaling=1, l1_ratio=None, max_iter=3,\n",
    "                   multi_class='warn', n_jobs=None, penalty='l2',\n",
    "                   random_state=None, solver='newton-cg', tol=0.0001, verbose=0,\n",
    "                   warm_start=False) or use slover=saga\n",
    "'''                 "
   ]
  },
  {
   "cell_type": "markdown",
   "metadata": {},
   "source": [
    "# Logistic Regression + L2"
   ]
  },
  {
   "cell_type": "code",
   "execution_count": 27,
   "metadata": {},
   "outputs": [
    {
     "name": "stderr",
     "output_type": "stream",
     "text": [
      "C:\\Users\\ferri\\AppData\\Local\\Packages\\PythonSoftwareFoundation.Python.3.11_qbz5n2kfra8p0\\LocalCache\\local-packages\\Python311\\site-packages\\sklearn\\linear_model\\_logistic.py:1247: FutureWarning: 'multi_class' was deprecated in version 1.5 and will be removed in 1.7. From then on, it will always use 'multinomial'. Leave it to its default value to avoid this warning.\n",
      "  warnings.warn(\n"
     ]
    },
    {
     "name": "stdout",
     "output_type": "stream",
     "text": [
      "              precision    recall  f1-score   support\n",
      "\n",
      "         0.0     0.8205    0.8932    0.8553    246315\n",
      "         1.0     0.9823    0.8964    0.9374     10566\n",
      "         2.0     0.7025    0.3971    0.5073     63658\n",
      "         3.0     0.7857    0.8139    0.7996     47543\n",
      "         4.0     0.9113    0.9999    0.9535     52010\n",
      "\n",
      "    accuracy                         0.8224    420092\n",
      "   macro avg     0.8404    0.8001    0.8106    420092\n",
      "weighted avg     0.8140    0.8224    0.8105    420092\n",
      "\n"
     ]
    }
   ],
   "source": [
    "clf = skl_lm.LogisticRegression(solver='newton-cg',penalty='l2',multi_class='auto')\n",
    "clf.fit(x_train,y_train)\n",
    "y_out = clf.predict(x_test)\n",
    "print(classification_report(y_test, y_out, digits=4))\n",
    "\n"
   ]
  },
  {
   "cell_type": "markdown",
   "metadata": {},
   "source": [
    "# LDA Basic Implementation"
   ]
  },
  {
   "cell_type": "code",
   "execution_count": 28,
   "metadata": {},
   "outputs": [
    {
     "name": "stdout",
     "output_type": "stream",
     "text": [
      "              precision    recall  f1-score   support\n",
      "\n",
      "         0.0     0.8121    0.8667    0.8385    246315\n",
      "         1.0     0.9710    0.6527    0.7806     10566\n",
      "         2.0     0.6265    0.3700    0.4652     63658\n",
      "         3.0     0.7478    0.8120    0.7786     47543\n",
      "         4.0     0.8540    1.0000    0.9212     52010\n",
      "\n",
      "    accuracy                         0.7964    420092\n",
      "   macro avg     0.8023    0.7403    0.7568    420092\n",
      "weighted avg     0.7859    0.7964    0.7840    420092\n",
      "\n"
     ]
    }
   ],
   "source": [
    "LDA= LinearDiscriminantAnalysis(solver = 'svd')\n",
    "y_out = LDA.fit(x_train, y_train).predict(x_test)\n",
    "#confusion_matrix(y_test, y_out)\n",
    "print(classification_report(y_test, y_out, digits=4))#target_names=['Not Six', 'Six']"
   ]
  },
  {
   "cell_type": "markdown",
   "metadata": {},
   "source": [
    "# QDA Basic Implementation"
   ]
  },
  {
   "cell_type": "code",
   "execution_count": 29,
   "metadata": {},
   "outputs": [
    {
     "name": "stderr",
     "output_type": "stream",
     "text": [
      "C:\\Users\\ferri\\AppData\\Local\\Packages\\PythonSoftwareFoundation.Python.3.11_qbz5n2kfra8p0\\LocalCache\\local-packages\\Python311\\site-packages\\sklearn\\discriminant_analysis.py:1024: LinAlgWarning: The covariance matrix of class 0 is not full rank. Increasing the value of parameter `reg_param` might help reducing the collinearity.\n",
      "  warnings.warn(\n",
      "C:\\Users\\ferri\\AppData\\Local\\Packages\\PythonSoftwareFoundation.Python.3.11_qbz5n2kfra8p0\\LocalCache\\local-packages\\Python311\\site-packages\\sklearn\\discriminant_analysis.py:1024: LinAlgWarning: The covariance matrix of class 1 is not full rank. Increasing the value of parameter `reg_param` might help reducing the collinearity.\n",
      "  warnings.warn(\n",
      "C:\\Users\\ferri\\AppData\\Local\\Packages\\PythonSoftwareFoundation.Python.3.11_qbz5n2kfra8p0\\LocalCache\\local-packages\\Python311\\site-packages\\sklearn\\discriminant_analysis.py:1024: LinAlgWarning: The covariance matrix of class 2 is not full rank. Increasing the value of parameter `reg_param` might help reducing the collinearity.\n",
      "  warnings.warn(\n",
      "C:\\Users\\ferri\\AppData\\Local\\Packages\\PythonSoftwareFoundation.Python.3.11_qbz5n2kfra8p0\\LocalCache\\local-packages\\Python311\\site-packages\\sklearn\\discriminant_analysis.py:1024: LinAlgWarning: The covariance matrix of class 3 is not full rank. Increasing the value of parameter `reg_param` might help reducing the collinearity.\n",
      "  warnings.warn(\n",
      "C:\\Users\\ferri\\AppData\\Local\\Packages\\PythonSoftwareFoundation.Python.3.11_qbz5n2kfra8p0\\LocalCache\\local-packages\\Python311\\site-packages\\sklearn\\discriminant_analysis.py:1024: LinAlgWarning: The covariance matrix of class 4 is not full rank. Increasing the value of parameter `reg_param` might help reducing the collinearity.\n",
      "  warnings.warn(\n",
      "C:\\Users\\ferri\\AppData\\Local\\Packages\\PythonSoftwareFoundation.Python.3.11_qbz5n2kfra8p0\\LocalCache\\local-packages\\Python311\\site-packages\\sklearn\\discriminant_analysis.py:1024: LinAlgWarning: The covariance matrix of class 0 is not full rank. Increasing the value of parameter `reg_param` might help reducing the collinearity.\n",
      "  warnings.warn(\n",
      "C:\\Users\\ferri\\AppData\\Local\\Packages\\PythonSoftwareFoundation.Python.3.11_qbz5n2kfra8p0\\LocalCache\\local-packages\\Python311\\site-packages\\sklearn\\discriminant_analysis.py:1024: LinAlgWarning: The covariance matrix of class 1 is not full rank. Increasing the value of parameter `reg_param` might help reducing the collinearity.\n",
      "  warnings.warn(\n",
      "C:\\Users\\ferri\\AppData\\Local\\Packages\\PythonSoftwareFoundation.Python.3.11_qbz5n2kfra8p0\\LocalCache\\local-packages\\Python311\\site-packages\\sklearn\\discriminant_analysis.py:1024: LinAlgWarning: The covariance matrix of class 2 is not full rank. Increasing the value of parameter `reg_param` might help reducing the collinearity.\n",
      "  warnings.warn(\n",
      "C:\\Users\\ferri\\AppData\\Local\\Packages\\PythonSoftwareFoundation.Python.3.11_qbz5n2kfra8p0\\LocalCache\\local-packages\\Python311\\site-packages\\sklearn\\discriminant_analysis.py:1024: LinAlgWarning: The covariance matrix of class 3 is not full rank. Increasing the value of parameter `reg_param` might help reducing the collinearity.\n",
      "  warnings.warn(\n",
      "C:\\Users\\ferri\\AppData\\Local\\Packages\\PythonSoftwareFoundation.Python.3.11_qbz5n2kfra8p0\\LocalCache\\local-packages\\Python311\\site-packages\\sklearn\\discriminant_analysis.py:1024: LinAlgWarning: The covariance matrix of class 4 is not full rank. Increasing the value of parameter `reg_param` might help reducing the collinearity.\n",
      "  warnings.warn(\n"
     ]
    },
    {
     "name": "stdout",
     "output_type": "stream",
     "text": [
      "              precision    recall  f1-score   support\n",
      "\n",
      "         0.0     0.9754    0.8958    0.9339    246315\n",
      "         1.0     0.8670    0.9521    0.9076     10566\n",
      "         2.0     0.7977    0.9317    0.8595     63658\n",
      "         3.0     0.8912    0.9861    0.9363     47543\n",
      "         4.0     0.9392    0.9989    0.9681     52010\n",
      "\n",
      "    accuracy                         0.9256    420092\n",
      "   macro avg     0.8941    0.9529    0.9211    420092\n",
      "weighted avg     0.9317    0.9256    0.9265    420092\n",
      "\n"
     ]
    }
   ],
   "source": [
    "qda_clf = QuadraticDiscriminantAnalysis()\n",
    "qda_clf.fit(x_train,y_train)\n",
    "y_out = qda_clf.fit(x_train, y_train).predict(x_test)\n",
    "print(classification_report(y_test, y_out, digits=4))#target_names=['Not Six', 'Six']\n",
    "#IF QDA is best, then data must be Gaussian"
   ]
  },
  {
   "cell_type": "code",
   "execution_count": 30,
   "metadata": {},
   "outputs": [
    {
     "name": "stdout",
     "output_type": "stream",
     "text": [
      "              precision    recall  f1-score   support\n",
      "\n",
      "         0.0     0.8729    0.9031    0.8877   1230433\n",
      "         1.0     0.8648    0.9317    0.8970     53659\n",
      "         2.0     0.7485    0.7179    0.7329    316935\n",
      "         3.0     0.9045    0.7139    0.7980    239191\n",
      "         4.0     0.9389    0.9985    0.9678    260238\n",
      "\n",
      "    accuracy                         0.8662   2100456\n",
      "   macro avg     0.8659    0.8530    0.8567   2100456\n",
      "weighted avg     0.8657    0.8662    0.8643   2100456\n",
      "\n"
     ]
    }
   ],
   "source": [
    "qda_clf = QuadraticDiscriminantAnalysis()\n",
    "norm_y_out = cross_val_predict(qda_clf, norm_x, norm_y, cv=5)\n",
    "lm=(classification_report(norm_y, norm_y_out, digits=4))\n",
    "print(lm)"
   ]
  },
  {
   "cell_type": "markdown",
   "metadata": {},
   "source": [
    "# QDA + Normalization + Cross Validation = 10"
   ]
  },
  {
   "cell_type": "code",
   "execution_count": 31,
   "metadata": {},
   "outputs": [
    {
     "name": "stdout",
     "output_type": "stream",
     "text": [
      "              precision    recall  f1-score   support\n",
      "\n",
      "         0.0     0.9473    0.8943    0.9200   1230433\n",
      "         1.0     0.8798    0.9427    0.9101     53659\n",
      "         2.0     0.7799    0.8881    0.8305    316935\n",
      "         3.0     0.8922    0.9069    0.8995    239191\n",
      "         4.0     0.9366    0.9985    0.9666    260238\n",
      "\n",
      "    accuracy                         0.9089   2100456\n",
      "   macro avg     0.8872    0.9261    0.9053   2100456\n",
      "weighted avg     0.9127    0.9089    0.9097   2100456\n",
      "\n"
     ]
    }
   ],
   "source": [
    "qda_clf = QuadraticDiscriminantAnalysis(priors=None, reg_param=0)\n",
    "norm_y_out = cross_val_predict(qda_clf, norm_x, norm_y, cv=10)\n",
    "lm=(classification_report(norm_y, norm_y_out, digits=4))\n",
    "print(lm)   "
   ]
  },
  {
   "cell_type": "code",
   "execution_count": 32,
   "metadata": {},
   "outputs": [
    {
     "name": "stdout",
     "output_type": "stream",
     "text": [
      "              precision    recall  f1-score   support\n",
      "\n",
      "         0.0     0.8380    0.8037    0.8205   1230433\n",
      "         1.0     0.9813    0.7941    0.8778     53659\n",
      "         2.0     0.5829    0.4384    0.5005    316935\n",
      "         3.0     0.6677    0.9552    0.7860    239191\n",
      "         4.0     0.8780    1.0000    0.9350    260238\n",
      "\n",
      "    accuracy                         0.7899   2100456\n",
      "   macro avg     0.7896    0.7983    0.7840   2100456\n",
      "weighted avg     0.7887    0.7899    0.7839   2100456\n",
      "\n"
     ]
    }
   ],
   "source": [
    "qda_clf = QuadraticDiscriminantAnalysis(priors=None, reg_param=0.5)\n",
    "norm_y_out = cross_val_predict(qda_clf, norm_x, norm_y, cv=10)\n",
    "lm=(classification_report(norm_y, norm_y_out, digits=4))\n",
    "print(lm)"
   ]
  },
  {
   "cell_type": "code",
   "execution_count": 33,
   "metadata": {},
   "outputs": [
    {
     "name": "stdout",
     "output_type": "stream",
     "text": [
      "              precision    recall  f1-score   support\n",
      "\n",
      "         0.0     0.7625    0.8220    0.7912   1230433\n",
      "         1.0     0.9929    0.6342    0.7740     53659\n",
      "         2.0     0.4651    0.3059    0.3690    316935\n",
      "         3.0     0.6491    0.6136    0.6309    239191\n",
      "         4.0     0.8525    1.0000    0.9204    260238\n",
      "\n",
      "    accuracy                         0.7376   2100456\n",
      "   macro avg     0.7444    0.6751    0.6971   2100456\n",
      "weighted avg     0.7218    0.7376    0.7248   2100456\n",
      "\n"
     ]
    }
   ],
   "source": [
    "qda_clf = QuadraticDiscriminantAnalysis(priors=None, reg_param=0.9)\n",
    "norm_y_out = cross_val_predict(qda_clf, norm_x, norm_y, cv=10)\n",
    "lm=(classification_report(norm_y, norm_y_out, digits=4))\n",
    "print(lm)"
   ]
  },
  {
   "cell_type": "code",
   "execution_count": 34,
   "metadata": {},
   "outputs": [
    {
     "name": "stdout",
     "output_type": "stream",
     "text": [
      "              precision    recall  f1-score   support\n",
      "\n",
      "         0.0     0.7977    0.8178    0.8076   1230433\n",
      "         1.0     0.9887    0.7486    0.8521     53659\n",
      "         2.0     0.5200    0.3503    0.4186    316935\n",
      "         3.0     0.6728    0.8035    0.7324    239191\n",
      "         4.0     0.8698    1.0000    0.9304    260238\n",
      "\n",
      "    accuracy                         0.7664   2100456\n",
      "   macro avg     0.7698    0.7440    0.7482   2100456\n",
      "weighted avg     0.7554    0.7664    0.7567   2100456\n",
      "\n"
     ]
    }
   ],
   "source": [
    "qda_clf = QuadraticDiscriminantAnalysis(priors=None, reg_param=0.7)\n",
    "norm_y_out = cross_val_predict(qda_clf, norm_x, norm_y, cv=10)\n",
    "lm=(classification_report(norm_y, norm_y_out, digits=4))\n",
    "print(lm)"
   ]
  },
  {
   "cell_type": "markdown",
   "metadata": {},
   "source": [
    "# QDA + Normalization + Cross Validation = 20"
   ]
  },
  {
   "cell_type": "code",
   "execution_count": 35,
   "metadata": {},
   "outputs": [
    {
     "name": "stdout",
     "output_type": "stream",
     "text": [
      "              precision    recall  f1-score   support\n",
      "\n",
      "         0.0     0.9647    0.8873    0.9243   1230433\n",
      "         1.0     0.8790    0.9432    0.9100     53659\n",
      "         2.0     0.7730    0.9054    0.8340    316935\n",
      "         3.0     0.8858    0.9719    0.9269    239191\n",
      "         4.0     0.9369    0.9990    0.9670    260238\n",
      "\n",
      "    accuracy                         0.9149   2100456\n",
      "   macro avg     0.8879    0.9414    0.9124   2100456\n",
      "weighted avg     0.9211    0.9149    0.9159   2100456\n",
      "\n"
     ]
    }
   ],
   "source": [
    "qda_clf = QuadraticDiscriminantAnalysis()\n",
    "norm_y_out = cross_val_predict(qda_clf, norm_x, norm_y, cv=20)\n",
    "lm=(classification_report(norm_y, norm_y_out, digits=4))\n",
    "print(lm)"
   ]
  },
  {
   "cell_type": "markdown",
   "metadata": {},
   "source": [
    "# KNN + Cross Validation + K=3 + Normalization [ CV = 10, K = 3 ]"
   ]
  },
  {
   "cell_type": "code",
   "execution_count": 36,
   "metadata": {},
   "outputs": [
    {
     "name": "stdout",
     "output_type": "stream",
     "text": [
      "              precision    recall  f1-score   support\n",
      "\n",
      "         0.0     0.9245    0.8220    0.8702   1230433\n",
      "         1.0     0.9086    0.8866    0.8974     53659\n",
      "         2.0     0.7062    0.9154    0.7973    316935\n",
      "         3.0     0.7487    0.8514    0.7968    239191\n",
      "         4.0     0.9013    0.9397    0.9201    260238\n",
      "\n",
      "    accuracy                         0.8557   2100456\n",
      "   macro avg     0.8379    0.8830    0.8564   2100456\n",
      "weighted avg     0.8683    0.8557    0.8577   2100456\n",
      "\n"
     ]
    }
   ],
   "source": [
    "#Do base mdel with test and train data, show improvement in next section with cross validation\n",
    "knn = KNeighborsClassifier(n_neighbors=3)\n",
    "norm_y_out = cross_val_predict(knn, norm_x, norm_y, cv=10)\n",
    "lm=(classification_report(norm_y, norm_y_out, digits=4))\n",
    "print(lm)\n",
    "#https://www.ritchieng.com/machine-learning-cross-validation/"
   ]
  },
  {
   "cell_type": "markdown",
   "metadata": {},
   "source": [
    "# KNN + Cross Validation + K=5 + Normalization [ CV = 20, K = 5 ]"
   ]
  },
  {
   "cell_type": "code",
   "execution_count": 37,
   "metadata": {},
   "outputs": [
    {
     "name": "stdout",
     "output_type": "stream",
     "text": [
      "              precision    recall  f1-score   support\n",
      "\n",
      "         0.0     0.9545    0.8799    0.9157   1230433\n",
      "         1.0     0.9155    0.9165    0.9160     53659\n",
      "         2.0     0.8234    0.9416    0.8785    316935\n",
      "         3.0     0.8043    0.9206    0.8585    239191\n",
      "         4.0     0.9060    0.9620    0.9332    260238\n",
      "\n",
      "    accuracy                         0.9049   2100456\n",
      "   macro avg     0.8807    0.9241    0.9004   2100456\n",
      "weighted avg     0.9106    0.9049    0.9057   2100456\n",
      "\n"
     ]
    }
   ],
   "source": [
    "knn = KNeighborsClassifier(n_neighbors=5)\n",
    "norm_y_out = cross_val_predict(knn, norm_x, norm_y, cv=20)\n",
    "lm=(classification_report(norm_y, norm_y_out, digits=4))\n",
    "print(lm)"
   ]
  },
  {
   "cell_type": "markdown",
   "metadata": {},
   "source": [
    "# KNN + Cross Validation + K=10 + Normalization [ CV = 10, K = 10 ]"
   ]
  },
  {
   "cell_type": "code",
   "execution_count": 38,
   "metadata": {},
   "outputs": [
    {
     "name": "stdout",
     "output_type": "stream",
     "text": [
      "              precision    recall  f1-score   support\n",
      "\n",
      "         0.0     0.9249    0.8253    0.8723   1230433\n",
      "         1.0     0.9246    0.8831    0.9034     53659\n",
      "         2.0     0.7107    0.9127    0.7992    316935\n",
      "         3.0     0.7492    0.8527    0.7976    239191\n",
      "         4.0     0.9024    0.9430    0.9222    260238\n",
      "\n",
      "    accuracy                         0.8577   2100456\n",
      "   macro avg     0.8423    0.8834    0.8589   2100456\n",
      "weighted avg     0.8698    0.8577    0.8597   2100456\n",
      "\n"
     ]
    }
   ],
   "source": [
    "knn = KNeighborsClassifier(n_neighbors=10)\n",
    "norm_y_out = cross_val_predict(knn, norm_x, norm_y, cv=10)\n",
    "lm=(classification_report(norm_y, norm_y_out, digits=4))\n",
    "print(lm)"
   ]
  },
  {
   "cell_type": "markdown",
   "metadata": {},
   "source": [
    "# KNN + Cross Validation [ CV = 10, K = 20 ]"
   ]
  },
  {
   "cell_type": "code",
   "execution_count": 39,
   "metadata": {},
   "outputs": [
    {
     "name": "stdout",
     "output_type": "stream",
     "text": [
      "              precision    recall  f1-score   support\n",
      "\n",
      "         0.0     0.9295    0.8213    0.8720   1230433\n",
      "         1.0     0.9454    0.8815    0.9123     53659\n",
      "         2.0     0.7058    0.9185    0.7982    316935\n",
      "         3.0     0.7441    0.8621    0.7988    239191\n",
      "         4.0     0.9030    0.9498    0.9258    260238\n",
      "\n",
      "    accuracy                         0.8580   2100456\n",
      "   macro avg     0.8456    0.8866    0.8614   2100456\n",
      "weighted avg     0.8718    0.8580    0.8602   2100456\n",
      "\n"
     ]
    }
   ],
   "source": [
    "knn = KNeighborsClassifier(n_neighbors=20)\n",
    "norm_y_out = cross_val_predict(knn, norm_x, norm_y, cv=10)\n",
    "lm=(classification_report(norm_y, norm_y_out, digits=4))\n",
    "print(lm)"
   ]
  },
  {
   "cell_type": "markdown",
   "metadata": {},
   "source": [
    "# KNN + Cross Validation [ CV = 10, K = 30 ]"
   ]
  },
  {
   "cell_type": "code",
   "execution_count": 40,
   "metadata": {},
   "outputs": [
    {
     "name": "stdout",
     "output_type": "stream",
     "text": [
      "              precision    recall  f1-score   support\n",
      "\n",
      "         0.0     0.9321    0.8199    0.8724   1230433\n",
      "         1.0     0.9605    0.8802    0.9186     53659\n",
      "         2.0     0.7034    0.9201    0.7973    316935\n",
      "         3.0     0.7430    0.8689    0.8010    239191\n",
      "         4.0     0.9037    0.9537    0.9280    260238\n",
      "\n",
      "    accuracy                         0.8587   2100456\n",
      "   macro avg     0.8485    0.8885    0.8635   2100456\n",
      "weighted avg     0.8732    0.8587    0.8610   2100456\n",
      "\n"
     ]
    }
   ],
   "source": [
    "knn = KNeighborsClassifier(n_neighbors=30)\n",
    "norm_y_out = cross_val_predict(knn, norm_x, norm_y, cv=10)\n",
    "lm=(classification_report(norm_y, norm_y_out, digits=4))\n",
    "print(lm)"
   ]
  },
  {
   "cell_type": "markdown",
   "metadata": {},
   "source": [
    "# KNN + Cross Validation [ CV = 10, K = 40 ]"
   ]
  },
  {
   "cell_type": "code",
   "execution_count": 41,
   "metadata": {},
   "outputs": [
    {
     "name": "stdout",
     "output_type": "stream",
     "text": [
      "              precision    recall  f1-score   support\n",
      "\n",
      "         0.0     0.9338    0.8191    0.8727   1230433\n",
      "         1.0     0.9673    0.8792    0.9211     53659\n",
      "         2.0     0.7017    0.9208    0.7964    316935\n",
      "         3.0     0.7433    0.8738    0.8033    239191\n",
      "         4.0     0.9042    0.9564    0.9296    260238\n",
      "\n",
      "    accuracy                         0.8592   2100456\n",
      "   macro avg     0.8501    0.8899    0.8646   2100456\n",
      "weighted avg     0.8743    0.8592    0.8616   2100456\n",
      "\n"
     ]
    }
   ],
   "source": [
    "knn = KNeighborsClassifier(n_neighbors=40)\n",
    "norm_y_out = cross_val_predict(knn, norm_x, norm_y, cv=10)\n",
    "lm=(classification_report(norm_y, norm_y_out, digits=4))\n",
    "print(lm)"
   ]
  },
  {
   "cell_type": "markdown",
   "metadata": {},
   "source": [
    "# KNN + Cross Validation [ CV = 10, K = 60 ]"
   ]
  },
  {
   "cell_type": "code",
   "execution_count": 42,
   "metadata": {},
   "outputs": [
    {
     "name": "stdout",
     "output_type": "stream",
     "text": [
      "              precision    recall  f1-score   support\n",
      "\n",
      "         0.0     0.9367    0.8185    0.8736   1230433\n",
      "         1.0     0.9745    0.8774    0.9234     53659\n",
      "         2.0     0.6999    0.9215    0.7956    316935\n",
      "         3.0     0.7447    0.8825    0.8078    239191\n",
      "         4.0     0.9046    0.9606    0.9318    260238\n",
      "\n",
      "    accuracy                         0.8604   2100456\n",
      "   macro avg     0.8521    0.8921    0.8664   2100456\n",
      "weighted avg     0.8761    0.8604    0.8628   2100456\n",
      "\n"
     ]
    }
   ],
   "source": [
    "knn = KNeighborsClassifier(n_neighbors=60)\n",
    "norm_y_out = cross_val_predict(knn, norm_x, norm_y, cv=10)\n",
    "lm=(classification_report(norm_y, norm_y_out, digits=4))\n",
    "print(lm)"
   ]
  },
  {
   "cell_type": "markdown",
   "metadata": {},
   "source": [
    "# KNN + Cross Validation [ CV = 10, K = 100 ]"
   ]
  },
  {
   "cell_type": "code",
   "execution_count": 43,
   "metadata": {},
   "outputs": [
    {
     "name": "stdout",
     "output_type": "stream",
     "text": [
      "              precision    recall  f1-score   support\n",
      "\n",
      "         0.0     0.9407    0.8172    0.8746   1230433\n",
      "         1.0     0.9775    0.8741    0.9229     53659\n",
      "         2.0     0.6977    0.9214    0.7941    316935\n",
      "         3.0     0.7461    0.8951    0.8139    239191\n",
      "         4.0     0.9049    0.9666    0.9347    260238\n",
      "\n",
      "    accuracy                         0.8618   2100456\n",
      "   macro avg     0.8534    0.8949    0.8680   2100456\n",
      "weighted avg     0.8784    0.8618    0.8642   2100456\n",
      "\n"
     ]
    }
   ],
   "source": [
    "knn = KNeighborsClassifier(n_neighbors=100)\n",
    "norm_y_out = cross_val_predict(knn, norm_x, norm_y, cv=10)\n",
    "lm=(classification_report(norm_y, norm_y_out, digits=4))\n",
    "print(lm)"
   ]
  },
  {
   "cell_type": "markdown",
   "metadata": {},
   "source": [
    "# Simple Decision Tree + Depth = 5"
   ]
  },
  {
   "cell_type": "code",
   "execution_count": 44,
   "metadata": {},
   "outputs": [
    {
     "name": "stdout",
     "output_type": "stream",
     "text": [
      "              precision    recall  f1-score   support\n",
      "\n",
      "         0.0     0.9636    0.9291    0.9460    246315\n",
      "         1.0     0.9990    0.9586    0.9784     10566\n",
      "         2.0     0.8733    0.9946    0.9300     63658\n",
      "         3.0     0.8440    0.8725    0.8580     47543\n",
      "         4.0     0.9870    0.9646    0.9757     52010\n",
      "\n",
      "    accuracy                         0.9377    420092\n",
      "   macro avg     0.9334    0.9439    0.9376    420092\n",
      "weighted avg     0.9402    0.9377    0.9381    420092\n",
      "\n"
     ]
    }
   ],
   "source": [
    "\n",
    "clf = DecisionTreeClassifier(criterion=\"entropy\", max_depth=5)\n",
    "\n",
    "clf_i = clf.fit(x_train,y_train)\n",
    "\n",
    "y_out_i = clf_i.predict(x_test)\n",
    "\n",
    "lm_i=(classification_report(y_test, y_out_i, digits=4))\n",
    "print(lm_i)\n",
    "\n",
    " "
   ]
  },
  {
   "cell_type": "markdown",
   "metadata": {},
   "source": [
    "# Displaying and Drwaing the Tree"
   ]
  },
  {
   "cell_type": "code",
   "execution_count": 45,
   "metadata": {},
   "outputs": [
    {
     "data": {
      "text/plain": [
       "[Text(0.47767857142857145, 0.9166666666666666, 'x[2] <= -0.637\\nentropy = 1.73\\nsamples = 1680364\\nvalue = [984118.0, 43093.0, 253277.0, 191648.0, 208228.0]'),\n",
       " Text(0.24107142857142858, 0.75, 'x[5] <= 1.041\\nentropy = 1.002\\nsamples = 271427\\nvalue = [22457, 40742, 0, 0, 208228]'),\n",
       " Text(0.359375, 0.8333333333333333, 'True  '),\n",
       " Text(0.14285714285714285, 0.5833333333333334, 'x[6] <= 31.506\\nentropy = 0.435\\nsamples = 228674\\nvalue = [20439, 8, 0, 0, 208227]'),\n",
       " Text(0.07142857142857142, 0.4166666666666667, 'x[6] <= 31.307\\nentropy = 0.302\\nsamples = 219521\\nvalue = [11749, 8, 0, 0, 207764]'),\n",
       " Text(0.03571428571428571, 0.25, 'x[0] <= 0.571\\nentropy = 0.989\\nsamples = 23052\\nvalue = [9862, 8, 0, 0, 13182]'),\n",
       " Text(0.017857142857142856, 0.08333333333333333, 'entropy = 0.987\\nsamples = 16307\\nvalue = [9248, 0, 0, 0, 7059]'),\n",
       " Text(0.05357142857142857, 0.08333333333333333, 'entropy = 0.453\\nsamples = 6745\\nvalue = [614, 8, 0, 0, 6123]'),\n",
       " Text(0.10714285714285714, 0.25, 'x[1] <= -0.138\\nentropy = 0.078\\nsamples = 196469\\nvalue = [1887, 0, 0, 0, 194582]'),\n",
       " Text(0.08928571428571429, 0.08333333333333333, 'entropy = 0.49\\nsamples = 9791\\nvalue = [1045, 0, 0, 0, 8746]'),\n",
       " Text(0.125, 0.08333333333333333, 'entropy = 0.042\\nsamples = 186678\\nvalue = [842, 0, 0, 0, 185836]'),\n",
       " Text(0.21428571428571427, 0.4166666666666667, 'x[5] <= 0.93\\nentropy = 0.289\\nsamples = 9153\\nvalue = [8690, 0, 0, 0, 463]'),\n",
       " Text(0.17857142857142858, 0.25, 'x[6] <= 31.942\\nentropy = 0.92\\nsamples = 1020\\nvalue = [678, 0, 0, 0, 342]'),\n",
       " Text(0.16071428571428573, 0.08333333333333333, 'entropy = 0.795\\nsamples = 275\\nvalue = [66, 0, 0, 0, 209]'),\n",
       " Text(0.19642857142857142, 0.08333333333333333, 'entropy = 0.677\\nsamples = 745\\nvalue = [612, 0, 0, 0, 133]'),\n",
       " Text(0.25, 0.25, 'x[6] <= 31.519\\nentropy = 0.112\\nsamples = 8133\\nvalue = [8012, 0, 0, 0, 121]'),\n",
       " Text(0.23214285714285715, 0.08333333333333333, 'entropy = 0.551\\nsamples = 564\\nvalue = [492, 0, 0, 0, 72]'),\n",
       " Text(0.26785714285714285, 0.08333333333333333, 'entropy = 0.056\\nsamples = 7569\\nvalue = [7520, 0, 0, 0, 49]'),\n",
       " Text(0.3392857142857143, 0.5833333333333334, 'x[1] <= -0.162\\nentropy = 0.275\\nsamples = 42753\\nvalue = [2018, 40734, 0, 0, 1]'),\n",
       " Text(0.32142857142857145, 0.4166666666666667, 'entropy = 0.0\\nsamples = 1948\\nvalue = [1948, 0, 0, 0, 0]'),\n",
       " Text(0.35714285714285715, 0.4166666666666667, 'x[5] <= 1.055\\nentropy = 0.019\\nsamples = 40805\\nvalue = [70.0, 40734.0, 0.0, 0.0, 1.0]'),\n",
       " Text(0.32142857142857145, 0.25, 'x[6] <= 31.492\\nentropy = 0.845\\nsamples = 43\\nvalue = [34, 8, 0, 0, 1]'),\n",
       " Text(0.30357142857142855, 0.08333333333333333, 'entropy = 0.544\\nsamples = 8\\nvalue = [0, 7, 0, 0, 1]'),\n",
       " Text(0.3392857142857143, 0.08333333333333333, 'entropy = 0.187\\nsamples = 35\\nvalue = [34, 1, 0, 0, 0]'),\n",
       " Text(0.39285714285714285, 0.25, 'x[5] <= 1.276\\nentropy = 0.01\\nsamples = 40762\\nvalue = [36, 40726, 0, 0, 0]'),\n",
       " Text(0.375, 0.08333333333333333, 'entropy = 0.0\\nsamples = 40582\\nvalue = [0, 40582, 0, 0, 0]'),\n",
       " Text(0.4107142857142857, 0.08333333333333333, 'entropy = 0.722\\nsamples = 180\\nvalue = [36, 144, 0, 0, 0]'),\n",
       " Text(0.7142857142857143, 0.75, 'x[5] <= 1.159\\nentropy = 1.228\\nsamples = 1408937\\nvalue = [961661, 2351, 253277, 191648, 0]'),\n",
       " Text(0.5959821428571429, 0.8333333333333333, '  False'),\n",
       " Text(0.5714285714285714, 0.5833333333333334, 'x[1] <= -0.136\\nentropy = 0.816\\nsamples = 813268\\nvalue = [619287, 2260, 73, 191648, 0]'),\n",
       " Text(0.5, 0.4166666666666667, 'x[2] <= -0.192\\nentropy = 1.026\\nsamples = 362611\\nvalue = [174550.0, 1087.0, 6.0, 186968.0, 0.0]'),\n",
       " Text(0.4642857142857143, 0.25, 'x[6] <= 32.222\\nentropy = 0.126\\nsamples = 114769\\nvalue = [113061, 562, 6, 1140, 0]'),\n",
       " Text(0.44642857142857145, 0.08333333333333333, 'entropy = 0.039\\nsamples = 109872\\nvalue = [109418.0, 448.0, 6.0, 0.0, 0.0]'),\n",
       " Text(0.48214285714285715, 0.08333333333333333, 'entropy = 0.933\\nsamples = 4897\\nvalue = [3643, 114, 0, 1140, 0]'),\n",
       " Text(0.5357142857142857, 0.25, 'x[6] <= 31.828\\nentropy = 0.829\\nsamples = 247842\\nvalue = [61489, 525, 0, 185828, 0]'),\n",
       " Text(0.5178571428571429, 0.08333333333333333, 'entropy = 1.01\\nsamples = 50398\\nvalue = [31143, 355, 0, 18900, 0]'),\n",
       " Text(0.5535714285714286, 0.08333333333333333, 'entropy = 0.629\\nsamples = 197444\\nvalue = [30346.0, 170.0, 0.0, 166928.0, 0.0]'),\n",
       " Text(0.6428571428571429, 0.4166666666666667, 'x[6] <= 32.043\\nentropy = 0.111\\nsamples = 450657\\nvalue = [444737, 1173, 67, 4680, 0]'),\n",
       " Text(0.6071428571428571, 0.25, 'x[6] <= 30.118\\nentropy = 0.042\\nsamples = 362456\\nvalue = [360993, 1074, 67, 322, 0]'),\n",
       " Text(0.5892857142857143, 0.08333333333333333, 'entropy = 0.0\\nsamples = 503\\nvalue = [0, 503, 0, 0, 0]'),\n",
       " Text(0.625, 0.08333333333333333, 'entropy = 0.03\\nsamples = 361953\\nvalue = [360993, 571, 67, 322, 0]'),\n",
       " Text(0.6785714285714286, 0.25, 'x[5] <= 0.638\\nentropy = 0.296\\nsamples = 88201\\nvalue = [83744, 99, 0, 4358, 0]'),\n",
       " Text(0.6607142857142857, 0.08333333333333333, 'entropy = 0.006\\nsamples = 48525\\nvalue = [48500, 0, 0, 25, 0]'),\n",
       " Text(0.6964285714285714, 0.08333333333333333, 'entropy = 0.522\\nsamples = 39676\\nvalue = [35244, 99, 0, 4333, 0]'),\n",
       " Text(0.8571428571428571, 0.5833333333333334, 'x[2] <= -0.322\\nentropy = 0.986\\nsamples = 595669\\nvalue = [342374.0, 91.0, 253204.0, 0.0, 0.0]'),\n",
       " Text(0.7857142857142857, 0.4166666666666667, 'x[2] <= -0.341\\nentropy = 0.218\\nsamples = 246829\\nvalue = [238284, 14, 8531, 0, 0]'),\n",
       " Text(0.75, 0.25, 'x[5] <= 1.951\\nentropy = 0.068\\nsamples = 207432\\nvalue = [205764, 14, 1654, 0, 0]'),\n",
       " Text(0.7321428571428571, 0.08333333333333333, 'entropy = 0.05\\nsamples = 206489\\nvalue = [205349.0, 14.0, 1126.0, 0.0, 0.0]'),\n",
       " Text(0.7678571428571429, 0.08333333333333333, 'entropy = 0.99\\nsamples = 943\\nvalue = [415, 0, 528, 0, 0]'),\n",
       " Text(0.8214285714285714, 0.25, 'x[6] <= 31.022\\nentropy = 0.668\\nsamples = 39397\\nvalue = [32520, 0, 6877, 0, 0]'),\n",
       " Text(0.8035714285714286, 0.08333333333333333, 'entropy = 0.001\\nsamples = 31064\\nvalue = [31062, 0, 2, 0, 0]'),\n",
       " Text(0.8392857142857143, 0.08333333333333333, 'entropy = 0.669\\nsamples = 8333\\nvalue = [1458, 0, 6875, 0, 0]'),\n",
       " Text(0.9285714285714286, 0.4166666666666667, 'x[6] <= 31.019\\nentropy = 0.882\\nsamples = 348840\\nvalue = [104090.0, 77.0, 244673.0, 0.0, 0.0]'),\n",
       " Text(0.8928571428571429, 0.25, 'x[6] <= 31.006\\nentropy = 0.029\\nsamples = 69309\\nvalue = [69107, 4, 198, 0, 0]'),\n",
       " Text(0.875, 0.08333333333333333, 'entropy = 0.002\\nsamples = 67223\\nvalue = [67215, 4, 4, 0, 0]'),\n",
       " Text(0.9107142857142857, 0.08333333333333333, 'entropy = 0.446\\nsamples = 2086\\nvalue = [1892, 0, 194, 0, 0]'),\n",
       " Text(0.9642857142857143, 0.25, 'x[5] <= 1.386\\nentropy = 0.547\\nsamples = 279531\\nvalue = [34983, 73, 244475, 0, 0]'),\n",
       " Text(0.9464285714285714, 0.08333333333333333, 'entropy = 0.844\\nsamples = 119465\\nvalue = [31852, 73, 87540, 0, 0]'),\n",
       " Text(0.9821428571428571, 0.08333333333333333, 'entropy = 0.139\\nsamples = 160066\\nvalue = [3131, 0, 156935, 0, 0]')]"
      ]
     },
     "execution_count": 45,
     "metadata": {},
     "output_type": "execute_result"
    },
    {
     "data": {
      "image/png": "[encoded data removed]",
      "text/plain": [
       "<Figure size 640x480 with 1 Axes>"
      ]
     },
     "metadata": {},
     "output_type": "display_data"
    }
   ],
   "source": [
    "tree.plot_tree(clf_i) "
   ]
  },
  {
   "cell_type": "code",
   "execution_count": 46,
   "metadata": {
    "scrolled": true
   },
   "outputs": [
    {
     "ename": "ExecutableNotFound",
     "evalue": "failed to execute WindowsPath('dot'), make sure the Graphviz executables are on your systems' PATH",
     "output_type": "error",
     "traceback": [
      "\u001b[1;31m---------------------------------------------------------------------------\u001b[0m",
      "\u001b[1;31mFileNotFoundError\u001b[0m                         Traceback (most recent call last)",
      "File \u001b[1;32m~\\AppData\\Local\\Packages\\PythonSoftwareFoundation.Python.3.11_qbz5n2kfra8p0\\LocalCache\\local-packages\\Python311\\site-packages\\graphviz\\backend\\execute.py:78\u001b[0m, in \u001b[0;36mrun_check\u001b[1;34m(cmd, input_lines, encoding, quiet, **kwargs)\u001b[0m\n\u001b[0;32m     77\u001b[0m     \u001b[38;5;28;01melse\u001b[39;00m:\n\u001b[1;32m---> 78\u001b[0m         proc \u001b[38;5;241m=\u001b[39m \u001b[43msubprocess\u001b[49m\u001b[38;5;241;43m.\u001b[39;49m\u001b[43mrun\u001b[49m\u001b[43m(\u001b[49m\u001b[43mcmd\u001b[49m\u001b[43m,\u001b[49m\u001b[43m \u001b[49m\u001b[38;5;241;43m*\u001b[39;49m\u001b[38;5;241;43m*\u001b[39;49m\u001b[43mkwargs\u001b[49m\u001b[43m)\u001b[49m\n\u001b[0;32m     79\u001b[0m \u001b[38;5;28;01mexcept\u001b[39;00m \u001b[38;5;167;01mOSError\u001b[39;00m \u001b[38;5;28;01mas\u001b[39;00m e:\n",
      "File \u001b[1;32mC:\\Program Files\\WindowsApps\\PythonSoftwareFoundation.Python.3.11_3.11.2544.0_x64__qbz5n2kfra8p0\\Lib\\subprocess.py:548\u001b[0m, in \u001b[0;36mrun\u001b[1;34m(input, capture_output, timeout, check, *popenargs, **kwargs)\u001b[0m\n\u001b[0;32m    546\u001b[0m     kwargs[\u001b[38;5;124m'\u001b[39m\u001b[38;5;124mstderr\u001b[39m\u001b[38;5;124m'\u001b[39m] \u001b[38;5;241m=\u001b[39m PIPE\n\u001b[1;32m--> 548\u001b[0m \u001b[38;5;28;01mwith\u001b[39;00m \u001b[43mPopen\u001b[49m\u001b[43m(\u001b[49m\u001b[38;5;241;43m*\u001b[39;49m\u001b[43mpopenargs\u001b[49m\u001b[43m,\u001b[49m\u001b[43m \u001b[49m\u001b[38;5;241;43m*\u001b[39;49m\u001b[38;5;241;43m*\u001b[39;49m\u001b[43mkwargs\u001b[49m\u001b[43m)\u001b[49m \u001b[38;5;28;01mas\u001b[39;00m process:\n\u001b[0;32m    549\u001b[0m     \u001b[38;5;28;01mtry\u001b[39;00m:\n",
      "File \u001b[1;32mC:\\Program Files\\WindowsApps\\PythonSoftwareFoundation.Python.3.11_3.11.2544.0_x64__qbz5n2kfra8p0\\Lib\\subprocess.py:1026\u001b[0m, in \u001b[0;36mPopen.__init__\u001b[1;34m(self, args, bufsize, executable, stdin, stdout, stderr, preexec_fn, close_fds, shell, cwd, env, universal_newlines, startupinfo, creationflags, restore_signals, start_new_session, pass_fds, user, group, extra_groups, encoding, errors, text, umask, pipesize, process_group)\u001b[0m\n\u001b[0;32m   1023\u001b[0m             \u001b[38;5;28mself\u001b[39m\u001b[38;5;241m.\u001b[39mstderr \u001b[38;5;241m=\u001b[39m io\u001b[38;5;241m.\u001b[39mTextIOWrapper(\u001b[38;5;28mself\u001b[39m\u001b[38;5;241m.\u001b[39mstderr,\n\u001b[0;32m   1024\u001b[0m                     encoding\u001b[38;5;241m=\u001b[39mencoding, errors\u001b[38;5;241m=\u001b[39merrors)\n\u001b[1;32m-> 1026\u001b[0m     \u001b[38;5;28;43mself\u001b[39;49m\u001b[38;5;241;43m.\u001b[39;49m\u001b[43m_execute_child\u001b[49m\u001b[43m(\u001b[49m\u001b[43margs\u001b[49m\u001b[43m,\u001b[49m\u001b[43m \u001b[49m\u001b[43mexecutable\u001b[49m\u001b[43m,\u001b[49m\u001b[43m \u001b[49m\u001b[43mpreexec_fn\u001b[49m\u001b[43m,\u001b[49m\u001b[43m \u001b[49m\u001b[43mclose_fds\u001b[49m\u001b[43m,\u001b[49m\n\u001b[0;32m   1027\u001b[0m \u001b[43m                        \u001b[49m\u001b[43mpass_fds\u001b[49m\u001b[43m,\u001b[49m\u001b[43m \u001b[49m\u001b[43mcwd\u001b[49m\u001b[43m,\u001b[49m\u001b[43m \u001b[49m\u001b[43menv\u001b[49m\u001b[43m,\u001b[49m\n\u001b[0;32m   1028\u001b[0m \u001b[43m                        \u001b[49m\u001b[43mstartupinfo\u001b[49m\u001b[43m,\u001b[49m\u001b[43m \u001b[49m\u001b[43mcreationflags\u001b[49m\u001b[43m,\u001b[49m\u001b[43m \u001b[49m\u001b[43mshell\u001b[49m\u001b[43m,\u001b[49m\n\u001b[0;32m   1029\u001b[0m \u001b[43m                        \u001b[49m\u001b[43mp2cread\u001b[49m\u001b[43m,\u001b[49m\u001b[43m \u001b[49m\u001b[43mp2cwrite\u001b[49m\u001b[43m,\u001b[49m\n\u001b[0;32m   1030\u001b[0m \u001b[43m                        \u001b[49m\u001b[43mc2pread\u001b[49m\u001b[43m,\u001b[49m\u001b[43m \u001b[49m\u001b[43mc2pwrite\u001b[49m\u001b[43m,\u001b[49m\n\u001b[0;32m   1031\u001b[0m \u001b[43m                        \u001b[49m\u001b[43merrread\u001b[49m\u001b[43m,\u001b[49m\u001b[43m \u001b[49m\u001b[43merrwrite\u001b[49m\u001b[43m,\u001b[49m\n\u001b[0;32m   1032\u001b[0m \u001b[43m                        \u001b[49m\u001b[43mrestore_signals\u001b[49m\u001b[43m,\u001b[49m\n\u001b[0;32m   1033\u001b[0m \u001b[43m                        \u001b[49m\u001b[43mgid\u001b[49m\u001b[43m,\u001b[49m\u001b[43m \u001b[49m\u001b[43mgids\u001b[49m\u001b[43m,\u001b[49m\u001b[43m \u001b[49m\u001b[43muid\u001b[49m\u001b[43m,\u001b[49m\u001b[43m \u001b[49m\u001b[43mumask\u001b[49m\u001b[43m,\u001b[49m\n\u001b[0;32m   1034\u001b[0m \u001b[43m                        \u001b[49m\u001b[43mstart_new_session\u001b[49m\u001b[43m,\u001b[49m\u001b[43m \u001b[49m\u001b[43mprocess_group\u001b[49m\u001b[43m)\u001b[49m\n\u001b[0;32m   1035\u001b[0m \u001b[38;5;28;01mexcept\u001b[39;00m:\n\u001b[0;32m   1036\u001b[0m     \u001b[38;5;66;03m# Cleanup if the child failed starting.\u001b[39;00m\n",
      "File \u001b[1;32mC:\\Program Files\\WindowsApps\\PythonSoftwareFoundation.Python.3.11_3.11.2544.0_x64__qbz5n2kfra8p0\\Lib\\subprocess.py:1538\u001b[0m, in \u001b[0;36mPopen._execute_child\u001b[1;34m(self, args, executable, preexec_fn, close_fds, pass_fds, cwd, env, startupinfo, creationflags, shell, p2cread, p2cwrite, c2pread, c2pwrite, errread, errwrite, unused_restore_signals, unused_gid, unused_gids, unused_uid, unused_umask, unused_start_new_session, unused_process_group)\u001b[0m\n\u001b[0;32m   1537\u001b[0m \u001b[38;5;28;01mtry\u001b[39;00m:\n\u001b[1;32m-> 1538\u001b[0m     hp, ht, pid, tid \u001b[38;5;241m=\u001b[39m \u001b[43m_winapi\u001b[49m\u001b[38;5;241;43m.\u001b[39;49m\u001b[43mCreateProcess\u001b[49m\u001b[43m(\u001b[49m\u001b[43mexecutable\u001b[49m\u001b[43m,\u001b[49m\u001b[43m \u001b[49m\u001b[43margs\u001b[49m\u001b[43m,\u001b[49m\n\u001b[0;32m   1539\u001b[0m \u001b[43m                             \u001b[49m\u001b[38;5;66;43;03m# no special security\u001b[39;49;00m\n\u001b[0;32m   1540\u001b[0m \u001b[43m                             \u001b[49m\u001b[38;5;28;43;01mNone\u001b[39;49;00m\u001b[43m,\u001b[49m\u001b[43m \u001b[49m\u001b[38;5;28;43;01mNone\u001b[39;49;00m\u001b[43m,\u001b[49m\n\u001b[0;32m   1541\u001b[0m \u001b[43m                             \u001b[49m\u001b[38;5;28;43mint\u001b[39;49m\u001b[43m(\u001b[49m\u001b[38;5;129;43;01mnot\u001b[39;49;00m\u001b[43m \u001b[49m\u001b[43mclose_fds\u001b[49m\u001b[43m)\u001b[49m\u001b[43m,\u001b[49m\n\u001b[0;32m   1542\u001b[0m \u001b[43m                             \u001b[49m\u001b[43mcreationflags\u001b[49m\u001b[43m,\u001b[49m\n\u001b[0;32m   1543\u001b[0m \u001b[43m                             \u001b[49m\u001b[43menv\u001b[49m\u001b[43m,\u001b[49m\n\u001b[0;32m   1544\u001b[0m \u001b[43m                             \u001b[49m\u001b[43mcwd\u001b[49m\u001b[43m,\u001b[49m\n\u001b[0;32m   1545\u001b[0m \u001b[43m                             \u001b[49m\u001b[43mstartupinfo\u001b[49m\u001b[43m)\u001b[49m\n\u001b[0;32m   1546\u001b[0m \u001b[38;5;28;01mfinally\u001b[39;00m:\n\u001b[0;32m   1547\u001b[0m     \u001b[38;5;66;03m# Child is launched. Close the parent's copy of those pipe\u001b[39;00m\n\u001b[0;32m   1548\u001b[0m     \u001b[38;5;66;03m# handles that only the child should have open.  You need\u001b[39;00m\n\u001b[1;32m   (...)\u001b[0m\n\u001b[0;32m   1551\u001b[0m     \u001b[38;5;66;03m# pipe will not close when the child process exits and the\u001b[39;00m\n\u001b[0;32m   1552\u001b[0m     \u001b[38;5;66;03m# ReadFile will hang.\u001b[39;00m\n",
      "\u001b[1;31mFileNotFoundError\u001b[0m: [WinError 2] The system cannot find the file specified",
      "\nThe above exception was the direct cause of the following exception:\n",
      "\u001b[1;31mExecutableNotFound\u001b[0m                        Traceback (most recent call last)",
      "Cell \u001b[1;32mIn[46], line 13\u001b[0m\n\u001b[0;32m      7\u001b[0m dot_data \u001b[38;5;241m=\u001b[39m tree\u001b[38;5;241m.\u001b[39mexport_graphviz(clf_i, out_file\u001b[38;5;241m=\u001b[39m\u001b[38;5;28;01mNone\u001b[39;00m, \n\u001b[0;32m      8\u001b[0m                       feature_names\u001b[38;5;241m=\u001b[39mfeatures_ax,  \n\u001b[0;32m      9\u001b[0m                       class_names\u001b[38;5;241m=\u001b[39mclasses_ay,  \n\u001b[0;32m     10\u001b[0m                       filled\u001b[38;5;241m=\u001b[39m\u001b[38;5;28;01mTrue\u001b[39;00m, rounded\u001b[38;5;241m=\u001b[39m\u001b[38;5;28;01mTrue\u001b[39;00m,  \n\u001b[0;32m     11\u001b[0m                       special_characters\u001b[38;5;241m=\u001b[39m\u001b[38;5;28;01mTrue\u001b[39;00m)  \n\u001b[0;32m     12\u001b[0m graph \u001b[38;5;241m=\u001b[39m graphviz\u001b[38;5;241m.\u001b[39mSource(dot_data)  \n\u001b[1;32m---> 13\u001b[0m \u001b[43mgraph\u001b[49m\u001b[38;5;241;43m.\u001b[39;49m\u001b[43mrender\u001b[49m\u001b[43m(\u001b[49m\u001b[38;5;124;43m\"\u001b[39;49m\u001b[38;5;124;43mDecision_tree\u001b[39;49m\u001b[38;5;124;43m\"\u001b[39;49m\u001b[43m)\u001b[49m\n\u001b[0;32m     14\u001b[0m graph \n",
      "File \u001b[1;32m~\\AppData\\Local\\Packages\\PythonSoftwareFoundation.Python.3.11_qbz5n2kfra8p0\\LocalCache\\local-packages\\Python311\\site-packages\\graphviz\\_tools.py:171\u001b[0m, in \u001b[0;36mdeprecate_positional_args.<locals>.decorator.<locals>.wrapper\u001b[1;34m(*args, **kwargs)\u001b[0m\n\u001b[0;32m    162\u001b[0m     wanted \u001b[38;5;241m=\u001b[39m \u001b[38;5;124m'\u001b[39m\u001b[38;5;124m, \u001b[39m\u001b[38;5;124m'\u001b[39m\u001b[38;5;241m.\u001b[39mjoin(\u001b[38;5;124mf\u001b[39m\u001b[38;5;124m'\u001b[39m\u001b[38;5;132;01m{\u001b[39;00mname\u001b[38;5;132;01m}\u001b[39;00m\u001b[38;5;124m=\u001b[39m\u001b[38;5;132;01m{\u001b[39;00mvalue\u001b[38;5;132;01m!r}\u001b[39;00m\u001b[38;5;124m'\u001b[39m\n\u001b[0;32m    163\u001b[0m                        \u001b[38;5;28;01mfor\u001b[39;00m name, value \u001b[38;5;129;01min\u001b[39;00m deprecated\u001b[38;5;241m.\u001b[39mitems())\n\u001b[0;32m    164\u001b[0m     warnings\u001b[38;5;241m.\u001b[39mwarn(\u001b[38;5;124mf\u001b[39m\u001b[38;5;124m'\u001b[39m\u001b[38;5;124mThe signature of \u001b[39m\u001b[38;5;132;01m{\u001b[39;00mfunc\u001b[38;5;241m.\u001b[39m\u001b[38;5;18m__name__\u001b[39m\u001b[38;5;132;01m}\u001b[39;00m\u001b[38;5;124m will be reduced\u001b[39m\u001b[38;5;124m'\u001b[39m\n\u001b[0;32m    165\u001b[0m                   \u001b[38;5;124mf\u001b[39m\u001b[38;5;124m'\u001b[39m\u001b[38;5;124m to \u001b[39m\u001b[38;5;132;01m{\u001b[39;00msupported_number\u001b[38;5;132;01m}\u001b[39;00m\u001b[38;5;124m positional args\u001b[39m\u001b[38;5;124m'\u001b[39m\n\u001b[0;32m    166\u001b[0m                   \u001b[38;5;124mf\u001b[39m\u001b[38;5;124m'\u001b[39m\u001b[38;5;124m \u001b[39m\u001b[38;5;132;01m{\u001b[39;00m\u001b[38;5;28mlist\u001b[39m(supported)\u001b[38;5;132;01m}\u001b[39;00m\u001b[38;5;124m: pass \u001b[39m\u001b[38;5;132;01m{\u001b[39;00mwanted\u001b[38;5;132;01m}\u001b[39;00m\u001b[38;5;124m'\u001b[39m\n\u001b[0;32m    167\u001b[0m                   \u001b[38;5;124m'\u001b[39m\u001b[38;5;124m as keyword arg(s)\u001b[39m\u001b[38;5;124m'\u001b[39m,\n\u001b[0;32m    168\u001b[0m                   stacklevel\u001b[38;5;241m=\u001b[39mstacklevel,\n\u001b[0;32m    169\u001b[0m                   category\u001b[38;5;241m=\u001b[39mcategory)\n\u001b[1;32m--> 171\u001b[0m \u001b[38;5;28;01mreturn\u001b[39;00m \u001b[43mfunc\u001b[49m\u001b[43m(\u001b[49m\u001b[38;5;241;43m*\u001b[39;49m\u001b[43margs\u001b[49m\u001b[43m,\u001b[49m\u001b[43m \u001b[49m\u001b[38;5;241;43m*\u001b[39;49m\u001b[38;5;241;43m*\u001b[39;49m\u001b[43mkwargs\u001b[49m\u001b[43m)\u001b[49m\n",
      "File \u001b[1;32m~\\AppData\\Local\\Packages\\PythonSoftwareFoundation.Python.3.11_qbz5n2kfra8p0\\LocalCache\\local-packages\\Python311\\site-packages\\graphviz\\rendering.py:122\u001b[0m, in \u001b[0;36mRender.render\u001b[1;34m(self, filename, directory, view, cleanup, format, renderer, formatter, neato_no_op, quiet, quiet_view, outfile, engine, raise_if_result_exists, overwrite_source)\u001b[0m\n\u001b[0;32m    118\u001b[0m filepath \u001b[38;5;241m=\u001b[39m \u001b[38;5;28mself\u001b[39m\u001b[38;5;241m.\u001b[39msave(filename, directory\u001b[38;5;241m=\u001b[39mdirectory, skip_existing\u001b[38;5;241m=\u001b[39m\u001b[38;5;28;01mNone\u001b[39;00m)\n\u001b[0;32m    120\u001b[0m args\u001b[38;5;241m.\u001b[39mappend(filepath)\n\u001b[1;32m--> 122\u001b[0m rendered \u001b[38;5;241m=\u001b[39m \u001b[38;5;28;43mself\u001b[39;49m\u001b[38;5;241;43m.\u001b[39;49m\u001b[43m_render\u001b[49m\u001b[43m(\u001b[49m\u001b[38;5;241;43m*\u001b[39;49m\u001b[43margs\u001b[49m\u001b[43m,\u001b[49m\u001b[43m \u001b[49m\u001b[38;5;241;43m*\u001b[39;49m\u001b[38;5;241;43m*\u001b[39;49m\u001b[43mkwargs\u001b[49m\u001b[43m)\u001b[49m\n\u001b[0;32m    124\u001b[0m \u001b[38;5;28;01mif\u001b[39;00m cleanup:\n\u001b[0;32m    125\u001b[0m     log\u001b[38;5;241m.\u001b[39mdebug(\u001b[38;5;124m'\u001b[39m\u001b[38;5;124mdelete \u001b[39m\u001b[38;5;132;01m%r\u001b[39;00m\u001b[38;5;124m'\u001b[39m, filepath)\n",
      "File \u001b[1;32m~\\AppData\\Local\\Packages\\PythonSoftwareFoundation.Python.3.11_qbz5n2kfra8p0\\LocalCache\\local-packages\\Python311\\site-packages\\graphviz\\_tools.py:171\u001b[0m, in \u001b[0;36mdeprecate_positional_args.<locals>.decorator.<locals>.wrapper\u001b[1;34m(*args, **kwargs)\u001b[0m\n\u001b[0;32m    162\u001b[0m     wanted \u001b[38;5;241m=\u001b[39m \u001b[38;5;124m'\u001b[39m\u001b[38;5;124m, \u001b[39m\u001b[38;5;124m'\u001b[39m\u001b[38;5;241m.\u001b[39mjoin(\u001b[38;5;124mf\u001b[39m\u001b[38;5;124m'\u001b[39m\u001b[38;5;132;01m{\u001b[39;00mname\u001b[38;5;132;01m}\u001b[39;00m\u001b[38;5;124m=\u001b[39m\u001b[38;5;132;01m{\u001b[39;00mvalue\u001b[38;5;132;01m!r}\u001b[39;00m\u001b[38;5;124m'\u001b[39m\n\u001b[0;32m    163\u001b[0m                        \u001b[38;5;28;01mfor\u001b[39;00m name, value \u001b[38;5;129;01min\u001b[39;00m deprecated\u001b[38;5;241m.\u001b[39mitems())\n\u001b[0;32m    164\u001b[0m     warnings\u001b[38;5;241m.\u001b[39mwarn(\u001b[38;5;124mf\u001b[39m\u001b[38;5;124m'\u001b[39m\u001b[38;5;124mThe signature of \u001b[39m\u001b[38;5;132;01m{\u001b[39;00mfunc\u001b[38;5;241m.\u001b[39m\u001b[38;5;18m__name__\u001b[39m\u001b[38;5;132;01m}\u001b[39;00m\u001b[38;5;124m will be reduced\u001b[39m\u001b[38;5;124m'\u001b[39m\n\u001b[0;32m    165\u001b[0m                   \u001b[38;5;124mf\u001b[39m\u001b[38;5;124m'\u001b[39m\u001b[38;5;124m to \u001b[39m\u001b[38;5;132;01m{\u001b[39;00msupported_number\u001b[38;5;132;01m}\u001b[39;00m\u001b[38;5;124m positional args\u001b[39m\u001b[38;5;124m'\u001b[39m\n\u001b[0;32m    166\u001b[0m                   \u001b[38;5;124mf\u001b[39m\u001b[38;5;124m'\u001b[39m\u001b[38;5;124m \u001b[39m\u001b[38;5;132;01m{\u001b[39;00m\u001b[38;5;28mlist\u001b[39m(supported)\u001b[38;5;132;01m}\u001b[39;00m\u001b[38;5;124m: pass \u001b[39m\u001b[38;5;132;01m{\u001b[39;00mwanted\u001b[38;5;132;01m}\u001b[39;00m\u001b[38;5;124m'\u001b[39m\n\u001b[0;32m    167\u001b[0m                   \u001b[38;5;124m'\u001b[39m\u001b[38;5;124m as keyword arg(s)\u001b[39m\u001b[38;5;124m'\u001b[39m,\n\u001b[0;32m    168\u001b[0m                   stacklevel\u001b[38;5;241m=\u001b[39mstacklevel,\n\u001b[0;32m    169\u001b[0m                   category\u001b[38;5;241m=\u001b[39mcategory)\n\u001b[1;32m--> 171\u001b[0m \u001b[38;5;28;01mreturn\u001b[39;00m \u001b[43mfunc\u001b[49m\u001b[43m(\u001b[49m\u001b[38;5;241;43m*\u001b[39;49m\u001b[43margs\u001b[49m\u001b[43m,\u001b[49m\u001b[43m \u001b[49m\u001b[38;5;241;43m*\u001b[39;49m\u001b[38;5;241;43m*\u001b[39;49m\u001b[43mkwargs\u001b[49m\u001b[43m)\u001b[49m\n",
      "File \u001b[1;32m~\\AppData\\Local\\Packages\\PythonSoftwareFoundation.Python.3.11_qbz5n2kfra8p0\\LocalCache\\local-packages\\Python311\\site-packages\\graphviz\\backend\\rendering.py:326\u001b[0m, in \u001b[0;36mrender\u001b[1;34m(engine, format, filepath, renderer, formatter, neato_no_op, quiet, outfile, raise_if_result_exists, overwrite_filepath)\u001b[0m\n\u001b[0;32m    322\u001b[0m cmd \u001b[38;5;241m+\u001b[39m\u001b[38;5;241m=\u001b[39m args\n\u001b[0;32m    324\u001b[0m \u001b[38;5;28;01massert\u001b[39;00m filepath \u001b[38;5;129;01mis\u001b[39;00m \u001b[38;5;129;01mnot\u001b[39;00m \u001b[38;5;28;01mNone\u001b[39;00m, \u001b[38;5;124m'\u001b[39m\u001b[38;5;124mwork around pytype false alarm\u001b[39m\u001b[38;5;124m'\u001b[39m\n\u001b[1;32m--> 326\u001b[0m \u001b[43mexecute\u001b[49m\u001b[38;5;241;43m.\u001b[39;49m\u001b[43mrun_check\u001b[49m\u001b[43m(\u001b[49m\u001b[43mcmd\u001b[49m\u001b[43m,\u001b[49m\n\u001b[0;32m    327\u001b[0m \u001b[43m                  \u001b[49m\u001b[43mcwd\u001b[49m\u001b[38;5;241;43m=\u001b[39;49m\u001b[43mfilepath\u001b[49m\u001b[38;5;241;43m.\u001b[39;49m\u001b[43mparent\u001b[49m\u001b[43m \u001b[49m\u001b[38;5;28;43;01mif\u001b[39;49;00m\u001b[43m \u001b[49m\u001b[43mfilepath\u001b[49m\u001b[38;5;241;43m.\u001b[39;49m\u001b[43mparent\u001b[49m\u001b[38;5;241;43m.\u001b[39;49m\u001b[43mparts\u001b[49m\u001b[43m \u001b[49m\u001b[38;5;28;43;01melse\u001b[39;49;00m\u001b[43m \u001b[49m\u001b[38;5;28;43;01mNone\u001b[39;49;00m\u001b[43m,\u001b[49m\n\u001b[0;32m    328\u001b[0m \u001b[43m                  \u001b[49m\u001b[43mquiet\u001b[49m\u001b[38;5;241;43m=\u001b[39;49m\u001b[43mquiet\u001b[49m\u001b[43m,\u001b[49m\n\u001b[0;32m    329\u001b[0m \u001b[43m                  \u001b[49m\u001b[43mcapture_output\u001b[49m\u001b[38;5;241;43m=\u001b[39;49m\u001b[38;5;28;43;01mTrue\u001b[39;49;00m\u001b[43m)\u001b[49m\n\u001b[0;32m    331\u001b[0m \u001b[38;5;28;01mreturn\u001b[39;00m os\u001b[38;5;241m.\u001b[39mfspath(outfile)\n",
      "File \u001b[1;32m~\\AppData\\Local\\Packages\\PythonSoftwareFoundation.Python.3.11_qbz5n2kfra8p0\\LocalCache\\local-packages\\Python311\\site-packages\\graphviz\\backend\\execute.py:81\u001b[0m, in \u001b[0;36mrun_check\u001b[1;34m(cmd, input_lines, encoding, quiet, **kwargs)\u001b[0m\n\u001b[0;32m     79\u001b[0m \u001b[38;5;28;01mexcept\u001b[39;00m \u001b[38;5;167;01mOSError\u001b[39;00m \u001b[38;5;28;01mas\u001b[39;00m e:\n\u001b[0;32m     80\u001b[0m     \u001b[38;5;28;01mif\u001b[39;00m e\u001b[38;5;241m.\u001b[39merrno \u001b[38;5;241m==\u001b[39m errno\u001b[38;5;241m.\u001b[39mENOENT:\n\u001b[1;32m---> 81\u001b[0m         \u001b[38;5;28;01mraise\u001b[39;00m ExecutableNotFound(cmd) \u001b[38;5;28;01mfrom\u001b[39;00m\u001b[38;5;250m \u001b[39m\u001b[38;5;21;01me\u001b[39;00m\n\u001b[0;32m     82\u001b[0m     \u001b[38;5;28;01mraise\u001b[39;00m\n\u001b[0;32m     84\u001b[0m \u001b[38;5;28;01mif\u001b[39;00m \u001b[38;5;129;01mnot\u001b[39;00m quiet \u001b[38;5;129;01mand\u001b[39;00m proc\u001b[38;5;241m.\u001b[39mstderr:\n",
      "\u001b[1;31mExecutableNotFound\u001b[0m: failed to execute WindowsPath('dot'), make sure the Graphviz executables are on your systems' PATH"
     ]
    }
   ],
   "source": [
    "#from sklearn import tree\n",
    "#https://scikit-learn.org/stable/modules/tree.html\n",
    "\n",
    "features_ax=[\"c_ax\", \"c_ay\", \"c_az\",\"c_ecg\",\"c_emg\",\"c_eda\",\"c_temp\",\"c_resp\"]\n",
    "classes_ay=['0', '1', '2', '3', '4']\n",
    "\n",
    "dot_data = tree.export_graphviz(clf_i, out_file=None, \n",
    "                      feature_names=features_ax,  \n",
    "                      class_names=classes_ay,  \n",
    "                      filled=True, rounded=True,  \n",
    "                      special_characters=True)  \n",
    "graph = graphviz.Source(dot_data)  \n",
    "graph.render(\"Decision_tree\")\n",
    "graph \n"
   ]
  },
  {
   "cell_type": "markdown",
   "metadata": {},
   "source": [
    "# Simple Decision Tree + Depth = 5 + Cross Validation + Normalization"
   ]
  },
  {
   "cell_type": "code",
   "execution_count": 47,
   "metadata": {},
   "outputs": [
    {
     "name": "stdout",
     "output_type": "stream",
     "text": [
      "              precision    recall  f1-score   support\n",
      "\n",
      "         0.0     0.9361    0.8394    0.8851   1230433\n",
      "         1.0     0.8009    0.9360    0.8632     53659\n",
      "         2.0     0.8695    0.9808    0.9218    316935\n",
      "         3.0     0.6209    0.7785    0.6908    239191\n",
      "         4.0     0.9100    0.9685    0.9384    260238\n",
      "\n",
      "    accuracy                         0.8723   2100456\n",
      "   macro avg     0.8275    0.9007    0.8599   2100456\n",
      "weighted avg     0.8835    0.8723    0.8746   2100456\n",
      "\n"
     ]
    }
   ],
   "source": [
    "\n",
    "clf = DecisionTreeClassifier(criterion=\"entropy\", max_depth=5)\n",
    "\n",
    "\n",
    "norm_y_out = cross_val_predict(clf, norm_x, norm_y, cv=10)\n",
    "\n",
    "lm=(classification_report(norm_y, norm_y_out, digits=4))\n",
    "print(lm)\n"
   ]
  },
  {
   "cell_type": "markdown",
   "metadata": {},
   "source": [
    "# Simple Decision Tree + Depth = 7 + Normalization + Cross Validation"
   ]
  },
  {
   "cell_type": "code",
   "execution_count": 48,
   "metadata": {},
   "outputs": [
    {
     "name": "stdout",
     "output_type": "stream",
     "text": [
      "              precision    recall  f1-score   support\n",
      "\n",
      "         0.0     0.9182    0.8495    0.8825   1230433\n",
      "         1.0     0.8001    0.9444    0.8663     53659\n",
      "         2.0     0.8734    0.8884    0.8809    316935\n",
      "         3.0     0.6494    0.8274    0.7277    239191\n",
      "         4.0     0.9080    0.9478    0.9275    260238\n",
      "\n",
      "    accuracy                         0.8675   2100456\n",
      "   macro avg     0.8298    0.8915    0.8570   2100456\n",
      "weighted avg     0.8766    0.8675    0.8698   2100456\n",
      "\n"
     ]
    }
   ],
   "source": [
    "\n",
    "clf = DecisionTreeClassifier(criterion=\"entropy\", max_depth=7)\n",
    "\n",
    "norm_y_out = cross_val_predict(clf, norm_x, norm_y, cv=10)\n",
    "\n",
    "lm=(classification_report(norm_y, norm_y_out, digits=4))\n",
    "print(lm)\n"
   ]
  },
  {
   "cell_type": "markdown",
   "metadata": {},
   "source": [
    "# Simple Decision Tree + Normalization + Cross Validation\n",
    "\n",
    "## Criterion = Gini, Max_depth = 5, CV = 10"
   ]
  },
  {
   "cell_type": "code",
   "execution_count": 49,
   "metadata": {},
   "outputs": [
    {
     "name": "stdout",
     "output_type": "stream",
     "text": [
      "              precision    recall  f1-score   support\n",
      "\n",
      "         0.0     0.8866    0.8848    0.8857   1230433\n",
      "         1.0     0.9702    0.9373    0.9535     53659\n",
      "         2.0     0.8993    0.7566    0.8218    316935\n",
      "         3.0     0.6914    0.8289    0.7540    239191\n",
      "         4.0     0.9064    0.9306    0.9184    260238\n",
      "\n",
      "    accuracy                         0.8661   2100456\n",
      "   macro avg     0.8708    0.8677    0.8667   2100456\n",
      "weighted avg     0.8709    0.8661    0.8668   2100456\n",
      "\n"
     ]
    }
   ],
   "source": [
    "\n",
    "clf = DecisionTreeClassifier(criterion=\"gini\", max_depth=5)\n",
    "\n",
    "norm_y_out = cross_val_predict(clf, norm_x, norm_y, cv=10)\n",
    "\n",
    "lm=(classification_report(norm_y, norm_y_out, digits=4))\n",
    "print(lm)\n"
   ]
  },
  {
   "cell_type": "markdown",
   "metadata": {},
   "source": [
    "# XGB Implementation \n",
    "\n",
    "## Normalization + max_depth = 10, alpha = 10, n_estimators = 50, gamma=10\n",
    "\n",
    "## colsample_bytree = 0.3, learning_rate = 0.1"
   ]
  },
  {
   "cell_type": "code",
   "execution_count": 50,
   "metadata": {},
   "outputs": [
    {
     "name": "stdout",
     "output_type": "stream",
     "text": [
      "              precision    recall  f1-score   support\n",
      "\n",
      "         0.0     0.9789    0.9837    0.9813    246315\n",
      "         1.0     0.9991    0.9496    0.9737     10566\n",
      "         2.0     0.9729    0.9529    0.9628     63658\n",
      "         3.0     0.9807    0.9767    0.9787     47543\n",
      "         4.0     0.9735    0.9889    0.9811     52010\n",
      "\n",
      "    accuracy                         0.9780    420092\n",
      "   macro avg     0.9810    0.9704    0.9755    420092\n",
      "weighted avg     0.9780    0.9780    0.9780    420092\n",
      "\n"
     ]
    }
   ],
   "source": [
    "#https://towardsdatascience.com/https-medium-com-vishalmorde-xgboost-algorithm-long-she-may-rein-edd9f99be63d\n",
    "#https://www.datacamp.com/community/tutorials/xgboost-in-python\n",
    "#https://medium.com/@gabrielziegler3/multiclass-multilabel-classification-with-xgboost-66195e4d9f2d\n",
    "\n",
    "xg_class = xgb.XGBClassifier(objective ='multi:softmax', colsample_bytree = 0.3, learning_rate = 0.1,\n",
    "                max_depth = 10, alpha = 10, n_estimators = 50, gamma=10)\n",
    "\n",
    "xg_class.fit(x_train,y_train)\n",
    "\n",
    "y_out = xg_class.predict(x_test)\n",
    "\n",
    "lm_xgb=(classification_report(y_test, y_out, digits=4))\n",
    "\n",
    "print(lm_xgb)\n"
   ]
  },
  {
   "cell_type": "code",
   "execution_count": 58,
   "metadata": {},
   "outputs": [
    {
     "name": "stdout",
     "output_type": "stream",
     "text": [
      "              precision    recall  f1-score   support\n",
      "\n",
      "         0.0     0.7111    0.6792    0.6948   1230433\n",
      "         1.0     0.2182    0.4056    0.2838     53659\n",
      "         2.0     0.2898    0.2914    0.2906    316935\n",
      "         3.0     0.2882    0.3154    0.3012    239191\n",
      "         4.0     0.2052    0.1932    0.1990    260238\n",
      "\n",
      "    accuracy                         0.5121   2100456\n",
      "   macro avg     0.3425    0.3770    0.3539   2100456\n",
      "weighted avg     0.5241    0.5121    0.5171   2100456\n",
      "\n"
     ]
    }
   ],
   "source": [
    "from sklearn.model_selection import StratifiedKFold\n",
    "from sklearn.metrics import classification_report\n",
    "\n",
    "skf = StratifiedKFold(n_splits=5)\n",
    "norm_y_out = []\n",
    "\n",
    "for train_index, test_index in skf.split(norm_x, norm_y):\n",
    "    # Use .iloc for pandas DataFrame/Series\n",
    "    x_train, x_test = norm_x.iloc[train_index], norm_x.iloc[test_index]\n",
    "    y_train, y_test = norm_y.iloc[train_index], norm_y.iloc[test_index]\n",
    "\n",
    "    # Fit and predict\n",
    "    xg_class.fit(x_train, y_train)\n",
    "    predictions = xg_class.predict(x_test)\n",
    "    norm_y_out.extend(predictions)\n",
    "\n",
    "# Generate classification report\n",
    "lm = classification_report(norm_y, norm_y_out, digits=4)\n",
    "print(lm)\n"
   ]
  },
  {
   "cell_type": "code",
   "execution_count": 60,
   "metadata": {},
   "outputs": [
    {
     "name": "stdout",
     "output_type": "stream",
     "text": [
      "              precision    recall  f1-score   support\n",
      "\n",
      "         0.0     0.8963    0.9350    0.9152   1230433\n",
      "         1.0     0.9161    0.9179    0.9170     53659\n",
      "         2.0     0.9014    0.8014    0.8485    316935\n",
      "         3.0     0.8703    0.7928    0.8297    239191\n",
      "         4.0     0.9264    0.9374    0.9319    260238\n",
      "\n",
      "    accuracy                         0.8985   2100456\n",
      "   macro avg     0.9021    0.8769    0.8885   2100456\n",
      "weighted avg     0.8983    0.8985    0.8975   2100456\n",
      "\n"
     ]
    }
   ],
   "source": [
    "from sklearn.model_selection import StratifiedKFold\n",
    "from sklearn.metrics import classification_report\n",
    "import numpy as np\n",
    "import xgboost as xgb\n",
    "\n",
    "# Define the XGBoost classifier\n",
    "xg_class = xgb.XGBClassifier(\n",
    "    objective='multi:softmax',\n",
    "    colsample_bytree=0.3,\n",
    "    learning_rate=0.1,\n",
    "    max_depth=10,\n",
    "    alpha=10,\n",
    "    n_estimators=50,\n",
    "    gamma=10\n",
    ")\n",
    "\n",
    "# Stratified K-Fold Cross-Validation\n",
    "skf = StratifiedKFold(n_splits=10)\n",
    "norm_y_out = np.zeros(len(norm_y), dtype=np.int32)\n",
    "\n",
    "for train_index, test_index in skf.split(norm_x, norm_y):\n",
    "    # Split data\n",
    "    x_train, x_test = norm_x.iloc[train_index], norm_x.iloc[test_index]\n",
    "    y_train, y_test = norm_y.iloc[train_index], norm_y.iloc[test_index]\n",
    "\n",
    "    # Fit the model and predict\n",
    "    xg_class.fit(x_train, y_train)\n",
    "    predictions = xg_class.predict(x_test)\n",
    "\n",
    "    # Store predictions in the correct indices\n",
    "    norm_y_out[test_index] = predictions\n",
    "\n",
    "# Generate the classification report\n",
    "lm = classification_report(norm_y, norm_y_out, digits=4)\n",
    "print(lm)"
   ]
  },
  {
   "cell_type": "markdown",
   "metadata": {},
   "source": [
    "# XGB Implementation \n",
    "\n",
    "## Normalization + max_depth = 5, alpha = 10, n_estimators = 20, gamma=20\n",
    "\n",
    "## colsample_bytree = 0.3, learning_rate = 0.9"
   ]
  },
  {
   "cell_type": "code",
   "execution_count": 61,
   "metadata": {},
   "outputs": [
    {
     "name": "stdout",
     "output_type": "stream",
     "text": [
      "              precision    recall  f1-score   support\n",
      "\n",
      "         0.0     0.9250    0.9142    0.9196   1230433\n",
      "         1.0     0.8109    0.9432    0.8720     53659\n",
      "         2.0     0.8926    0.8943    0.8934    316935\n",
      "         3.0     0.8104    0.8076    0.8090    239191\n",
      "         4.0     0.9185    0.9390    0.9286    260238\n",
      "\n",
      "    accuracy                         0.9029   2100456\n",
      "   macro avg     0.8715    0.8997    0.8845   2100456\n",
      "weighted avg     0.9034    0.9029    0.9030   2100456\n",
      "\n"
     ]
    }
   ],
   "source": [
    "from sklearn.model_selection import StratifiedKFold\n",
    "from sklearn.metrics import classification_report\n",
    "import numpy as np\n",
    "import xgboost as xgb\n",
    "\n",
    "# Define the XGBoost classifier with updated parameters\n",
    "xg_class = xgb.XGBClassifier(\n",
    "    objective='multi:softmax',\n",
    "    colsample_bytree=0.3,\n",
    "    learning_rate=0.9,\n",
    "    max_depth=5,\n",
    "    alpha=10,\n",
    "    n_estimators=20,\n",
    "    gamma=20\n",
    ")\n",
    "\n",
    "# Stratified K-Fold Cross-Validation\n",
    "skf = StratifiedKFold(n_splits=10)\n",
    "norm_y_out = np.zeros(len(norm_y), dtype=np.int32)\n",
    "\n",
    "for train_index, test_index in skf.split(norm_x, norm_y):\n",
    "    # Split data into training and testing sets\n",
    "    x_train, x_test = norm_x.iloc[train_index], norm_x.iloc[test_index]\n",
    "    y_train, y_test = norm_y.iloc[train_index], norm_y.iloc[test_index]\n",
    "\n",
    "    # Fit the model on the training data\n",
    "    xg_class.fit(x_train, y_train)\n",
    "\n",
    "    # Predict on the test data\n",
    "    predictions = xg_class.predict(x_test)\n",
    "\n",
    "    # Store the predictions in the appropriate indices\n",
    "    norm_y_out[test_index] = predictions\n",
    "\n",
    "# Generate the classification report\n",
    "lm = classification_report(norm_y, norm_y_out, digits=4)\n",
    "print(lm)"
   ]
  },
  {
   "cell_type": "code",
   "execution_count": 62,
   "metadata": {},
   "outputs": [
    {
     "name": "stdout",
     "output_type": "stream",
     "text": [
      "              precision    recall  f1-score   support\n",
      "\n",
      "         0.0     0.9094    0.9251    0.9172   1230433\n",
      "         1.0     0.9220    0.9393    0.9306     53659\n",
      "         2.0     0.8925    0.8522    0.8719    316935\n",
      "         3.0     0.8433    0.8033    0.8228    239191\n",
      "         4.0     0.9254    0.9374    0.9314    260238\n",
      "\n",
      "    accuracy                         0.9021   2100456\n",
      "   macro avg     0.8985    0.8915    0.8948   2100456\n",
      "weighted avg     0.9016    0.9021    0.9017   2100456\n",
      "\n"
     ]
    }
   ],
   "source": [
    "from sklearn.model_selection import StratifiedKFold\n",
    "from sklearn.metrics import classification_report\n",
    "import numpy as np\n",
    "import xgboost as xgb\n",
    "\n",
    "# Define the XGBoost classifier with specified parameters\n",
    "xg_class = xgb.XGBClassifier(\n",
    "    objective='multi:softmax',\n",
    "    colsample_bytree=0.3,\n",
    "    learning_rate=0.1,\n",
    "    max_depth=15,\n",
    "    alpha=10,\n",
    "    n_estimators=70,\n",
    "    gamma=10\n",
    ")\n",
    "\n",
    "# Stratified K-Fold Cross-Validation\n",
    "skf = StratifiedKFold(n_splits=10)\n",
    "norm_y_out = np.zeros(len(norm_y), dtype=np.int32)\n",
    "\n",
    "for train_index, test_index in skf.split(norm_x, norm_y):\n",
    "    # Split data into training and testing sets\n",
    "    x_train, x_test = norm_x.iloc[train_index], norm_x.iloc[test_index]\n",
    "    y_train, y_test = norm_y.iloc[train_index], norm_y.iloc[test_index]\n",
    "\n",
    "    # Fit the model on the training data\n",
    "    xg_class.fit(x_train, y_train)\n",
    "\n",
    "    # Predict on the test data\n",
    "    predictions = xg_class.predict(x_test)\n",
    "\n",
    "    # Store the predictions in the appropriate indices\n",
    "    norm_y_out[test_index] = predictions\n",
    "\n",
    "# Generate the classification report\n",
    "lm = classification_report(norm_y, norm_y_out, digits=4)\n",
    "print(lm)"
   ]
  },
  {
   "cell_type": "markdown",
   "metadata": {},
   "source": [
    "# SVC + Normalization"
   ]
  },
  {
   "cell_type": "code",
   "execution_count": null,
   "metadata": {},
   "outputs": [],
   "source": [
    "# Create a SVC classifier using a linear kernel\n",
    "from sklearn.svm import SVC\n",
    "clf = SVC(kernel='linear', C=1, random_state=0)\n",
    "# Train the classifier\n",
    "clf.fit(x_train, y_train)\n",
    "\n",
    "#Predict the response for test dataset\n",
    "y_out = clf.predict(x_test)\n",
    "lm_svc=(classification_report(y_test, y_out, digits=4))\n",
    "print(lm_svc)\n"
   ]
  },
  {
   "cell_type": "markdown",
   "metadata": {},
   "source": [
    "# SVM + Normalization + Cross Validation"
   ]
  },
  {
   "cell_type": "code",
   "execution_count": 14,
   "metadata": {},
   "outputs": [
    {
     "name": "stdout",
     "output_type": "stream",
     "text": [
      "              precision    recall  f1-score   support\n",
      "\n",
      "         0.0     0.8618    0.8911    0.8762       560\n",
      "         1.0     0.9412    0.4571    0.6154        35\n",
      "         2.0     0.8418    0.8210    0.8313       162\n",
      "         3.0     0.7615    0.7830    0.7721       106\n",
      "         4.0     0.9270    0.9270    0.9270       137\n",
      "\n",
      "    accuracy                         0.8580      1000\n",
      "   macro avg     0.8667    0.7758    0.8044      1000\n",
      "weighted avg     0.8596    0.8580    0.8557      1000\n",
      "\n"
     ]
    }
   ],
   "source": [
    "##https://scikit-learn.org/stable/modules/svm.html\n",
    "#https://www.datacamp.com/community/tutorials/svm-classification-scikit-learn-python\n",
    "#https://medium.com/all-things-ai/in-depth-parameter-tuning-for-svc-758215394769\n",
    "###https://scikit-learn.org/stable/modules/generated/sklearn.svm.LinearSVC.html\n",
    "#https://chrisalbon.com/machine_learning/support_vector_machines/svc_parameters_using_rbf_kernel/\n",
    "\n",
    "#svm = SVC(kernel='rbf', random_state=0, gamma=10, C=1)\n",
    "#1000 iterations take 25 minutes\n",
    "from sklearn import svm\n",
    "\n",
    "#Create a svm Classifier\n",
    "clf = svm.SVC(kernel='rbf', random_state=0, gamma=10, C=100,\n",
    "              shrinking=True, tol=1.000, cache_size=10) ##(kernel='linear') # Linear Kernel\n",
    "\n",
    "#Train the model using the training sets\n",
    "clf.fit(x_train, y_train)\n",
    "\n",
    "#Predict the response for test dataset\n",
    "y_out = clf.predict(x_test)\n",
    "lm_svc=(classification_report(y_test, y_out, digits=4))\n",
    "print(lm_svc)\n"
   ]
  },
  {
   "cell_type": "markdown",
   "metadata": {},
   "source": [
    "# SVM + Normalization + Cross Validation + Gamma = 20"
   ]
  },
  {
   "cell_type": "code",
   "execution_count": null,
   "metadata": {},
   "outputs": [],
   "source": [
    "from sklearn import svm\n",
    "\n",
    "#Create a svm Classifier\n",
    "clf = svm.SVC(kernel='rbf', random_state=0, gamma=20, C=100,\n",
    "              shrinking=True, tol=1.000, cache_size=10) ##(kernel='linear') # Linear Kernel\n",
    "\n",
    "#Train the model using the training sets\n",
    "clf.fit(norm_x_train, norm_y_train)\n",
    "\n",
    "#Predict the response for test dataset\n",
    "norm_y_out = clf.predict(norm_x_test)"
   ]
  },
  {
   "cell_type": "code",
   "execution_count": 17,
   "metadata": {},
   "outputs": [
    {
     "name": "stdout",
     "output_type": "stream",
     "text": [
      "              precision    recall  f1-score   support\n",
      "\n",
      "         0.0     0.9629    0.9518    0.9573      5831\n",
      "         1.0     0.9955    0.8610    0.9234       259\n",
      "         2.0     0.9034    0.9548    0.9284      1548\n",
      "         3.0     0.9207    0.9381    0.9293      1114\n",
      "         4.0     0.9726    0.9671    0.9699      1248\n",
      "\n",
      "    accuracy                         0.9503     10000\n",
      "   macro avg     0.9510    0.9346    0.9417     10000\n",
      "weighted avg     0.9510    0.9503    0.9504     10000\n",
      "\n"
     ]
    }
   ],
   "source": [
    "lm_svm=(classification_report(norm_y_test, norm_y_out, digits=4))\n",
    "print(lm_svm)\n"
   ]
  },
  {
   "cell_type": "code",
   "execution_count": null,
   "metadata": {},
   "outputs": [],
   "source": [
    "norm_y_out = cross_val_predict(clf, norm_x, norm_y, cv=10)\n",
    "\n",
    "lm=(classification_report(norm_y, norm_y_out, digits=4))\n",
    "print(lm)"
   ]
  },
  {
   "cell_type": "markdown",
   "metadata": {},
   "source": [
    "# PCA Implementation with 4 features + KNN + XGBOOST"
   ]
  },
  {
   "cell_type": "code",
   "execution_count": 10,
   "metadata": {},
   "outputs": [
    {
     "name": "stdout",
     "output_type": "stream",
     "text": [
      "original shape:    (2100456, 8)\n",
      "transformed shape: (2100456, 4)\n"
     ]
    }
   ],
   "source": [
    "#https://www.datacamp.com/community/tutorials/principal-component-analysis-in-python\n",
    "\n",
    "\n",
    "pca_dj = PCA(n_components=4)\n",
    "\n",
    "x_pca=pca_dj.fit_transform(x)\n",
    "#x_pca = pca_dj.transform(x_pca)\n",
    "print(\"original shape:   \", x.shape)\n",
    "print(\"transformed shape:\", x_pca.shape)"
   ]
  },
  {
   "cell_type": "code",
   "execution_count": 31,
   "metadata": {},
   "outputs": [
    {
     "data": {
      "text/plain": [
       "393691     1.0\n",
       "394476     1.0\n",
       "395154     1.0\n",
       "396635     1.0\n",
       "402178     1.0\n",
       "          ... \n",
       "4255293    0.0\n",
       "4255295    0.0\n",
       "4255296    0.0\n",
       "4255297    0.0\n",
       "4255299    0.0\n",
       "Name: w_label, Length: 2100456, dtype: float64"
      ]
     },
     "execution_count": 31,
     "metadata": {},
     "output_type": "execute_result"
    }
   ],
   "source": [
    "y"
   ]
  },
  {
   "cell_type": "code",
   "execution_count": 11,
   "metadata": {},
   "outputs": [
    {
     "name": "stdout",
     "output_type": "stream",
     "text": [
      "data frame combined 0.0 4.0\n",
      "(2100456, 5)\n"
     ]
    }
   ],
   "source": [
    "pca_df = pd.DataFrame(data=x_pca, columns=[\"PCA-1\", \"PCA-2\", \"PCA-3\",\"PCA-4\"]) \n",
    "pca_df['w_label'] = y.values\n",
    "print(\"data frame combined\",min(y),max(y))\n",
    "print(pca_df.shape)"
   ]
  },
  {
   "cell_type": "code",
   "execution_count": 12,
   "metadata": {},
   "outputs": [
    {
     "data": {
      "text/html": [
       "<div>\n",
       "<style scoped>\n",
       "    .dataframe tbody tr th:only-of-type {\n",
       "        vertical-align: middle;\n",
       "    }\n",
       "\n",
       "    .dataframe tbody tr th {\n",
       "        vertical-align: top;\n",
       "    }\n",
       "\n",
       "    .dataframe thead th {\n",
       "        text-align: right;\n",
       "    }\n",
       "</style>\n",
       "<table border=\"1\" class=\"dataframe\">\n",
       "  <thead>\n",
       "    <tr style=\"text-align: right;\">\n",
       "      <th></th>\n",
       "      <th>PCA-1</th>\n",
       "      <th>PCA-2</th>\n",
       "      <th>PCA-3</th>\n",
       "      <th>PCA-4</th>\n",
       "      <th>w_label</th>\n",
       "    </tr>\n",
       "  </thead>\n",
       "  <tbody>\n",
       "    <tr>\n",
       "      <td>0</td>\n",
       "      <td>-0.961341</td>\n",
       "      <td>3.163076</td>\n",
       "      <td>0.116294</td>\n",
       "      <td>-0.095738</td>\n",
       "      <td>1.0</td>\n",
       "    </tr>\n",
       "    <tr>\n",
       "      <td>1</td>\n",
       "      <td>1.919120</td>\n",
       "      <td>3.184356</td>\n",
       "      <td>0.111659</td>\n",
       "      <td>-0.087415</td>\n",
       "      <td>1.0</td>\n",
       "    </tr>\n",
       "    <tr>\n",
       "      <td>2</td>\n",
       "      <td>-1.669143</td>\n",
       "      <td>3.161003</td>\n",
       "      <td>0.108783</td>\n",
       "      <td>-0.094656</td>\n",
       "      <td>1.0</td>\n",
       "    </tr>\n",
       "    <tr>\n",
       "      <td>3</td>\n",
       "      <td>2.495887</td>\n",
       "      <td>3.197309</td>\n",
       "      <td>0.100392</td>\n",
       "      <td>-0.100255</td>\n",
       "      <td>1.0</td>\n",
       "    </tr>\n",
       "    <tr>\n",
       "      <td>4</td>\n",
       "      <td>2.110945</td>\n",
       "      <td>3.097433</td>\n",
       "      <td>0.061166</td>\n",
       "      <td>-0.114419</td>\n",
       "      <td>1.0</td>\n",
       "    </tr>\n",
       "  </tbody>\n",
       "</table>\n",
       "</div>"
      ],
      "text/plain": [
       "      PCA-1     PCA-2     PCA-3     PCA-4  w_label\n",
       "0 -0.961341  3.163076  0.116294 -0.095738      1.0\n",
       "1  1.919120  3.184356  0.111659 -0.087415      1.0\n",
       "2 -1.669143  3.161003  0.108783 -0.094656      1.0\n",
       "3  2.495887  3.197309  0.100392 -0.100255      1.0\n",
       "4  2.110945  3.097433  0.061166 -0.114419      1.0"
      ]
     },
     "execution_count": 12,
     "metadata": {},
     "output_type": "execute_result"
    }
   ],
   "source": [
    "(pca_df.head())\n",
    "#print(pca_df[\"w_label\"])"
   ]
  },
  {
   "cell_type": "code",
   "execution_count": 13,
   "metadata": {},
   "outputs": [],
   "source": [
    "pca_y = pca_df.w_label\n",
    "pca_x = pca_df.drop('w_label',axis=1)\n",
    "\n",
    "pca_x_train,pca_x_test, pca_y_train, pca_y_test = train_test_split(pca_x,pca_y,test_size=0.2)\n",
    "\n",
    "\n"
   ]
  },
  {
   "cell_type": "code",
   "execution_count": 84,
   "metadata": {},
   "outputs": [
    {
     "data": {
      "text/html": [
       "<div>\n",
       "<style scoped>\n",
       "    .dataframe tbody tr th:only-of-type {\n",
       "        vertical-align: middle;\n",
       "    }\n",
       "\n",
       "    .dataframe tbody tr th {\n",
       "        vertical-align: top;\n",
       "    }\n",
       "\n",
       "    .dataframe thead th {\n",
       "        text-align: right;\n",
       "    }\n",
       "</style>\n",
       "<table border=\"1\" class=\"dataframe\">\n",
       "  <thead>\n",
       "    <tr style=\"text-align: right;\">\n",
       "      <th></th>\n",
       "      <th>PCA-1</th>\n",
       "      <th>PCA-2</th>\n",
       "      <th>PCA-3</th>\n",
       "      <th>PCA-4</th>\n",
       "    </tr>\n",
       "  </thead>\n",
       "  <tbody>\n",
       "    <tr>\n",
       "      <td>1262329</td>\n",
       "      <td>-2.019149</td>\n",
       "      <td>0.005341</td>\n",
       "      <td>0.266795</td>\n",
       "      <td>-0.438592</td>\n",
       "    </tr>\n",
       "    <tr>\n",
       "      <td>2389</td>\n",
       "      <td>0.574554</td>\n",
       "      <td>1.608617</td>\n",
       "      <td>0.926957</td>\n",
       "      <td>-0.125808</td>\n",
       "    </tr>\n",
       "    <tr>\n",
       "      <td>295875</td>\n",
       "      <td>-0.048501</td>\n",
       "      <td>0.627552</td>\n",
       "      <td>0.286721</td>\n",
       "      <td>0.122184</td>\n",
       "    </tr>\n",
       "    <tr>\n",
       "      <td>1551883</td>\n",
       "      <td>-0.413623</td>\n",
       "      <td>-0.105999</td>\n",
       "      <td>0.270865</td>\n",
       "      <td>0.542847</td>\n",
       "    </tr>\n",
       "    <tr>\n",
       "      <td>1601519</td>\n",
       "      <td>-1.255579</td>\n",
       "      <td>-0.331501</td>\n",
       "      <td>0.222320</td>\n",
       "      <td>0.043145</td>\n",
       "    </tr>\n",
       "    <tr>\n",
       "      <td>...</td>\n",
       "      <td>...</td>\n",
       "      <td>...</td>\n",
       "      <td>...</td>\n",
       "      <td>...</td>\n",
       "    </tr>\n",
       "    <tr>\n",
       "      <td>123854</td>\n",
       "      <td>1.037733</td>\n",
       "      <td>0.400740</td>\n",
       "      <td>0.008375</td>\n",
       "      <td>-0.049473</td>\n",
       "    </tr>\n",
       "    <tr>\n",
       "      <td>1435469</td>\n",
       "      <td>-0.617751</td>\n",
       "      <td>-0.018001</td>\n",
       "      <td>0.436948</td>\n",
       "      <td>-0.462610</td>\n",
       "    </tr>\n",
       "    <tr>\n",
       "      <td>854324</td>\n",
       "      <td>3.512133</td>\n",
       "      <td>1.455872</td>\n",
       "      <td>-0.559020</td>\n",
       "      <td>0.066718</td>\n",
       "    </tr>\n",
       "    <tr>\n",
       "      <td>1967503</td>\n",
       "      <td>2.644096</td>\n",
       "      <td>-0.530791</td>\n",
       "      <td>0.037740</td>\n",
       "      <td>0.336136</td>\n",
       "    </tr>\n",
       "    <tr>\n",
       "      <td>238712</td>\n",
       "      <td>-1.939207</td>\n",
       "      <td>-0.242439</td>\n",
       "      <td>-0.137869</td>\n",
       "      <td>-0.173572</td>\n",
       "    </tr>\n",
       "  </tbody>\n",
       "</table>\n",
       "<p>1680364 rows × 4 columns</p>\n",
       "</div>"
      ],
      "text/plain": [
       "            PCA-1     PCA-2     PCA-3     PCA-4\n",
       "1262329 -2.019149  0.005341  0.266795 -0.438592\n",
       "2389     0.574554  1.608617  0.926957 -0.125808\n",
       "295875  -0.048501  0.627552  0.286721  0.122184\n",
       "1551883 -0.413623 -0.105999  0.270865  0.542847\n",
       "1601519 -1.255579 -0.331501  0.222320  0.043145\n",
       "...           ...       ...       ...       ...\n",
       "123854   1.037733  0.400740  0.008375 -0.049473\n",
       "1435469 -0.617751 -0.018001  0.436948 -0.462610\n",
       "854324   3.512133  1.455872 -0.559020  0.066718\n",
       "1967503  2.644096 -0.530791  0.037740  0.336136\n",
       "238712  -1.939207 -0.242439 -0.137869 -0.173572\n",
       "\n",
       "[1680364 rows x 4 columns]"
      ]
     },
     "execution_count": 84,
     "metadata": {},
     "output_type": "execute_result"
    }
   ],
   "source": [
    "pca_x_train"
   ]
  },
  {
   "cell_type": "code",
   "execution_count": 85,
   "metadata": {},
   "outputs": [
    {
     "data": {
      "text/plain": [
       "1262329    4.0\n",
       "2389       1.0\n",
       "295875     0.0\n",
       "1551883    0.0\n",
       "1601519    0.0\n",
       "          ... \n",
       "123854     0.0\n",
       "1435469    4.0\n",
       "854324     0.0\n",
       "1967503    0.0\n",
       "238712     0.0\n",
       "Name: w_label, Length: 1680364, dtype: float64"
      ]
     },
     "execution_count": 85,
     "metadata": {},
     "output_type": "execute_result"
    }
   ],
   "source": [
    "pca_y_train"
   ]
  },
  {
   "cell_type": "code",
   "execution_count": 86,
   "metadata": {},
   "outputs": [
    {
     "data": {
      "text/html": [
       "<div>\n",
       "<style scoped>\n",
       "    .dataframe tbody tr th:only-of-type {\n",
       "        vertical-align: middle;\n",
       "    }\n",
       "\n",
       "    .dataframe tbody tr th {\n",
       "        vertical-align: top;\n",
       "    }\n",
       "\n",
       "    .dataframe thead th {\n",
       "        text-align: right;\n",
       "    }\n",
       "</style>\n",
       "<table border=\"1\" class=\"dataframe\">\n",
       "  <thead>\n",
       "    <tr style=\"text-align: right;\">\n",
       "      <th></th>\n",
       "      <th>PCA-1</th>\n",
       "      <th>PCA-2</th>\n",
       "      <th>PCA-3</th>\n",
       "      <th>PCA-4</th>\n",
       "    </tr>\n",
       "  </thead>\n",
       "  <tbody>\n",
       "    <tr>\n",
       "      <td>1050998</td>\n",
       "      <td>-2.724838</td>\n",
       "      <td>0.695740</td>\n",
       "      <td>0.095951</td>\n",
       "      <td>0.471895</td>\n",
       "    </tr>\n",
       "    <tr>\n",
       "      <td>1363013</td>\n",
       "      <td>-1.518400</td>\n",
       "      <td>0.004579</td>\n",
       "      <td>0.409074</td>\n",
       "      <td>-0.453786</td>\n",
       "    </tr>\n",
       "    <tr>\n",
       "      <td>493717</td>\n",
       "      <td>2.584916</td>\n",
       "      <td>0.413089</td>\n",
       "      <td>0.095223</td>\n",
       "      <td>0.132213</td>\n",
       "    </tr>\n",
       "    <tr>\n",
       "      <td>1534633</td>\n",
       "      <td>0.913609</td>\n",
       "      <td>-0.097077</td>\n",
       "      <td>0.177897</td>\n",
       "      <td>0.519728</td>\n",
       "    </tr>\n",
       "    <tr>\n",
       "      <td>903654</td>\n",
       "      <td>-2.007384</td>\n",
       "      <td>1.006692</td>\n",
       "      <td>-0.176287</td>\n",
       "      <td>0.051529</td>\n",
       "    </tr>\n",
       "    <tr>\n",
       "      <td>...</td>\n",
       "      <td>...</td>\n",
       "      <td>...</td>\n",
       "      <td>...</td>\n",
       "      <td>...</td>\n",
       "    </tr>\n",
       "    <tr>\n",
       "      <td>1238978</td>\n",
       "      <td>0.882498</td>\n",
       "      <td>0.077482</td>\n",
       "      <td>0.305723</td>\n",
       "      <td>-0.438590</td>\n",
       "    </tr>\n",
       "    <tr>\n",
       "      <td>1107534</td>\n",
       "      <td>-4.968236</td>\n",
       "      <td>-0.656148</td>\n",
       "      <td>-0.199872</td>\n",
       "      <td>0.065220</td>\n",
       "    </tr>\n",
       "    <tr>\n",
       "      <td>1839401</td>\n",
       "      <td>-1.822299</td>\n",
       "      <td>-1.382939</td>\n",
       "      <td>-0.272415</td>\n",
       "      <td>-0.049344</td>\n",
       "    </tr>\n",
       "    <tr>\n",
       "      <td>855970</td>\n",
       "      <td>2.415365</td>\n",
       "      <td>1.421094</td>\n",
       "      <td>-0.573147</td>\n",
       "      <td>0.041575</td>\n",
       "    </tr>\n",
       "    <tr>\n",
       "      <td>630489</td>\n",
       "      <td>3.815471</td>\n",
       "      <td>0.192558</td>\n",
       "      <td>-0.250147</td>\n",
       "      <td>0.108547</td>\n",
       "    </tr>\n",
       "  </tbody>\n",
       "</table>\n",
       "<p>420092 rows × 4 columns</p>\n",
       "</div>"
      ],
      "text/plain": [
       "            PCA-1     PCA-2     PCA-3     PCA-4\n",
       "1050998 -2.724838  0.695740  0.095951  0.471895\n",
       "1363013 -1.518400  0.004579  0.409074 -0.453786\n",
       "493717   2.584916  0.413089  0.095223  0.132213\n",
       "1534633  0.913609 -0.097077  0.177897  0.519728\n",
       "903654  -2.007384  1.006692 -0.176287  0.051529\n",
       "...           ...       ...       ...       ...\n",
       "1238978  0.882498  0.077482  0.305723 -0.438590\n",
       "1107534 -4.968236 -0.656148 -0.199872  0.065220\n",
       "1839401 -1.822299 -1.382939 -0.272415 -0.049344\n",
       "855970   2.415365  1.421094 -0.573147  0.041575\n",
       "630489   3.815471  0.192558 -0.250147  0.108547\n",
       "\n",
       "[420092 rows x 4 columns]"
      ]
     },
     "execution_count": 86,
     "metadata": {},
     "output_type": "execute_result"
    }
   ],
   "source": [
    "pca_x_test"
   ]
  },
  {
   "cell_type": "code",
   "execution_count": 87,
   "metadata": {},
   "outputs": [
    {
     "data": {
      "text/plain": [
       "1050998    0.0\n",
       "1363013    4.0\n",
       "493717     0.0\n",
       "1534633    0.0\n",
       "903654     0.0\n",
       "          ... \n",
       "1238978    4.0\n",
       "1107534    0.0\n",
       "1839401    3.0\n",
       "855970     0.0\n",
       "630489     2.0\n",
       "Name: w_label, Length: 420092, dtype: float64"
      ]
     },
     "execution_count": 87,
     "metadata": {},
     "output_type": "execute_result"
    }
   ],
   "source": [
    "pca_y_test"
   ]
  },
  {
   "cell_type": "markdown",
   "metadata": {},
   "source": [
    "# PCA with 4 features + Simple Decision Tree"
   ]
  },
  {
   "cell_type": "code",
   "execution_count": 88,
   "metadata": {},
   "outputs": [
    {
     "name": "stdout",
     "output_type": "stream",
     "text": [
      "              precision    recall  f1-score   support\n",
      "\n",
      "         0.0     0.9432    0.8452    0.8915    246335\n",
      "         1.0     0.9817    0.8705    0.9228     10691\n",
      "         2.0     0.7404    0.9183    0.8198     63330\n",
      "         3.0     0.7253    0.8894    0.7990     47911\n",
      "         4.0     0.9678    0.9816    0.9747     51825\n",
      "\n",
      "    accuracy                         0.8787    420092\n",
      "   macro avg     0.8717    0.9010    0.8816    420092\n",
      "weighted avg     0.8918    0.8787    0.8812    420092\n",
      "\n"
     ]
    }
   ],
   "source": [
    "# Create Decision Tree classifer object\n",
    "clf = DecisionTreeClassifier(criterion=\"entropy\", max_depth=5)\n",
    "\n",
    "# Train Decision Tree Classifer\n",
    "clf = clf.fit(pca_x_train, pca_y_train)\n",
    "\n",
    "#Predict the response for test dataset\n",
    "pca_y_out = clf.predict(pca_x_test)\n",
    "\n",
    "# Model Accuracy, how often is the classifier correct?\n",
    "#print(\"Accuracy:\",metrics.accuracy_score(y_test, y_out))\n",
    "lmIV=(classification_report(pca_y_test, pca_y_out, digits=4))\n",
    "print(lmIV)\n"
   ]
  },
  {
   "cell_type": "markdown",
   "metadata": {},
   "source": [
    "# PCA with 4 features + KNN"
   ]
  },
  {
   "cell_type": "code",
   "execution_count": 91,
   "metadata": {},
   "outputs": [
    {
     "name": "stdout",
     "output_type": "stream",
     "text": [
      "              precision    recall  f1-score   support\n",
      "\n",
      "         0.0     0.6840    0.6786    0.6813   1230433\n",
      "         1.0     0.1030    0.1217    0.1116     53659\n",
      "         2.0     0.4602    0.4349    0.4472    316935\n",
      "         3.0     0.3450    0.3406    0.3428    239191\n",
      "         4.0     0.8164    0.8802    0.8471    260238\n",
      "\n",
      "    accuracy                         0.6141   2100456\n",
      "   macro avg     0.4817    0.4912    0.4860   2100456\n",
      "weighted avg     0.6132    0.6141    0.6134   2100456\n",
      "\n"
     ]
    }
   ],
   "source": [
    "knn = KNeighborsClassifier(n_neighbors=5)\n",
    "pca_y_out = cross_val_predict(knn, pca_x, pca_y, cv=20)\n",
    "lm=(classification_report(pca_y, pca_y_out, digits=4))\n",
    "#https://www.ritchieng.com/machine-learning-cross-validation/\n",
    "lm=(classification_report(pca_y, pca_y_out, digits=4))\n",
    "print(lm)\n"
   ]
  },
  {
   "cell_type": "markdown",
   "metadata": {},
   "source": [
    "# PCA with 4 features + XGBOOST"
   ]
  },
  {
   "cell_type": "code",
   "execution_count": 13,
   "metadata": {},
   "outputs": [
    {
     "name": "stdout",
     "output_type": "stream",
     "text": [
      "              precision    recall  f1-score   support\n",
      "\n",
      "         0.0     0.8925    0.9542    0.9223    245994\n",
      "         1.0     0.9711    0.5350    0.6900     10685\n",
      "         2.0     0.9145    0.8207    0.8650     63498\n",
      "         3.0     0.9142    0.7636    0.8322     47984\n",
      "         4.0     0.9461    0.9862    0.9657     51931\n",
      "\n",
      "    accuracy                         0.9055    420092\n",
      "   macro avg     0.9277    0.8119    0.8550    420092\n",
      "weighted avg     0.9069    0.9055    0.9028    420092\n",
      "\n"
     ]
    }
   ],
   "source": [
    "xg_class = xgb.XGBClassifier(objective ='multi:softmax', colsample_bytree = 0.3, learning_rate = 0.1,\n",
    "                max_depth = 10, alpha = 10, n_estimators = 50, gamma=10)\n",
    "\n",
    "xg_class.fit(pca_x_train,pca_y_train)\n",
    "\n",
    "pca_y_out = xg_class.predict(pca_x_test)\n",
    "\n",
    "lm_xgbIV=(classification_report(pca_y_test, pca_y_out, digits=4))\n",
    "\n",
    "print(lm_xgbIV)"
   ]
  },
  {
   "cell_type": "code",
   "execution_count": null,
   "metadata": {
    "collapsed": true
   },
   "outputs": [],
   "source": []
  },
  {
   "cell_type": "markdown",
   "metadata": {},
   "source": [
    "# PCA with 1 feature"
   ]
  },
  {
   "cell_type": "code",
   "execution_count": 22,
   "metadata": {},
   "outputs": [
    {
     "name": "stdout",
     "output_type": "stream",
     "text": [
      "      PCA-1  w_label\n",
      "0 -0.961341      1.0\n",
      "1  1.919120      1.0\n",
      "2 -1.669143      1.0\n",
      "3  2.495887      1.0\n",
      "4  2.110945      1.0\n"
     ]
    },
    {
     "data": {
      "text/html": [
       "<div>\n",
       "<style scoped>\n",
       "    .dataframe tbody tr th:only-of-type {\n",
       "        vertical-align: middle;\n",
       "    }\n",
       "\n",
       "    .dataframe tbody tr th {\n",
       "        vertical-align: top;\n",
       "    }\n",
       "\n",
       "    .dataframe thead th {\n",
       "        text-align: right;\n",
       "    }\n",
       "</style>\n",
       "<table border=\"1\" class=\"dataframe\">\n",
       "  <thead>\n",
       "    <tr style=\"text-align: right;\">\n",
       "      <th></th>\n",
       "      <th>PCA-1</th>\n",
       "    </tr>\n",
       "  </thead>\n",
       "  <tbody>\n",
       "    <tr>\n",
       "      <td>709563</td>\n",
       "      <td>-0.213779</td>\n",
       "    </tr>\n",
       "    <tr>\n",
       "      <td>323992</td>\n",
       "      <td>-2.464909</td>\n",
       "    </tr>\n",
       "    <tr>\n",
       "      <td>354980</td>\n",
       "      <td>-2.638467</td>\n",
       "    </tr>\n",
       "    <tr>\n",
       "      <td>1073935</td>\n",
       "      <td>-4.293489</td>\n",
       "    </tr>\n",
       "    <tr>\n",
       "      <td>964228</td>\n",
       "      <td>-2.053644</td>\n",
       "    </tr>\n",
       "    <tr>\n",
       "      <td>...</td>\n",
       "      <td>...</td>\n",
       "    </tr>\n",
       "    <tr>\n",
       "      <td>1237298</td>\n",
       "      <td>2.114954</td>\n",
       "    </tr>\n",
       "    <tr>\n",
       "      <td>102095</td>\n",
       "      <td>-2.129826</td>\n",
       "    </tr>\n",
       "    <tr>\n",
       "      <td>1602966</td>\n",
       "      <td>-0.681581</td>\n",
       "    </tr>\n",
       "    <tr>\n",
       "      <td>774628</td>\n",
       "      <td>-1.376128</td>\n",
       "    </tr>\n",
       "    <tr>\n",
       "      <td>2065466</td>\n",
       "      <td>4.830052</td>\n",
       "    </tr>\n",
       "  </tbody>\n",
       "</table>\n",
       "<p>1680364 rows × 1 columns</p>\n",
       "</div>"
      ],
      "text/plain": [
       "            PCA-1\n",
       "709563  -0.213779\n",
       "323992  -2.464909\n",
       "354980  -2.638467\n",
       "1073935 -4.293489\n",
       "964228  -2.053644\n",
       "...           ...\n",
       "1237298  2.114954\n",
       "102095  -2.129826\n",
       "1602966 -0.681581\n",
       "774628  -1.376128\n",
       "2065466  4.830052\n",
       "\n",
       "[1680364 rows x 1 columns]"
      ]
     },
     "execution_count": 22,
     "metadata": {},
     "output_type": "execute_result"
    }
   ],
   "source": [
    "pca_df_1 = pca_df_2.drop('PCA-2',axis=1)\n",
    "print(pca_df_1.head())\n",
    "\n",
    "pca_y = pca_df_1.w_label\n",
    "pca_x = pca_df_1.drop('w_label',axis=1)\n",
    "\n",
    "pca_x_trainI,pca_x_testI, pca_y_trainI, pca_y_testI = train_test_split(pca_x,pca_y,test_size=0.2)\n",
    "pca_x_trainI"
   ]
  },
  {
   "cell_type": "markdown",
   "metadata": {},
   "source": [
    "# PCA with 1 feature + XGBOOST"
   ]
  },
  {
   "cell_type": "code",
   "execution_count": 23,
   "metadata": {},
   "outputs": [
    {
     "name": "stderr",
     "output_type": "stream",
     "text": [
      "/usr/local/lib/python3.6/dist-packages/sklearn/metrics/classification.py:1437: UndefinedMetricWarning: Precision and F-score are ill-defined and being set to 0.0 in labels with no predicted samples.\n",
      "  'precision', 'predicted', average, warn_for)\n"
     ]
    },
    {
     "name": "stdout",
     "output_type": "stream",
     "text": [
      "              precision    recall  f1-score   support\n",
      "\n",
      "         0.0     0.5853    1.0000    0.7384    245885\n",
      "         1.0     0.0000    0.0000    0.0000     10850\n",
      "         2.0     0.0000    0.0000    0.0000     63549\n",
      "         3.0     0.0000    0.0000    0.0000     47540\n",
      "         4.0     0.0000    0.0000    0.0000     52268\n",
      "\n",
      "    accuracy                         0.5853    420092\n",
      "   macro avg     0.1171    0.2000    0.1477    420092\n",
      "weighted avg     0.3426    0.5853    0.4322    420092\n",
      "\n"
     ]
    }
   ],
   "source": [
    "xg_class = xgb.XGBClassifier(objective ='multi:softmax', colsample_bytree = 0.3, learning_rate = 0.1,\n",
    "                max_depth = 10, alpha = 10, n_estimators = 50, gamma=10)\n",
    "\n",
    "xg_class.fit(pca_x_trainI,pca_y_trainI)\n",
    "\n",
    "pca_y_outI = xg_class.predict(pca_x_testI)\n",
    "\n",
    "lm_xgbI=(classification_report(pca_y_testI, pca_y_outI, digits=4))\n",
    "\n",
    "print(lm_xgbI)\n",
    "\n"
   ]
  },
  {
   "cell_type": "markdown",
   "metadata": {},
   "source": [
    "# PCA with 2 features "
   ]
  },
  {
   "cell_type": "code",
   "execution_count": 17,
   "metadata": {},
   "outputs": [
    {
     "name": "stdout",
     "output_type": "stream",
     "text": [
      "      PCA-1     PCA-2  w_label\n",
      "0 -0.961341  3.163076      1.0\n",
      "1  1.919120  3.184356      1.0\n",
      "2 -1.669143  3.161003      1.0\n",
      "3  2.495887  3.197309      1.0\n",
      "4  2.110945  3.097433      1.0\n"
     ]
    }
   ],
   "source": [
    "pca_df_2 = pca_df_3.drop('PCA-3',axis=1)\n",
    "print(pca_df_2.head())\n",
    "pca_y = pca_df_2.w_label\n",
    "pca_x = pca_df_2.drop('w_label',axis=1)\n",
    "\n",
    "pca_x_trainII,pca_x_testII, pca_y_trainII, pca_y_testII = train_test_split(pca_x,pca_y,test_size=0.2)\n",
    "\n"
   ]
  },
  {
   "cell_type": "code",
   "execution_count": 20,
   "metadata": {},
   "outputs": [
    {
     "name": "stdout",
     "output_type": "stream",
     "text": [
      "              precision    recall  f1-score   support\n",
      "\n",
      "         0.0     0.7159    0.8894    0.7932    246298\n",
      "         1.0     0.9767    0.1610    0.2765     10682\n",
      "         2.0     0.6647    0.3608    0.4677     63297\n",
      "         3.0     0.6224    0.1984    0.3009     47801\n",
      "         4.0     0.8020    0.9675    0.8770     52014\n",
      "\n",
      "    accuracy                         0.7223    420092\n",
      "   macro avg     0.7563    0.5154    0.5431    420092\n",
      "weighted avg     0.7148    0.7223    0.6854    420092\n",
      "\n"
     ]
    }
   ],
   "source": [
    "# Create Decision Tree classifer object\n",
    "clf = DecisionTreeClassifier(criterion=\"entropy\", max_depth=5)\n",
    "\n",
    "# Train Decision Tree Classifer\n",
    "clf = clf.fit(pca_x_trainII, pca_y_trainII)\n",
    "\n",
    "#Predict the response for test dataset\n",
    "pca_y_outII = clf.predict(pca_x_testII)\n",
    "\n",
    "# Model Accuracy, how often is the classifier correct?\n",
    "#print(\"Accuracy:\",metrics.accuracy_score(y_test, y_out))\n",
    "lm=(classification_report(pca_y_testII, pca_y_outII, digits=4))\n",
    "print(lm)"
   ]
  },
  {
   "cell_type": "markdown",
   "metadata": {},
   "source": [
    "# PCA with 2 features + XGBOOST"
   ]
  },
  {
   "cell_type": "code",
   "execution_count": 21,
   "metadata": {},
   "outputs": [
    {
     "name": "stdout",
     "output_type": "stream",
     "text": [
      "              precision    recall  f1-score   support\n",
      "\n",
      "         0.0     0.7608    0.8575    0.8063    246298\n",
      "         1.0     0.9812    0.1610    0.2766     10682\n",
      "         2.0     0.6518    0.5466    0.5946     63297\n",
      "         3.0     0.6716    0.4101    0.5093     47801\n",
      "         4.0     0.8285    0.9307    0.8766     52014\n",
      "\n",
      "    accuracy                         0.7511    420092\n",
      "   macro avg     0.7788    0.5812    0.6127    420092\n",
      "weighted avg     0.7482    0.7511    0.7358    420092\n",
      "\n"
     ]
    }
   ],
   "source": [
    "xg_class = xgb.XGBClassifier(objective ='multi:softmax', colsample_bytree = 0.3, learning_rate = 0.1,\n",
    "                max_depth = 10, alpha = 10, n_estimators = 50, gamma=10)\n",
    "\n",
    "xg_class.fit(pca_x_trainII,pca_y_trainII)\n",
    "\n",
    "pca_y_outII = xg_class.predict(pca_x_testII)\n",
    "\n",
    "lm_xgbII=(classification_report(pca_y_testII, pca_y_outII, digits=4))\n",
    "\n",
    "print(lm_xgbII)\n"
   ]
  },
  {
   "cell_type": "code",
   "execution_count": null,
   "metadata": {},
   "outputs": [],
   "source": []
  },
  {
   "cell_type": "markdown",
   "metadata": {},
   "source": [
    "# PCA with 3 features"
   ]
  },
  {
   "cell_type": "code",
   "execution_count": 15,
   "metadata": {},
   "outputs": [
    {
     "name": "stdout",
     "output_type": "stream",
     "text": [
      "      PCA-1     PCA-2     PCA-3  w_label\n",
      "0 -0.961341  3.163076  0.116294      1.0\n",
      "1  1.919120  3.184356  0.111659      1.0\n",
      "2 -1.669143  3.161003  0.108783      1.0\n",
      "3  2.495887  3.197309  0.100392      1.0\n",
      "4  2.110945  3.097433  0.061166      1.0\n"
     ]
    }
   ],
   "source": [
    "pca_df_3 = pca_df.drop('PCA-4',axis=1)\n",
    "'''\n",
    "\n",
    "pca_dj = PCA(n_components=3)\n",
    "\n",
    "x_pca=pca_dj.fit_transform(x)\n",
    "#x_pca = pca_dj.transform(x_pca)\n",
    "print(\"original shape:   \", x.shape)\n",
    "print(\"transformed shape:\", x_pca.shape)\n",
    "\n",
    "pca_df = pd.DataFrame(data=x_pca, columns=[\"PCA-1\", \"PCA-2\", \"PCA-3\"]) \n",
    "pca_df['w_label'] = y.values\n",
    "print(\"data frame combined\",min(y),max(y))\n",
    "print(pca_df.shape)\n",
    "'''\n",
    "print(pca_df_3.head())\n",
    "pca_y = pca_df_3.w_label\n",
    "pca_x = pca_df_3.drop('w_label',axis=1)\n",
    "\n",
    "pca_x_trainIII,pca_x_testIII, pca_y_trainIII, pca_y_testIII = train_test_split(pca_x,pca_y,test_size=0.2)\n"
   ]
  },
  {
   "cell_type": "markdown",
   "metadata": {},
   "source": [
    "# PCA with 3 features + XGBOOST"
   ]
  },
  {
   "cell_type": "code",
   "execution_count": 16,
   "metadata": {},
   "outputs": [
    {
     "name": "stdout",
     "output_type": "stream",
     "text": [
      "              precision    recall  f1-score   support\n",
      "\n",
      "         0.0     0.8375    0.9307    0.8816    245992\n",
      "         1.0     0.9878    0.2058    0.3407     10639\n",
      "         2.0     0.8530    0.7927    0.8218     63539\n",
      "         3.0     0.8195    0.5658    0.6695     48242\n",
      "         4.0     0.9267    0.9351    0.9309     51680\n",
      "\n",
      "    accuracy                         0.8501    420092\n",
      "   macro avg     0.8849    0.6860    0.7289    420092\n",
      "weighted avg     0.8525    0.8501    0.8406    420092\n",
      "\n"
     ]
    }
   ],
   "source": [
    "xg_class = xgb.XGBClassifier(objective ='multi:softmax', colsample_bytree = 0.3, learning_rate = 0.1,\n",
    "                max_depth = 10, alpha = 10, n_estimators = 50, gamma=10)\n",
    "\n",
    "xg_class.fit(pca_x_trainIII,pca_y_trainIII)\n",
    "\n",
    "pca_y_outIII = xg_class.predict(pca_x_testIII)\n",
    "\n",
    "lm_xgbIII=(classification_report(pca_y_testIII, pca_y_outIII, digits=4))\n",
    "\n",
    "print(lm_xgbIII)"
   ]
  },
  {
   "cell_type": "markdown",
   "metadata": {},
   "source": [
    "TESTING BEST MODEL ON 7 SUBJECTS "
   ]
  },
  {
   "cell_type": "code",
   "execution_count": 2,
   "metadata": {},
   "outputs": [
    {
     "name": "stdout",
     "output_type": "stream",
     "text": [
      "Equated_3\n",
      "data frame combined\n"
     ]
    }
   ],
   "source": [
    "data_set = '/home/dhananjai/Downloads/Spring_2020/Machine_Learning/ML_Project/dataset/WESAD/'\n",
    "\n",
    "s3_path = data_set + 'S3/S3.pkl'\n",
    "\n",
    "with open(s3_path, 'rb') as file:\n",
    "    s2_data = pickle.load(file, encoding='latin1')\n",
    "    \n",
    "c_ax=s2_data['signal']['chest']['ACC'][0:,0]#[baseline_to_plot]\n",
    "c_ay=s2_data['signal']['chest']['ACC'][0:,1]#[baseline_to_plot]#[0:100] # hundred values\n",
    "c_az=s2_data['signal']['chest']['ACC'][0:,2]#[baseline_to_plot]\n",
    "c_ecg=s2_data['signal']['chest']['ECG'][:,0]#[baseline_to_plot]\n",
    "c_emg=s2_data['signal']['chest']['EMG'][:,0]#[baseline_to_plot]\n",
    "c_eda=s2_data['signal']['chest']['EDA'][:,0]#[baseline_to_plot]\n",
    "c_temp=s2_data['signal']['chest']['Temp'][:,0]#[baseline_to_plot]\n",
    "c_resp=s2_data['signal']['chest']['Resp'][:,0]#[baseline_to_plot]\n",
    "w_ax=s2_data['signal']['wrist']['ACC'][0:,0]#[stress_to_plot]\n",
    "w_ay=s2_data['signal']['wrist']['ACC'][0:,1]#[stress_to_plot]\n",
    "w_az=s2_data['signal']['wrist']['ACC'][0:,2]#[stress_to_plot]\n",
    "w_bvp=s2_data['signal']['wrist']['BVP'][:,0]#[stress_to_plot]\n",
    "w_eda=s2_data['signal']['wrist']['EDA'][:,0]#[stress_to_plot]\n",
    "w_temp=s2_data['signal']['wrist']['TEMP'][:,0]#[stress_to_plot]\n",
    "w_label=s2_data['label']\n",
    "\n",
    "print(\"Equated_3\")    \n",
    "\n",
    "numpy_data1=np.array([c_ax, c_ay, c_az,c_ecg,c_emg,c_eda,c_temp,c_resp,w_label])\n",
    "numpy_data1=numpy_data1.T\n",
    "\n",
    "#df = pd.DataFrame(data=numpy_data1, columns=[\"c_ax\", \"c_ay\", \"c_az\",\"c_ecg\",\"c_emg\",\"c_eda\",\"c_temp\",\"c_resp\",\"w_ax\",\"w_ay\",\"w_az\",\"w_bvp\",\"w_eda\",\"w_temp\"],orient='index') \n",
    "df = pd.DataFrame(data=numpy_data1, columns=[\"c_ax\", \"c_ay\", \"c_az\",\"c_ecg\",\"c_emg\",\"c_eda\",\"c_temp\",\"c_resp\",\"w_label\"]) \n",
    "\n",
    "print(\"data frame combined\")\n"
   ]
  },
  {
   "cell_type": "code",
   "execution_count": 3,
   "metadata": {},
   "outputs": [
    {
     "name": "stdout",
     "output_type": "stream",
     "text": [
      "IQR is\n",
      " c_ax       0.064200\n",
      "c_ay       0.070400\n",
      "c_az       0.525600\n",
      "c_ecg      0.169006\n",
      "c_emg      0.020599\n",
      "c_eda      0.687408\n",
      "c_temp     1.275391\n",
      "c_resp     4.287720\n",
      "w_label    2.000000\n",
      "dtype: float64\n",
      "(2953541, 9)\n"
     ]
    }
   ],
   "source": [
    "Q1 = df.quantile(0.25)\n",
    "Q3 = df.quantile(0.75)\n",
    "IQR = Q3 - Q1\n",
    "print(\"IQR is\\n\", IQR)\n",
    "#print((df < (Q1 - 1.5 * IQR)) |(df > (Q3 + 1.5 * IQR)) )\n",
    "df_out = df[~((df < (Q1 - 1.5 * IQR)) |(df > (Q3 + 1.5 * IQR))).any(axis=1)]\n",
    "print(df_out.shape)"
   ]
  },
  {
   "cell_type": "code",
   "execution_count": 4,
   "metadata": {},
   "outputs": [],
   "source": [
    "norm_df_out=(df_out-df_out.mean())/df_out.std()\n",
    "\n",
    "norm_y_3 = df_out.w_label #keep original labels Dont normalize labels\n",
    "norm_x_3 = norm_df_out.drop('w_label',axis=1)\n",
    "\n",
    "\n",
    "norm_x_train_3,norm_x_test_3,norm_y_train_3,norm_y_test_3=train_test_split(norm_x_3,norm_y_3,test_size=0.2)"
   ]
  },
  {
   "cell_type": "code",
   "execution_count": 5,
   "metadata": {},
   "outputs": [
    {
     "name": "stdout",
     "output_type": "stream",
     "text": [
      "              precision    recall  f1-score   support\n",
      "\n",
      "         0.0     0.9281    0.9300    0.9291   1308546\n",
      "         1.0     0.9940    0.9791    0.9865    652120\n",
      "         2.0     0.7690    0.7681    0.7686    229036\n",
      "         3.0     0.9238    0.8672    0.8946    236685\n",
      "         4.0     0.9519    0.9879    0.9696    482406\n",
      "         5.0     0.9062    0.9778    0.9406     44748\n",
      "\n",
      "    accuracy                         0.9335   2953541\n",
      "   macro avg     0.9122    0.9184    0.9148   2953541\n",
      "weighted avg     0.9335    0.9335    0.9333   2953541\n",
      "\n"
     ]
    }
   ],
   "source": [
    "qda_clf = QuadraticDiscriminantAnalysis(priors=None, reg_param=0)\n",
    "norm_y_out_3 = cross_val_predict(qda_clf, norm_x_3, norm_y_3, cv=10)\n",
    "lm_3=(classification_report(norm_y_3, norm_y_out_3, digits=4))\n",
    "print(lm_3)\n"
   ]
  },
  {
   "cell_type": "code",
   "execution_count": 6,
   "metadata": {},
   "outputs": [
    {
     "name": "stdout",
     "output_type": "stream",
     "text": [
      "Equated\n",
      "data frame combined\n"
     ]
    }
   ],
   "source": [
    "data_set = '/home/dhananjai/Downloads/Spring_2020/Machine_Learning/ML_Project/dataset/WESAD/'\n",
    "\n",
    "s4_path = data_set + 'S4/S4.pkl'\n",
    "\n",
    "with open(s4_path, 'rb') as file:\n",
    "    s2_data = pickle.load(file, encoding='latin1')\n",
    "    \n",
    "c_ax=s2_data['signal']['chest']['ACC'][0:,0]#[baseline_to_plot]\n",
    "c_ay=s2_data['signal']['chest']['ACC'][0:,1]#[baseline_to_plot]#[0:100] # hundred values\n",
    "c_az=s2_data['signal']['chest']['ACC'][0:,2]#[baseline_to_plot]\n",
    "c_ecg=s2_data['signal']['chest']['ECG'][:,0]#[baseline_to_plot]\n",
    "c_emg=s2_data['signal']['chest']['EMG'][:,0]#[baseline_to_plot]\n",
    "c_eda=s2_data['signal']['chest']['EDA'][:,0]#[baseline_to_plot]\n",
    "c_temp=s2_data['signal']['chest']['Temp'][:,0]#[baseline_to_plot]\n",
    "c_resp=s2_data['signal']['chest']['Resp'][:,0]#[baseline_to_plot]\n",
    "w_ax=s2_data['signal']['wrist']['ACC'][0:,0]#[stress_to_plot]\n",
    "w_ay=s2_data['signal']['wrist']['ACC'][0:,1]#[stress_to_plot]\n",
    "w_az=s2_data['signal']['wrist']['ACC'][0:,2]#[stress_to_plot]\n",
    "w_bvp=s2_data['signal']['wrist']['BVP'][:,0]#[stress_to_plot]\n",
    "w_eda=s2_data['signal']['wrist']['EDA'][:,0]#[stress_to_plot]\n",
    "w_temp=s2_data['signal']['wrist']['TEMP'][:,0]#[stress_to_plot]\n",
    "w_label=s2_data['label']\n",
    "\n",
    "print(\"Equated\")    \n",
    "\n",
    "numpy_data1=np.array([c_ax, c_ay, c_az,c_ecg,c_emg,c_eda,c_temp,c_resp,w_label])\n",
    "numpy_data1=numpy_data1.T\n",
    "\n",
    "#df = pd.DataFrame(data=numpy_data1, columns=[\"c_ax\", \"c_ay\", \"c_az\",\"c_ecg\",\"c_emg\",\"c_eda\",\"c_temp\",\"c_resp\",\"w_ax\",\"w_ay\",\"w_az\",\"w_bvp\",\"w_eda\",\"w_temp\"],orient='index') \n",
    "df = pd.DataFrame(data=numpy_data1, columns=[\"c_ax\", \"c_ay\", \"c_az\",\"c_ecg\",\"c_emg\",\"c_eda\",\"c_temp\",\"c_resp\",\"w_label\"]) \n",
    "\n",
    "print(\"data frame combined\")\n"
   ]
  },
  {
   "cell_type": "code",
   "execution_count": 7,
   "metadata": {},
   "outputs": [
    {
     "name": "stdout",
     "output_type": "stream",
     "text": [
      "IQR is\n",
      " c_ax       0.176000\n",
      "c_ay       0.278400\n",
      "c_az       0.325800\n",
      "c_ecg      0.082535\n",
      "c_emg      0.014053\n",
      "c_eda      1.303101\n",
      "c_temp     0.748199\n",
      "c_resp     2.604675\n",
      "w_label    2.000000\n",
      "dtype: float64\n",
      "(3477008, 9)\n"
     ]
    }
   ],
   "source": [
    "Q1 = df.quantile(0.25)\n",
    "Q3 = df.quantile(0.75)\n",
    "IQR = Q3 - Q1\n",
    "print(\"IQR is\\n\", IQR)\n",
    "#print((df < (Q1 - 1.5 * IQR)) |(df > (Q3 + 1.5 * IQR)) )\n",
    "df_out = df[~((df < (Q1 - 1.5 * IQR)) |(df > (Q3 + 1.5 * IQR))).any(axis=1)]\n",
    "print(df_out.shape)"
   ]
  },
  {
   "cell_type": "code",
   "execution_count": 8,
   "metadata": {},
   "outputs": [],
   "source": [
    "norm_df_out=(df_out-df_out.mean())/df_out.std()\n",
    "\n",
    "norm_y_4 = df_out.w_label #keep original labels Dont normalize labels\n",
    "norm_x_4 = norm_df_out.drop('w_label',axis=1)\n",
    "\n",
    "\n",
    "norm_x_train_4,norm_x_test_4,norm_y_train_4,norm_y_test_4=train_test_split(norm_x_4,norm_y_4,test_size=0.2)"
   ]
  },
  {
   "cell_type": "code",
   "execution_count": 9,
   "metadata": {},
   "outputs": [
    {
     "name": "stdout",
     "output_type": "stream",
     "text": [
      "              precision    recall  f1-score   support\n",
      "\n",
      "         0.0     0.9597    0.9610    0.9603   1713784\n",
      "         1.0     0.9903    0.9684    0.9793    730251\n",
      "         2.0     0.9535    0.9139    0.9333    249989\n",
      "         3.0     0.9018    0.9298    0.9156    240806\n",
      "         4.0     0.9734    0.9865    0.9799    511138\n",
      "         5.0     0.7338    0.9667    0.8343     31040\n",
      "\n",
      "    accuracy                         0.9608   3477008\n",
      "   macro avg     0.9188    0.9544    0.9338   3477008\n",
      "weighted avg     0.9617    0.9608    0.9610   3477008\n",
      "\n"
     ]
    }
   ],
   "source": [
    "qda_clf = QuadraticDiscriminantAnalysis(priors=None, reg_param=0)\n",
    "norm_y_out_4 = cross_val_predict(qda_clf, norm_x_4, norm_y_4, cv=10)\n",
    "lm_4=(classification_report(norm_y_4, norm_y_out_4, digits=4))\n",
    "print(lm_4)\n"
   ]
  },
  {
   "cell_type": "code",
   "execution_count": null,
   "metadata": {},
   "outputs": [],
   "source": []
  },
  {
   "cell_type": "code",
   "execution_count": 2,
   "metadata": {},
   "outputs": [
    {
     "name": "stdout",
     "output_type": "stream",
     "text": [
      "Equated\n",
      "data frame combined\n"
     ]
    }
   ],
   "source": [
    "data_set = '/home/dhananjai/Downloads/Spring_2020/Machine_Learning/ML_Project/dataset/WESAD/'\n",
    "\n",
    "s10_path = data_set + 'S10/S10.pkl'\n",
    "\n",
    "with open(s10_path, 'rb') as file:\n",
    "    s2_data = pickle.load(file, encoding='latin1')\n",
    "    \n",
    "c_ax=s2_data['signal']['chest']['ACC'][0:,0]#[baseline_to_plot]\n",
    "c_ay=s2_data['signal']['chest']['ACC'][0:,1]#[baseline_to_plot]#[0:100] # hundred values\n",
    "c_az=s2_data['signal']['chest']['ACC'][0:,2]#[baseline_to_plot]\n",
    "c_ecg=s2_data['signal']['chest']['ECG'][:,0]#[baseline_to_plot]\n",
    "c_emg=s2_data['signal']['chest']['EMG'][:,0]#[baseline_to_plot]\n",
    "c_eda=s2_data['signal']['chest']['EDA'][:,0]#[baseline_to_plot]\n",
    "c_temp=s2_data['signal']['chest']['Temp'][:,0]#[baseline_to_plot]\n",
    "c_resp=s2_data['signal']['chest']['Resp'][:,0]#[baseline_to_plot]\n",
    "w_ax=s2_data['signal']['wrist']['ACC'][0:,0]#[stress_to_plot]\n",
    "w_ay=s2_data['signal']['wrist']['ACC'][0:,1]#[stress_to_plot]\n",
    "w_az=s2_data['signal']['wrist']['ACC'][0:,2]#[stress_to_plot]\n",
    "w_bvp=s2_data['signal']['wrist']['BVP'][:,0]#[stress_to_plot]\n",
    "w_eda=s2_data['signal']['wrist']['EDA'][:,0]#[stress_to_plot]\n",
    "w_temp=s2_data['signal']['wrist']['TEMP'][:,0]#[stress_to_plot]\n",
    "w_label=s2_data['label']\n",
    "\n",
    "print(\"Equated\")    \n",
    "\n",
    "numpy_data1=np.array([c_ax, c_ay, c_az,c_ecg,c_emg,c_eda,c_temp,c_resp,w_label])\n",
    "numpy_data1=numpy_data1.T\n",
    "\n",
    "#df = pd.DataFrame(data=numpy_data1, columns=[\"c_ax\", \"c_ay\", \"c_az\",\"c_ecg\",\"c_emg\",\"c_eda\",\"c_temp\",\"c_resp\",\"w_ax\",\"w_ay\",\"w_az\",\"w_bvp\",\"w_eda\",\"w_temp\"],orient='index') \n",
    "df = pd.DataFrame(data=numpy_data1, columns=[\"c_ax\", \"c_ay\", \"c_az\",\"c_ecg\",\"c_emg\",\"c_eda\",\"c_temp\",\"c_resp\",\"w_label\"]) \n",
    "\n",
    "print(\"data frame combined\")\n"
   ]
  },
  {
   "cell_type": "code",
   "execution_count": 3,
   "metadata": {},
   "outputs": [
    {
     "name": "stdout",
     "output_type": "stream",
     "text": [
      "IQR is\n",
      " c_ax       0.167200\n",
      "c_ay       0.082400\n",
      "c_az       0.446000\n",
      "c_ecg      0.093201\n",
      "c_emg      0.012085\n",
      "c_eda      0.819397\n",
      "c_temp     0.877563\n",
      "c_resp     4.107666\n",
      "w_label    2.000000\n",
      "dtype: float64\n",
      "(3136816, 9)\n"
     ]
    }
   ],
   "source": [
    "Q1 = df.quantile(0.25)\n",
    "Q3 = df.quantile(0.75)\n",
    "IQR = Q3 - Q1\n",
    "print(\"IQR is\\n\", IQR)\n",
    "#print((df < (Q1 - 1.5 * IQR)) |(df > (Q3 + 1.5 * IQR)) )\n",
    "df_out = df[~((df < (Q1 - 1.5 * IQR)) |(df > (Q3 + 1.5 * IQR))).any(axis=1)]\n",
    "print(df_out.shape)"
   ]
  },
  {
   "cell_type": "code",
   "execution_count": 4,
   "metadata": {},
   "outputs": [],
   "source": [
    "norm_df_out=(df_out-df_out.mean())/df_out.std()\n",
    "\n",
    "norm_y_10 = df_out.w_label #keep original labels Dont normalize labels\n",
    "norm_x_10 = norm_df_out.drop('w_label',axis=1)\n",
    "\n",
    "\n",
    "norm_x_train_10,norm_x_test_10,norm_y_train_10,norm_y_test_10=train_test_split(norm_x_10,norm_y_10,test_size=0.2)"
   ]
  },
  {
   "cell_type": "code",
   "execution_count": 5,
   "metadata": {},
   "outputs": [
    {
     "name": "stdout",
     "output_type": "stream",
     "text": [
      "              precision    recall  f1-score   support\n",
      "\n",
      "         0.0     0.9154    0.9167    0.9160   1271327\n",
      "         1.0     0.9855    0.9211    0.9522    694250\n",
      "         2.0     0.9388    0.8883    0.9129    411653\n",
      "         3.0     0.9034    0.9840    0.9420    235466\n",
      "         4.0     0.9394    0.9959    0.9668    497389\n",
      "         5.0     0.6162    0.9548    0.7490     26731\n",
      "\n",
      "    accuracy                         0.9319   3136816\n",
      "   macro avg     0.8831    0.9435    0.9065   3136816\n",
      "weighted avg     0.9343    0.9319    0.9322   3136816\n",
      "\n"
     ]
    }
   ],
   "source": [
    "qda_clf = QuadraticDiscriminantAnalysis(priors=None, reg_param=0)\n",
    "norm_y_out_10 = cross_val_predict(qda_clf, norm_x_10, norm_y_10, cv=10)\n",
    "lm_10=(classification_report(norm_y_10, norm_y_out_10, digits=4))\n",
    "print(lm_10)\n"
   ]
  },
  {
   "cell_type": "code",
   "execution_count": 7,
   "metadata": {},
   "outputs": [
    {
     "name": "stdout",
     "output_type": "stream",
     "text": [
      "Equated\n",
      "data frame combined\n"
     ]
    }
   ],
   "source": [
    "data_set = '/home/dhananjai/Downloads/Spring_2020/Machine_Learning/ML_Project/dataset/WESAD/'\n",
    "\n",
    "s11_path = data_set + 'S11/S11.pkl'\n",
    "\n",
    "with open(s11_path, 'rb') as file:\n",
    "    s2_data = pickle.load(file, encoding='latin1')\n",
    "    \n",
    "c_ax=s2_data['signal']['chest']['ACC'][0:,0]#[baseline_to_plot]\n",
    "c_ay=s2_data['signal']['chest']['ACC'][0:,1]#[baseline_to_plot]#[0:100] # hundred values\n",
    "c_az=s2_data['signal']['chest']['ACC'][0:,2]#[baseline_to_plot]\n",
    "c_ecg=s2_data['signal']['chest']['ECG'][:,0]#[baseline_to_plot]\n",
    "c_emg=s2_data['signal']['chest']['EMG'][:,0]#[baseline_to_plot]\n",
    "c_eda=s2_data['signal']['chest']['EDA'][:,0]#[baseline_to_plot]\n",
    "c_temp=s2_data['signal']['chest']['Temp'][:,0]#[baseline_to_plot]\n",
    "c_resp=s2_data['signal']['chest']['Resp'][:,0]#[baseline_to_plot]\n",
    "w_ax=s2_data['signal']['wrist']['ACC'][0:,0]#[stress_to_plot]\n",
    "w_ay=s2_data['signal']['wrist']['ACC'][0:,1]#[stress_to_plot]\n",
    "w_az=s2_data['signal']['wrist']['ACC'][0:,2]#[stress_to_plot]\n",
    "w_bvp=s2_data['signal']['wrist']['BVP'][:,0]#[stress_to_plot]\n",
    "w_eda=s2_data['signal']['wrist']['EDA'][:,0]#[stress_to_plot]\n",
    "w_temp=s2_data['signal']['wrist']['TEMP'][:,0]#[stress_to_plot]\n",
    "w_label=s2_data['label']\n",
    "\n",
    "print(\"Equated\")    \n",
    "\n",
    "numpy_data1=np.array([c_ax, c_ay, c_az,c_ecg,c_emg,c_eda,c_temp,c_resp,w_label])\n",
    "numpy_data1=numpy_data1.T\n",
    "\n",
    "#df = pd.DataFrame(data=numpy_data1, columns=[\"c_ax\", \"c_ay\", \"c_az\",\"c_ecg\",\"c_emg\",\"c_eda\",\"c_temp\",\"c_resp\",\"w_ax\",\"w_ay\",\"w_az\",\"w_bvp\",\"w_eda\",\"w_temp\"],orient='index') \n",
    "df = pd.DataFrame(data=numpy_data1, columns=[\"c_ax\", \"c_ay\", \"c_az\",\"c_ecg\",\"c_emg\",\"c_eda\",\"c_temp\",\"c_resp\",\"w_label\"]) \n",
    "\n",
    "print(\"data frame combined\")\n"
   ]
  },
  {
   "cell_type": "code",
   "execution_count": 8,
   "metadata": {},
   "outputs": [
    {
     "name": "stdout",
     "output_type": "stream",
     "text": [
      "IQR is\n",
      " c_ax       0.030000\n",
      "c_ay       0.054600\n",
      "c_az       0.105600\n",
      "c_ecg      0.149185\n",
      "c_emg      0.013596\n",
      "c_eda      0.374985\n",
      "c_temp     0.418396\n",
      "c_resp     4.327393\n",
      "w_label    3.000000\n",
      "dtype: float64\n",
      "(2317609, 9)\n"
     ]
    }
   ],
   "source": [
    "Q1 = df.quantile(0.25)\n",
    "Q3 = df.quantile(0.75)\n",
    "IQR = Q3 - Q1\n",
    "print(\"IQR is\\n\", IQR)\n",
    "#print((df < (Q1 - 1.5 * IQR)) |(df > (Q3 + 1.5 * IQR)) )\n",
    "df_out = df[~((df < (Q1 - 1.5 * IQR)) |(df > (Q3 + 1.5 * IQR))).any(axis=1)]\n",
    "print(df_out.shape)"
   ]
  },
  {
   "cell_type": "code",
   "execution_count": 9,
   "metadata": {},
   "outputs": [],
   "source": [
    "norm_df_out=(df_out-df_out.mean())/df_out.std()\n",
    "\n",
    "norm_y_11 = df_out.w_label #keep original labels Dont normalize labels\n",
    "norm_x_11 = norm_df_out.drop('w_label',axis=1)\n",
    "\n",
    "\n",
    "norm_x_train_11,norm_x_test_11,norm_y_train_11,norm_y_test_11=train_test_split(norm_x_11,norm_y_11,test_size=0.2)"
   ]
  },
  {
   "cell_type": "code",
   "execution_count": 10,
   "metadata": {},
   "outputs": [
    {
     "name": "stdout",
     "output_type": "stream",
     "text": [
      "              precision    recall  f1-score   support\n",
      "\n",
      "         0.0     0.7993    0.7059    0.7497    773070\n",
      "         1.0     0.9561    0.8723    0.9123    651869\n",
      "         2.0     0.8132    0.9185    0.8627    271090\n",
      "         3.0     0.8773    0.9077    0.8922    230729\n",
      "         4.0     0.7569    0.8778    0.8129    322729\n",
      "         5.0     0.5808    0.9629    0.7245     31224\n",
      "         6.0     0.4296    0.9478    0.5912      5246\n",
      "         7.0     0.4731    0.8594    0.6103     31652\n",
      "\n",
      "    accuracy                         0.8277   2317609\n",
      "   macro avg     0.7108    0.8816    0.7695   2317609\n",
      "weighted avg     0.8386    0.8277    0.8290   2317609\n",
      "\n"
     ]
    }
   ],
   "source": [
    "qda_clf = QuadraticDiscriminantAnalysis(priors=None, reg_param=0)\n",
    "norm_y_out_11 = cross_val_predict(qda_clf, norm_x_11, norm_y_11, cv=10)\n",
    "lm_11=(classification_report(norm_y_11, norm_y_out_11, digits=4))\n",
    "print(lm_11)\n"
   ]
  },
  {
   "cell_type": "code",
   "execution_count": 2,
   "metadata": {},
   "outputs": [
    {
     "name": "stdout",
     "output_type": "stream",
     "text": [
      "Equated\n",
      "data frame combined\n"
     ]
    }
   ],
   "source": [
    "data_set = '/home/dhananjai/Downloads/Spring_2020/Machine_Learning/ML_Project/dataset/WESAD/'\n",
    "\n",
    "s16_path = data_set + 'S16/S16.pkl'\n",
    "\n",
    "with open(s16_path, 'rb') as file:\n",
    "    s2_data = pickle.load(file, encoding='latin1')\n",
    "    \n",
    "c_ax=s2_data['signal']['chest']['ACC'][0:,0]#[baseline_to_plot]\n",
    "c_ay=s2_data['signal']['chest']['ACC'][0:,1]#[baseline_to_plot]#[0:100] # hundred values\n",
    "c_az=s2_data['signal']['chest']['ACC'][0:,2]#[baseline_to_plot]\n",
    "c_ecg=s2_data['signal']['chest']['ECG'][:,0]#[baseline_to_plot]\n",
    "c_emg=s2_data['signal']['chest']['EMG'][:,0]#[baseline_to_plot]\n",
    "c_eda=s2_data['signal']['chest']['EDA'][:,0]#[baseline_to_plot]\n",
    "c_temp=s2_data['signal']['chest']['Temp'][:,0]#[baseline_to_plot]\n",
    "c_resp=s2_data['signal']['chest']['Resp'][:,0]#[baseline_to_plot]\n",
    "w_ax=s2_data['signal']['wrist']['ACC'][0:,0]#[stress_to_plot]\n",
    "w_ay=s2_data['signal']['wrist']['ACC'][0:,1]#[stress_to_plot]\n",
    "w_az=s2_data['signal']['wrist']['ACC'][0:,2]#[stress_to_plot]\n",
    "w_bvp=s2_data['signal']['wrist']['BVP'][:,0]#[stress_to_plot]\n",
    "w_eda=s2_data['signal']['wrist']['EDA'][:,0]#[stress_to_plot]\n",
    "w_temp=s2_data['signal']['wrist']['TEMP'][:,0]#[stress_to_plot]\n",
    "w_label=s2_data['label']\n",
    "\n",
    "print(\"Equated\")    \n",
    "\n",
    "numpy_data1=np.array([c_ax, c_ay, c_az,c_ecg,c_emg,c_eda,c_temp,c_resp,w_label])\n",
    "numpy_data1=numpy_data1.T\n",
    "\n",
    "#df = pd.DataFrame(data=numpy_data1, columns=[\"c_ax\", \"c_ay\", \"c_az\",\"c_ecg\",\"c_emg\",\"c_eda\",\"c_temp\",\"c_resp\",\"w_ax\",\"w_ay\",\"w_az\",\"w_bvp\",\"w_eda\",\"w_temp\"],orient='index') \n",
    "df = pd.DataFrame(data=numpy_data1, columns=[\"c_ax\", \"c_ay\", \"c_az\",\"c_ecg\",\"c_emg\",\"c_eda\",\"c_temp\",\"c_resp\",\"w_label\"]) \n",
    "\n",
    "print(\"data frame combined\")\n"
   ]
  },
  {
   "cell_type": "code",
   "execution_count": 3,
   "metadata": {},
   "outputs": [
    {
     "name": "stdout",
     "output_type": "stream",
     "text": [
      "IQR is\n",
      " c_ax       0.026600\n",
      "c_ay       0.057600\n",
      "c_az       0.201200\n",
      "c_ecg      0.169556\n",
      "c_emg      0.014053\n",
      "c_eda      1.145554\n",
      "c_temp     0.399445\n",
      "c_resp     4.496765\n",
      "w_label    2.000000\n",
      "dtype: float64\n",
      "(2609393, 9)\n"
     ]
    }
   ],
   "source": [
    "Q1 = df.quantile(0.25)\n",
    "Q3 = df.quantile(0.75)\n",
    "IQR = Q3 - Q1\n",
    "print(\"IQR is\\n\", IQR)\n",
    "#print((df < (Q1 - 1.5 * IQR)) |(df > (Q3 + 1.5 * IQR)) )\n",
    "df_out = df[~((df < (Q1 - 1.5 * IQR)) |(df > (Q3 + 1.5 * IQR))).any(axis=1)]\n",
    "print(df_out.shape)"
   ]
  },
  {
   "cell_type": "code",
   "execution_count": 4,
   "metadata": {},
   "outputs": [],
   "source": [
    "norm_df_out=(df_out-df_out.mean())/df_out.std()\n",
    "\n",
    "norm_y_16 = df_out.w_label #keep original labels Dont normalize labels\n",
    "norm_x_16 = norm_df_out.drop('w_label',axis=1)\n",
    "\n",
    "\n",
    "norm_x_train_16,norm_x_test_16,norm_y_train_16,norm_y_test_16=train_test_split(norm_x_16,norm_y_16,test_size=0.2)"
   ]
  },
  {
   "cell_type": "code",
   "execution_count": 5,
   "metadata": {},
   "outputs": [
    {
     "data": {
      "text/html": [
       "<div>\n",
       "<style scoped>\n",
       "    .dataframe tbody tr th:only-of-type {\n",
       "        vertical-align: middle;\n",
       "    }\n",
       "\n",
       "    .dataframe tbody tr th {\n",
       "        vertical-align: top;\n",
       "    }\n",
       "\n",
       "    .dataframe thead th {\n",
       "        text-align: right;\n",
       "    }\n",
       "</style>\n",
       "<table border=\"1\" class=\"dataframe\">\n",
       "  <thead>\n",
       "    <tr style=\"text-align: right;\">\n",
       "      <th></th>\n",
       "      <th>c_ax</th>\n",
       "      <th>c_ay</th>\n",
       "      <th>c_az</th>\n",
       "      <th>c_ecg</th>\n",
       "      <th>c_emg</th>\n",
       "      <th>c_eda</th>\n",
       "      <th>c_temp</th>\n",
       "      <th>c_resp</th>\n",
       "    </tr>\n",
       "  </thead>\n",
       "  <tbody>\n",
       "    <tr>\n",
       "      <td>27</td>\n",
       "      <td>1.746846</td>\n",
       "      <td>1.395111</td>\n",
       "      <td>-0.683393</td>\n",
       "      <td>1.260605</td>\n",
       "      <td>-2.186626</td>\n",
       "      <td>-1.151133</td>\n",
       "      <td>-2.634397</td>\n",
       "      <td>-0.554159</td>\n",
       "    </tr>\n",
       "    <tr>\n",
       "      <td>51</td>\n",
       "      <td>1.368761</td>\n",
       "      <td>-1.441374</td>\n",
       "      <td>0.503065</td>\n",
       "      <td>0.237084</td>\n",
       "      <td>2.249138</td>\n",
       "      <td>-1.141169</td>\n",
       "      <td>-2.523829</td>\n",
       "      <td>-0.695345</td>\n",
       "    </tr>\n",
       "    <tr>\n",
       "      <td>52</td>\n",
       "      <td>0.682233</td>\n",
       "      <td>-1.560388</td>\n",
       "      <td>0.471760</td>\n",
       "      <td>-0.008618</td>\n",
       "      <td>2.628958</td>\n",
       "      <td>-1.155852</td>\n",
       "      <td>-2.483013</td>\n",
       "      <td>-0.631451</td>\n",
       "    </tr>\n",
       "    <tr>\n",
       "      <td>53</td>\n",
       "      <td>-0.173438</td>\n",
       "      <td>-1.580224</td>\n",
       "      <td>0.415411</td>\n",
       "      <td>-0.255027</td>\n",
       "      <td>2.425483</td>\n",
       "      <td>-1.157949</td>\n",
       "      <td>-2.541120</td>\n",
       "      <td>-0.623206</td>\n",
       "    </tr>\n",
       "    <tr>\n",
       "      <td>54</td>\n",
       "      <td>-0.800264</td>\n",
       "      <td>-1.609977</td>\n",
       "      <td>0.371584</td>\n",
       "      <td>-0.338934</td>\n",
       "      <td>0.860983</td>\n",
       "      <td>-1.077720</td>\n",
       "      <td>-2.605226</td>\n",
       "      <td>-0.629390</td>\n",
       "    </tr>\n",
       "    <tr>\n",
       "      <td>...</td>\n",
       "      <td>...</td>\n",
       "      <td>...</td>\n",
       "      <td>...</td>\n",
       "      <td>...</td>\n",
       "      <td>...</td>\n",
       "      <td>...</td>\n",
       "      <td>...</td>\n",
       "      <td>...</td>\n",
       "    </tr>\n",
       "    <tr>\n",
       "      <td>3941695</td>\n",
       "      <td>0.403643</td>\n",
       "      <td>0.066128</td>\n",
       "      <td>-0.151209</td>\n",
       "      <td>0.154948</td>\n",
       "      <td>-2.335841</td>\n",
       "      <td>0.537880</td>\n",
       "      <td>0.742274</td>\n",
       "      <td>-0.952468</td>\n",
       "    </tr>\n",
       "    <tr>\n",
       "      <td>3941696</td>\n",
       "      <td>0.353893</td>\n",
       "      <td>0.051251</td>\n",
       "      <td>-0.193470</td>\n",
       "      <td>0.189289</td>\n",
       "      <td>-1.616895</td>\n",
       "      <td>0.407310</td>\n",
       "      <td>0.854135</td>\n",
       "      <td>-0.948861</td>\n",
       "    </tr>\n",
       "    <tr>\n",
       "      <td>3941697</td>\n",
       "      <td>0.373795</td>\n",
       "      <td>0.056210</td>\n",
       "      <td>-0.173122</td>\n",
       "      <td>0.175836</td>\n",
       "      <td>-1.001947</td>\n",
       "      <td>0.396299</td>\n",
       "      <td>0.971996</td>\n",
       "      <td>-0.946800</td>\n",
       "    </tr>\n",
       "    <tr>\n",
       "      <td>3941698</td>\n",
       "      <td>0.333996</td>\n",
       "      <td>0.095881</td>\n",
       "      <td>-0.173122</td>\n",
       "      <td>0.229295</td>\n",
       "      <td>-0.088568</td>\n",
       "      <td>0.388957</td>\n",
       "      <td>0.960351</td>\n",
       "      <td>-0.950407</td>\n",
       "    </tr>\n",
       "    <tr>\n",
       "      <td>3941699</td>\n",
       "      <td>0.204653</td>\n",
       "      <td>0.095881</td>\n",
       "      <td>-0.173122</td>\n",
       "      <td>0.288065</td>\n",
       "      <td>1.322194</td>\n",
       "      <td>0.387909</td>\n",
       "      <td>1.013282</td>\n",
       "      <td>-0.951953</td>\n",
       "    </tr>\n",
       "  </tbody>\n",
       "</table>\n",
       "<p>2609393 rows × 8 columns</p>\n",
       "</div>"
      ],
      "text/plain": [
       "             c_ax      c_ay      c_az     c_ecg     c_emg     c_eda    c_temp  \\\n",
       "27       1.746846  1.395111 -0.683393  1.260605 -2.186626 -1.151133 -2.634397   \n",
       "51       1.368761 -1.441374  0.503065  0.237084  2.249138 -1.141169 -2.523829   \n",
       "52       0.682233 -1.560388  0.471760 -0.008618  2.628958 -1.155852 -2.483013   \n",
       "53      -0.173438 -1.580224  0.415411 -0.255027  2.425483 -1.157949 -2.541120   \n",
       "54      -0.800264 -1.609977  0.371584 -0.338934  0.860983 -1.077720 -2.605226   \n",
       "...           ...       ...       ...       ...       ...       ...       ...   \n",
       "3941695  0.403643  0.066128 -0.151209  0.154948 -2.335841  0.537880  0.742274   \n",
       "3941696  0.353893  0.051251 -0.193470  0.189289 -1.616895  0.407310  0.854135   \n",
       "3941697  0.373795  0.056210 -0.173122  0.175836 -1.001947  0.396299  0.971996   \n",
       "3941698  0.333996  0.095881 -0.173122  0.229295 -0.088568  0.388957  0.960351   \n",
       "3941699  0.204653  0.095881 -0.173122  0.288065  1.322194  0.387909  1.013282   \n",
       "\n",
       "           c_resp  \n",
       "27      -0.554159  \n",
       "51      -0.695345  \n",
       "52      -0.631451  \n",
       "53      -0.623206  \n",
       "54      -0.629390  \n",
       "...           ...  \n",
       "3941695 -0.952468  \n",
       "3941696 -0.948861  \n",
       "3941697 -0.946800  \n",
       "3941698 -0.950407  \n",
       "3941699 -0.951953  \n",
       "\n",
       "[2609393 rows x 8 columns]"
      ]
     },
     "execution_count": 5,
     "metadata": {},
     "output_type": "execute_result"
    }
   ],
   "source": [
    "norm_x_16"
   ]
  },
  {
   "cell_type": "code",
   "execution_count": 6,
   "metadata": {},
   "outputs": [
    {
     "name": "stdout",
     "output_type": "stream",
     "text": [
      "              precision    recall  f1-score   support\n",
      "\n",
      "         0.0     0.8871    0.8691    0.8780   1211982\n",
      "         1.0     0.9844    0.9013    0.9411    693218\n",
      "         2.0     0.7624    0.8202    0.7902    159718\n",
      "         3.0     0.8349    0.8922    0.8626    235242\n",
      "         4.0     0.8643    0.9630    0.9110    272893\n",
      "         5.0     0.5764    0.9520    0.7180     36340\n",
      "\n",
      "    accuracy                         0.8877   2609393\n",
      "   macro avg     0.8183    0.8996    0.8502   2609393\n",
      "weighted avg     0.8939    0.8877    0.8892   2609393\n",
      "\n"
     ]
    }
   ],
   "source": [
    "qda_clf = QuadraticDiscriminantAnalysis(priors=None, reg_param=0)\n",
    "norm_y_out_16 = cross_val_predict(qda_clf, norm_x_16, norm_y_16, cv=10)\n",
    "lm_16=(classification_report(norm_y_16, norm_y_out_16, digits=4))\n",
    "print(lm_16)\n"
   ]
  },
  {
   "cell_type": "code",
   "execution_count": 2,
   "metadata": {},
   "outputs": [
    {
     "name": "stdout",
     "output_type": "stream",
     "text": [
      "Equated\n",
      "data frame combined\n"
     ]
    }
   ],
   "source": [
    "data_set = '/home/dhananjai/Downloads/Spring_2020/Machine_Learning/ML_Project/dataset/WESAD/'\n",
    "\n",
    "s17_path = data_set + 'S17/S17.pkl'\n",
    "\n",
    "with open(s17_path, 'rb') as file:\n",
    "    s2_data = pickle.load(file, encoding='latin1')\n",
    "    \n",
    "c_ax=s2_data['signal']['chest']['ACC'][0:,0]#[baseline_to_plot]\n",
    "c_ay=s2_data['signal']['chest']['ACC'][0:,1]#[baseline_to_plot]#[0:100] # hundred values\n",
    "c_az=s2_data['signal']['chest']['ACC'][0:,2]#[baseline_to_plot]\n",
    "c_ecg=s2_data['signal']['chest']['ECG'][:,0]#[baseline_to_plot]\n",
    "c_emg=s2_data['signal']['chest']['EMG'][:,0]#[baseline_to_plot]\n",
    "c_eda=s2_data['signal']['chest']['EDA'][:,0]#[baseline_to_plot]\n",
    "c_temp=s2_data['signal']['chest']['Temp'][:,0]#[baseline_to_plot]\n",
    "c_resp=s2_data['signal']['chest']['Resp'][:,0]#[baseline_to_plot]\n",
    "w_ax=s2_data['signal']['wrist']['ACC'][0:,0]#[stress_to_plot]\n",
    "w_ay=s2_data['signal']['wrist']['ACC'][0:,1]#[stress_to_plot]\n",
    "w_az=s2_data['signal']['wrist']['ACC'][0:,2]#[stress_to_plot]\n",
    "w_bvp=s2_data['signal']['wrist']['BVP'][:,0]#[stress_to_plot]\n",
    "w_eda=s2_data['signal']['wrist']['EDA'][:,0]#[stress_to_plot]\n",
    "w_temp=s2_data['signal']['wrist']['TEMP'][:,0]#[stress_to_plot]\n",
    "w_label=s2_data['label']\n",
    "\n",
    "print(\"Equated\")    \n",
    "\n",
    "numpy_data1=np.array([c_ax, c_ay, c_az,c_ecg,c_emg,c_eda,c_temp,c_resp,w_label])\n",
    "numpy_data1=numpy_data1.T\n",
    "\n",
    "#df = pd.DataFrame(data=numpy_data1, columns=[\"c_ax\", \"c_ay\", \"c_az\",\"c_ecg\",\"c_emg\",\"c_eda\",\"c_temp\",\"c_resp\",\"w_ax\",\"w_ay\",\"w_az\",\"w_bvp\",\"w_eda\",\"w_temp\"],orient='index') \n",
    "df = pd.DataFrame(data=numpy_data1, columns=[\"c_ax\", \"c_ay\", \"c_az\",\"c_ecg\",\"c_emg\",\"c_eda\",\"c_temp\",\"c_resp\",\"w_label\"]) \n",
    "\n",
    "print(\"data frame combined\")\n"
   ]
  },
  {
   "cell_type": "code",
   "execution_count": 3,
   "metadata": {},
   "outputs": [
    {
     "name": "stdout",
     "output_type": "stream",
     "text": [
      "IQR is\n",
      " c_ax       0.491200\n",
      "c_ay       0.086800\n",
      "c_az       0.610000\n",
      "c_ecg      0.128815\n",
      "c_emg      0.015289\n",
      "c_eda      1.486588\n",
      "c_temp     0.576874\n",
      "c_resp     5.038452\n",
      "w_label    2.000000\n",
      "dtype: float64\n",
      "(3200355, 9)\n"
     ]
    }
   ],
   "source": [
    "Q1 = df.quantile(0.25)\n",
    "Q3 = df.quantile(0.75)\n",
    "IQR = Q3 - Q1\n",
    "print(\"IQR is\\n\", IQR)\n",
    "#print((df < (Q1 - 1.5 * IQR)) |(df > (Q3 + 1.5 * IQR)) )\n",
    "df_out = df[~((df < (Q1 - 1.5 * IQR)) |(df > (Q3 + 1.5 * IQR))).any(axis=1)]\n",
    "print(df_out.shape)"
   ]
  },
  {
   "cell_type": "code",
   "execution_count": 4,
   "metadata": {},
   "outputs": [],
   "source": [
    "norm_df_out=(df_out-df_out.mean())/df_out.std()\n",
    "\n",
    "norm_y_17 = df_out.w_label #keep original labels Dont normalize labels\n",
    "norm_x_17 = norm_df_out.drop('w_label',axis=1)\n",
    "\n",
    "\n",
    "norm_x_train_17,norm_x_test_17,norm_y_train_17,norm_y_test_17=train_test_split(norm_x_17,norm_y_17,test_size=0.2)"
   ]
  },
  {
   "cell_type": "code",
   "execution_count": 5,
   "metadata": {},
   "outputs": [
    {
     "name": "stdout",
     "output_type": "stream",
     "text": [
      "              precision    recall  f1-score   support\n",
      "\n",
      "         0.0     0.8833    0.7893    0.8337   1433013\n",
      "         1.0     0.9889    0.9260    0.9564    695083\n",
      "         2.0     0.9675    0.9465    0.9569    371501\n",
      "         3.0     0.8625    0.9291    0.8945    237371\n",
      "         4.0     0.6080    0.8558    0.7109    427275\n",
      "         5.0     0.7288    0.9759    0.8344     36112\n",
      "\n",
      "    accuracy                         0.8586   3200355\n",
      "   macro avg     0.8398    0.9038    0.8645   3200355\n",
      "weighted avg     0.8760    0.8586    0.8628   3200355\n",
      "\n"
     ]
    }
   ],
   "source": [
    "qda_clf = QuadraticDiscriminantAnalysis(priors=None, reg_param=0)\n",
    "norm_y_out_17 = cross_val_predict(qda_clf, norm_x_17, norm_y_17, cv=10)\n",
    "lm_17=(classification_report(norm_y_17, norm_y_out_17, digits=4))\n",
    "print(lm_17)\n"
   ]
  }
 ],
 "metadata": {
  "kernelspec": {
   "display_name": "Python 3",
   "language": "python",
   "name": "python3"
  },
  "language_info": {
   "codemirror_mode": {
    "name": "ipython",
    "version": 3
   },
   "file_extension": ".py",
   "mimetype": "text/x-python",
   "name": "python",
   "nbconvert_exporter": "python",
   "pygments_lexer": "ipython3",
   "version": "3.11.9"
  }
 },
 "nbformat": 4,
 "nbformat_minor": 2
}
